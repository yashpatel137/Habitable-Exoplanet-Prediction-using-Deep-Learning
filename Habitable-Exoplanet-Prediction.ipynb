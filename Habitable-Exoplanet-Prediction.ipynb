{
 "cells": [
  {
   "cell_type": "markdown",
   "metadata": {},
   "source": [
    "## Importing Libraries"
   ]
  },
  {
   "cell_type": "code",
   "execution_count": 1,
   "metadata": {},
   "outputs": [],
   "source": [
    "import pandas as pd\n",
    "import numpy as np\n",
    "import matplotlib.pyplot as plt\n",
    "import seaborn as sns\n",
    "import sklearn as sk\n",
    "%matplotlib inline"
   ]
  },
  {
   "cell_type": "markdown",
   "metadata": {},
   "source": [
    "## Loading Dataset"
   ]
  },
  {
   "cell_type": "code",
   "execution_count": 2,
   "metadata": {},
   "outputs": [],
   "source": [
    "df=pd.read_csv(\"PHL-EC.csv\")"
   ]
  },
  {
   "cell_type": "code",
   "execution_count": 3,
   "metadata": {},
   "outputs": [
    {
     "data": {
      "text/html": [
       "<div>\n",
       "<style scoped>\n",
       "    .dataframe tbody tr th:only-of-type {\n",
       "        vertical-align: middle;\n",
       "    }\n",
       "\n",
       "    .dataframe tbody tr th {\n",
       "        vertical-align: top;\n",
       "    }\n",
       "\n",
       "    .dataframe thead th {\n",
       "        text-align: right;\n",
       "    }\n",
       "</style>\n",
       "<table border=\"1\" class=\"dataframe\">\n",
       "  <thead>\n",
       "    <tr style=\"text-align: right;\">\n",
       "      <th></th>\n",
       "      <th>P. Name</th>\n",
       "      <th>P. Name Kepler</th>\n",
       "      <th>P. Name KOI</th>\n",
       "      <th>P. Zone Class</th>\n",
       "      <th>P. Mass Class</th>\n",
       "      <th>P. Composition Class</th>\n",
       "      <th>P. Atmosphere Class</th>\n",
       "      <th>P. Habitable Class</th>\n",
       "      <th>P. Min Mass (EU)</th>\n",
       "      <th>P. Mass (EU)</th>\n",
       "      <th>...</th>\n",
       "      <th>P. Int ESI</th>\n",
       "      <th>P. Surf ESI</th>\n",
       "      <th>P. ESI</th>\n",
       "      <th>S. HabCat</th>\n",
       "      <th>P. Habitable</th>\n",
       "      <th>P. Hab Moon</th>\n",
       "      <th>P. Confirmed</th>\n",
       "      <th>P. Disc. Method</th>\n",
       "      <th>P. Disc. Year</th>\n",
       "      <th>Unnamed: 68</th>\n",
       "    </tr>\n",
       "  </thead>\n",
       "  <tbody>\n",
       "    <tr>\n",
       "      <th>0</th>\n",
       "      <td>1RXS 1609 b</td>\n",
       "      <td>NaN</td>\n",
       "      <td>NaN</td>\n",
       "      <td>Cold</td>\n",
       "      <td>Jovian</td>\n",
       "      <td>gas</td>\n",
       "      <td>hydrogen-rich</td>\n",
       "      <td>non-habitable</td>\n",
       "      <td>NaN</td>\n",
       "      <td>4451.16</td>\n",
       "      <td>...</td>\n",
       "      <td>0</td>\n",
       "      <td>0</td>\n",
       "      <td>0.05</td>\n",
       "      <td>0</td>\n",
       "      <td>0</td>\n",
       "      <td>0</td>\n",
       "      <td>1</td>\n",
       "      <td>Imaging</td>\n",
       "      <td>2008</td>\n",
       "      <td>NaN</td>\n",
       "    </tr>\n",
       "    <tr>\n",
       "      <th>1</th>\n",
       "      <td>1SWASP J1407 b</td>\n",
       "      <td>NaN</td>\n",
       "      <td>NaN</td>\n",
       "      <td>Cold</td>\n",
       "      <td>Jovian</td>\n",
       "      <td>gas</td>\n",
       "      <td>hydrogen-rich</td>\n",
       "      <td>non-habitable</td>\n",
       "      <td>6358.80</td>\n",
       "      <td>6358.80</td>\n",
       "      <td>...</td>\n",
       "      <td>0</td>\n",
       "      <td>0</td>\n",
       "      <td>0.07</td>\n",
       "      <td>0</td>\n",
       "      <td>0</td>\n",
       "      <td>0</td>\n",
       "      <td>1</td>\n",
       "      <td>Primary Transit</td>\n",
       "      <td>2012</td>\n",
       "      <td>NaN</td>\n",
       "    </tr>\n",
       "    <tr>\n",
       "      <th>2</th>\n",
       "      <td>2M 0103-55(AB) b</td>\n",
       "      <td>NaN</td>\n",
       "      <td>NaN</td>\n",
       "      <td>Cold</td>\n",
       "      <td>Jovian</td>\n",
       "      <td>gas</td>\n",
       "      <td>hydrogen-rich</td>\n",
       "      <td>non-habitable</td>\n",
       "      <td>4133.22</td>\n",
       "      <td>4133.22</td>\n",
       "      <td>...</td>\n",
       "      <td>0</td>\n",
       "      <td>0</td>\n",
       "      <td>0.06</td>\n",
       "      <td>0</td>\n",
       "      <td>0</td>\n",
       "      <td>0</td>\n",
       "      <td>1</td>\n",
       "      <td>Imaging</td>\n",
       "      <td>2013</td>\n",
       "      <td>NaN</td>\n",
       "    </tr>\n",
       "    <tr>\n",
       "      <th>3</th>\n",
       "      <td>2M 0122-24 b</td>\n",
       "      <td>NaN</td>\n",
       "      <td>NaN</td>\n",
       "      <td>Cold</td>\n",
       "      <td>Jovian</td>\n",
       "      <td>gas</td>\n",
       "      <td>hydrogen-rich</td>\n",
       "      <td>non-habitable</td>\n",
       "      <td>NaN</td>\n",
       "      <td>6358.80</td>\n",
       "      <td>...</td>\n",
       "      <td>0</td>\n",
       "      <td>0</td>\n",
       "      <td>0.08</td>\n",
       "      <td>0</td>\n",
       "      <td>0</td>\n",
       "      <td>0</td>\n",
       "      <td>1</td>\n",
       "      <td>Imaging</td>\n",
       "      <td>2013</td>\n",
       "      <td>NaN</td>\n",
       "    </tr>\n",
       "    <tr>\n",
       "      <th>4</th>\n",
       "      <td>2M 0219-39 b</td>\n",
       "      <td>NaN</td>\n",
       "      <td>NaN</td>\n",
       "      <td>Cold</td>\n",
       "      <td>Jovian</td>\n",
       "      <td>gas</td>\n",
       "      <td>hydrogen-rich</td>\n",
       "      <td>non-habitable</td>\n",
       "      <td>NaN</td>\n",
       "      <td>4419.37</td>\n",
       "      <td>...</td>\n",
       "      <td>0</td>\n",
       "      <td>0</td>\n",
       "      <td>0.06</td>\n",
       "      <td>0</td>\n",
       "      <td>0</td>\n",
       "      <td>0</td>\n",
       "      <td>1</td>\n",
       "      <td>Imaging</td>\n",
       "      <td>2015</td>\n",
       "      <td>NaN</td>\n",
       "    </tr>\n",
       "  </tbody>\n",
       "</table>\n",
       "<p>5 rows × 69 columns</p>\n",
       "</div>"
      ],
      "text/plain": [
       "            P. Name P. Name Kepler  P. Name KOI P. Zone Class P. Mass Class  \\\n",
       "0       1RXS 1609 b            NaN          NaN          Cold        Jovian   \n",
       "1    1SWASP J1407 b            NaN          NaN          Cold        Jovian   \n",
       "2  2M 0103-55(AB) b            NaN          NaN          Cold        Jovian   \n",
       "3      2M 0122-24 b            NaN          NaN          Cold        Jovian   \n",
       "4      2M 0219-39 b            NaN          NaN          Cold        Jovian   \n",
       "\n",
       "  P. Composition Class P. Atmosphere Class P. Habitable Class  \\\n",
       "0                  gas       hydrogen-rich      non-habitable   \n",
       "1                  gas       hydrogen-rich      non-habitable   \n",
       "2                  gas       hydrogen-rich      non-habitable   \n",
       "3                  gas       hydrogen-rich      non-habitable   \n",
       "4                  gas       hydrogen-rich      non-habitable   \n",
       "\n",
       "   P. Min Mass (EU)  P. Mass (EU)  ...  P. Int ESI  P. Surf ESI  P. ESI  \\\n",
       "0               NaN       4451.16  ...           0            0    0.05   \n",
       "1           6358.80       6358.80  ...           0            0    0.07   \n",
       "2           4133.22       4133.22  ...           0            0    0.06   \n",
       "3               NaN       6358.80  ...           0            0    0.08   \n",
       "4               NaN       4419.37  ...           0            0    0.06   \n",
       "\n",
       "   S. HabCat  P. Habitable P. Hab Moon P. Confirmed  P. Disc. Method  \\\n",
       "0          0             0           0            1          Imaging   \n",
       "1          0             0           0            1  Primary Transit   \n",
       "2          0             0           0            1          Imaging   \n",
       "3          0             0           0            1          Imaging   \n",
       "4          0             0           0            1          Imaging   \n",
       "\n",
       "   P. Disc. Year  Unnamed: 68  \n",
       "0           2008          NaN  \n",
       "1           2012          NaN  \n",
       "2           2013          NaN  \n",
       "3           2013          NaN  \n",
       "4           2015          NaN  \n",
       "\n",
       "[5 rows x 69 columns]"
      ]
     },
     "execution_count": 3,
     "metadata": {},
     "output_type": "execute_result"
    }
   ],
   "source": [
    "df.head()"
   ]
  },
  {
   "cell_type": "markdown",
   "metadata": {},
   "source": [
    "## Exploratory Data Analysis"
   ]
  },
  {
   "cell_type": "code",
   "execution_count": 4,
   "metadata": {},
   "outputs": [
    {
     "data": {
      "text/plain": [
       "Index(['P. Name', 'P. Name Kepler', 'P. Name KOI', 'P. Zone Class',\n",
       "       'P. Mass Class', 'P. Composition Class', 'P. Atmosphere Class',\n",
       "       'P. Habitable Class', 'P. Min Mass (EU)', 'P. Mass (EU)',\n",
       "       'P. Max Mass (EU)', 'P. Radius (EU)', 'P. Density (EU)',\n",
       "       'P. Gravity (EU)', 'P. Esc Vel (EU)', 'P. SFlux Min (EU)',\n",
       "       'P. SFlux Mean (EU)', 'P. SFlux Max (EU)', 'P. Teq Min (K)',\n",
       "       'P. Teq Mean (K)', 'P. Teq Max (K)', 'P. Ts Min (K)', 'P. Ts Mean (K)',\n",
       "       'P. Ts Max (K)', 'P. Surf Press (EU)', 'P. Mag', 'P. Appar Size (deg)',\n",
       "       'P. Period (days)', 'P. Sem Major Axis (AU)', 'P. Eccentricity',\n",
       "       'P. Mean Distance (AU)', 'P. Inclination (deg)', 'P. Omega (deg)',\n",
       "       'S. Name', 'S. Name HD', 'S. Name HIP', 'S. Constellation', 'S. Type',\n",
       "       'S. Mass (SU)', 'S. Radius (SU)', 'S. Teff (K)', 'S. Luminosity (SU)',\n",
       "       'S. [Fe/H]', 'S. Age (Gyrs)', 'S. Appar Mag', 'S. Distance (pc)',\n",
       "       'S. RA (hrs)', 'S. DEC (deg)', 'S. Mag from Planet',\n",
       "       'S. Size from Planet (deg)', 'S. No. Planets', 'S. No. Planets HZ',\n",
       "       'S. Hab Zone Min (AU)', 'S. Hab Zone Max (AU)', 'P. HZD', 'P. HZC',\n",
       "       'P. HZA', 'P. HZI', 'P. SPH', 'P. Int ESI', 'P. Surf ESI', 'P. ESI',\n",
       "       'S. HabCat', 'P. Habitable', 'P. Hab Moon', 'P. Confirmed',\n",
       "       'P. Disc. Method', 'P. Disc. Year', 'Unnamed: 68'],\n",
       "      dtype='object')"
      ]
     },
     "execution_count": 4,
     "metadata": {},
     "output_type": "execute_result"
    }
   ],
   "source": [
    "df.columns"
   ]
  },
  {
   "cell_type": "code",
   "execution_count": 5,
   "metadata": {},
   "outputs": [
    {
     "data": {
      "text/plain": [
       "(3875, 69)"
      ]
     },
     "execution_count": 5,
     "metadata": {},
     "output_type": "execute_result"
    }
   ],
   "source": [
    "df.shape"
   ]
  },
  {
   "cell_type": "code",
   "execution_count": 6,
   "metadata": {},
   "outputs": [
    {
     "name": "stdout",
     "output_type": "stream",
     "text": [
      "<class 'pandas.core.frame.DataFrame'>\n",
      "RangeIndex: 3875 entries, 0 to 3874\n",
      "Data columns (total 69 columns):\n",
      " #   Column                     Non-Null Count  Dtype  \n",
      "---  ------                     --------------  -----  \n",
      " 0   P. Name                    3875 non-null   object \n",
      " 1   P. Name Kepler             2328 non-null   object \n",
      " 2   P. Name KOI                933 non-null    float64\n",
      " 3   P. Zone Class              3829 non-null   object \n",
      " 4   P. Mass Class              3869 non-null   object \n",
      " 5   P. Composition Class       3834 non-null   object \n",
      " 6   P. Atmosphere Class        3790 non-null   object \n",
      " 7   P. Habitable Class         3875 non-null   object \n",
      " 8   P. Min Mass (EU)           1148 non-null   float64\n",
      " 9   P. Mass (EU)               3842 non-null   float64\n",
      " 10  P. Max Mass (EU)           0 non-null      float64\n",
      " 11  P. Radius (EU)             3863 non-null   float64\n",
      " 12  P. Density (EU)            3834 non-null   float64\n",
      " 13  P. Gravity (EU)            3834 non-null   float64\n",
      " 14  P. Esc Vel (EU)            3834 non-null   float64\n",
      " 15  P. SFlux Min (EU)          3875 non-null   object \n",
      " 16  P. SFlux Mean (EU)         3875 non-null   object \n",
      " 17  P. SFlux Max (EU)          3875 non-null   object \n",
      " 18  P. Teq Min (K)             3829 non-null   float64\n",
      " 19  P. Teq Mean (K)            3829 non-null   float64\n",
      " 20  P. Teq Max (K)             3829 non-null   float64\n",
      " 21  P. Ts Min (K)              1749 non-null   float64\n",
      " 22  P. Ts Mean (K)             1749 non-null   float64\n",
      " 23  P. Ts Max (K)              1749 non-null   float64\n",
      " 24  P. Surf Press (EU)         3834 non-null   float64\n",
      " 25  P. Mag                     3819 non-null   float64\n",
      " 26  P. Appar Size (deg)        3863 non-null   float64\n",
      " 27  P. Period (days)           3725 non-null   float64\n",
      " 28  P. Sem Major Axis (AU)     3840 non-null   float64\n",
      " 29  P. Eccentricity            3875 non-null   float64\n",
      " 30  P. Mean Distance (AU)      3840 non-null   float64\n",
      " 31  P. Inclination (deg)       724 non-null    float64\n",
      " 32  P. Omega (deg)             3875 non-null   float64\n",
      " 33  S. Name                    3875 non-null   object \n",
      " 34  S. Name HD                 481 non-null    object \n",
      " 35  S. Name HIP                521 non-null    object \n",
      " 36  S. Constellation           3875 non-null   object \n",
      " 37  S. Type                    3791 non-null   object \n",
      " 38  S. Mass (SU)               3828 non-null   float64\n",
      " 39  S. Radius (SU)             3763 non-null   float64\n",
      " 40  S. Teff (K)                3776 non-null   float64\n",
      " 41  S. Luminosity (SU)         3847 non-null   float64\n",
      " 42  S. [Fe/H]                  2137 non-null   float64\n",
      " 43  S. Age (Gyrs)              2322 non-null   float64\n",
      " 44  S. Appar Mag               2946 non-null   float64\n",
      " 45  S. Distance (pc)           2688 non-null   float64\n",
      " 46  S. RA (hrs)                3875 non-null   float64\n",
      " 47  S. DEC (deg)               3875 non-null   float64\n",
      " 48  S. Mag from Planet         3829 non-null   float64\n",
      " 49  S. Size from Planet (deg)  3747 non-null   float64\n",
      " 50  S. No. Planets             3875 non-null   int64  \n",
      " 51  S. No. Planets HZ          3875 non-null   int64  \n",
      " 52  S. Hab Zone Min (AU)       3760 non-null   float64\n",
      " 53  S. Hab Zone Max (AU)       3760 non-null   float64\n",
      " 54  P. HZD                     3829 non-null   float64\n",
      " 55  P. HZC                     3834 non-null   float64\n",
      " 56  P. HZA                     3790 non-null   float64\n",
      " 57  P. HZI                     3790 non-null   float64\n",
      " 58  P. SPH                     1801 non-null   float64\n",
      " 59  P. Int ESI                 3875 non-null   int64  \n",
      " 60  P. Surf ESI                3875 non-null   int64  \n",
      " 61  P. ESI                     3827 non-null   float64\n",
      " 62  S. HabCat                  3875 non-null   int64  \n",
      " 63  P. Habitable               3875 non-null   int64  \n",
      " 64  P. Hab Moon                3875 non-null   int64  \n",
      " 65  P. Confirmed               3875 non-null   int64  \n",
      " 66  P. Disc. Method            3875 non-null   object \n",
      " 67  P. Disc. Year              3875 non-null   object \n",
      " 68  Unnamed: 68                2 non-null      float64\n",
      "dtypes: float64(44), int64(8), object(17)\n",
      "memory usage: 2.0+ MB\n"
     ]
    }
   ],
   "source": [
    "df.info()"
   ]
  },
  {
   "cell_type": "code",
   "execution_count": 7,
   "metadata": {},
   "outputs": [
    {
     "data": {
      "text/html": [
       "<div>\n",
       "<style scoped>\n",
       "    .dataframe tbody tr th:only-of-type {\n",
       "        vertical-align: middle;\n",
       "    }\n",
       "\n",
       "    .dataframe tbody tr th {\n",
       "        vertical-align: top;\n",
       "    }\n",
       "\n",
       "    .dataframe thead th {\n",
       "        text-align: right;\n",
       "    }\n",
       "</style>\n",
       "<table border=\"1\" class=\"dataframe\">\n",
       "  <thead>\n",
       "    <tr style=\"text-align: right;\">\n",
       "      <th></th>\n",
       "      <th>P. Name KOI</th>\n",
       "      <th>P. Min Mass (EU)</th>\n",
       "      <th>P. Mass (EU)</th>\n",
       "      <th>P. Max Mass (EU)</th>\n",
       "      <th>P. Radius (EU)</th>\n",
       "      <th>P. Density (EU)</th>\n",
       "      <th>P. Gravity (EU)</th>\n",
       "      <th>P. Esc Vel (EU)</th>\n",
       "      <th>P. Teq Min (K)</th>\n",
       "      <th>P. Teq Mean (K)</th>\n",
       "      <th>...</th>\n",
       "      <th>P. HZI</th>\n",
       "      <th>P. SPH</th>\n",
       "      <th>P. Int ESI</th>\n",
       "      <th>P. Surf ESI</th>\n",
       "      <th>P. ESI</th>\n",
       "      <th>S. HabCat</th>\n",
       "      <th>P. Habitable</th>\n",
       "      <th>P. Hab Moon</th>\n",
       "      <th>P. Confirmed</th>\n",
       "      <th>Unnamed: 68</th>\n",
       "    </tr>\n",
       "  </thead>\n",
       "  <tbody>\n",
       "    <tr>\n",
       "      <th>count</th>\n",
       "      <td>933.000000</td>\n",
       "      <td>1148.000000</td>\n",
       "      <td>3842.000000</td>\n",
       "      <td>0.0</td>\n",
       "      <td>3863.000000</td>\n",
       "      <td>3834.000000</td>\n",
       "      <td>3834.000000</td>\n",
       "      <td>3834.000000</td>\n",
       "      <td>3829.000000</td>\n",
       "      <td>3829.000000</td>\n",
       "      <td>...</td>\n",
       "      <td>3790.000000</td>\n",
       "      <td>1801.000000</td>\n",
       "      <td>3875.0</td>\n",
       "      <td>3875.0</td>\n",
       "      <td>3827.000000</td>\n",
       "      <td>3875.000000</td>\n",
       "      <td>3875.000000</td>\n",
       "      <td>3875.000000</td>\n",
       "      <td>3875.000000</td>\n",
       "      <td>2.0</td>\n",
       "    </tr>\n",
       "    <tr>\n",
       "      <th>mean</th>\n",
       "      <td>1031.676120</td>\n",
       "      <td>1581.618824</td>\n",
       "      <td>578.509357</td>\n",
       "      <td>NaN</td>\n",
       "      <td>5.387137</td>\n",
       "      <td>1.524917</td>\n",
       "      <td>6.375391</td>\n",
       "      <td>4.234549</td>\n",
       "      <td>753.497989</td>\n",
       "      <td>764.532332</td>\n",
       "      <td>...</td>\n",
       "      <td>0.216499</td>\n",
       "      <td>0.009384</td>\n",
       "      <td>0.0</td>\n",
       "      <td>0.0</td>\n",
       "      <td>0.263951</td>\n",
       "      <td>0.066323</td>\n",
       "      <td>0.014194</td>\n",
       "      <td>0.010323</td>\n",
       "      <td>0.994323</td>\n",
       "      <td>2015.0</td>\n",
       "    </tr>\n",
       "    <tr>\n",
       "      <th>std</th>\n",
       "      <td>746.112851</td>\n",
       "      <td>3420.572566</td>\n",
       "      <td>2133.583989</td>\n",
       "      <td>NaN</td>\n",
       "      <td>4.805069</td>\n",
       "      <td>14.067200</td>\n",
       "      <td>27.874534</td>\n",
       "      <td>5.806083</td>\n",
       "      <td>497.887357</td>\n",
       "      <td>498.540769</td>\n",
       "      <td>...</td>\n",
       "      <td>0.108930</td>\n",
       "      <td>0.084078</td>\n",
       "      <td>0.0</td>\n",
       "      <td>0.0</td>\n",
       "      <td>0.135512</td>\n",
       "      <td>0.248877</td>\n",
       "      <td>0.118303</td>\n",
       "      <td>0.101087</td>\n",
       "      <td>0.075144</td>\n",
       "      <td>0.0</td>\n",
       "    </tr>\n",
       "    <tr>\n",
       "      <th>min</th>\n",
       "      <td>0.000000</td>\n",
       "      <td>0.000000</td>\n",
       "      <td>0.000000</td>\n",
       "      <td>NaN</td>\n",
       "      <td>0.100000</td>\n",
       "      <td>0.000000</td>\n",
       "      <td>0.010000</td>\n",
       "      <td>0.080000</td>\n",
       "      <td>1.100000</td>\n",
       "      <td>1.100000</td>\n",
       "      <td>...</td>\n",
       "      <td>0.000000</td>\n",
       "      <td>0.000000</td>\n",
       "      <td>0.0</td>\n",
       "      <td>0.0</td>\n",
       "      <td>0.030000</td>\n",
       "      <td>0.000000</td>\n",
       "      <td>0.000000</td>\n",
       "      <td>0.000000</td>\n",
       "      <td>0.000000</td>\n",
       "      <td>2015.0</td>\n",
       "    </tr>\n",
       "    <tr>\n",
       "      <th>25%</th>\n",
       "      <td>438.010000</td>\n",
       "      <td>34.970000</td>\n",
       "      <td>4.012500</td>\n",
       "      <td>NaN</td>\n",
       "      <td>1.720000</td>\n",
       "      <td>0.200000</td>\n",
       "      <td>0.880000</td>\n",
       "      <td>1.390000</td>\n",
       "      <td>411.100000</td>\n",
       "      <td>421.300000</td>\n",
       "      <td>...</td>\n",
       "      <td>0.110000</td>\n",
       "      <td>0.000000</td>\n",
       "      <td>0.0</td>\n",
       "      <td>0.0</td>\n",
       "      <td>0.190000</td>\n",
       "      <td>0.000000</td>\n",
       "      <td>0.000000</td>\n",
       "      <td>0.000000</td>\n",
       "      <td>1.000000</td>\n",
       "      <td>2015.0</td>\n",
       "    </tr>\n",
       "    <tr>\n",
       "      <th>50%</th>\n",
       "      <td>834.030000</td>\n",
       "      <td>373.115000</td>\n",
       "      <td>11.790000</td>\n",
       "      <td>NaN</td>\n",
       "      <td>2.740000</td>\n",
       "      <td>0.850000</td>\n",
       "      <td>1.675000</td>\n",
       "      <td>2.150000</td>\n",
       "      <td>691.400000</td>\n",
       "      <td>702.700000</td>\n",
       "      <td>...</td>\n",
       "      <td>0.230000</td>\n",
       "      <td>0.000000</td>\n",
       "      <td>0.0</td>\n",
       "      <td>0.0</td>\n",
       "      <td>0.270000</td>\n",
       "      <td>0.000000</td>\n",
       "      <td>0.000000</td>\n",
       "      <td>0.000000</td>\n",
       "      <td>1.000000</td>\n",
       "      <td>2015.0</td>\n",
       "    </tr>\n",
       "    <tr>\n",
       "      <th>75%</th>\n",
       "      <td>1593.020000</td>\n",
       "      <td>1341.707500</td>\n",
       "      <td>207.140000</td>\n",
       "      <td>NaN</td>\n",
       "      <td>10.195000</td>\n",
       "      <td>1.180000</td>\n",
       "      <td>3.280000</td>\n",
       "      <td>4.250000</td>\n",
       "      <td>1010.500000</td>\n",
       "      <td>1020.100000</td>\n",
       "      <td>...</td>\n",
       "      <td>0.300000</td>\n",
       "      <td>0.000000</td>\n",
       "      <td>0.0</td>\n",
       "      <td>0.0</td>\n",
       "      <td>0.310000</td>\n",
       "      <td>0.000000</td>\n",
       "      <td>0.000000</td>\n",
       "      <td>0.000000</td>\n",
       "      <td>1.000000</td>\n",
       "      <td>2015.0</td>\n",
       "    </tr>\n",
       "    <tr>\n",
       "      <th>max</th>\n",
       "      <td>3663.010000</td>\n",
       "      <td>29759.180000</td>\n",
       "      <td>29759.180000</td>\n",
       "      <td>NaN</td>\n",
       "      <td>28.000000</td>\n",
       "      <td>573.180000</td>\n",
       "      <td>898.750000</td>\n",
       "      <td>47.310000</td>\n",
       "      <td>7112.000000</td>\n",
       "      <td>7112.000000</td>\n",
       "      <td>...</td>\n",
       "      <td>0.830000</td>\n",
       "      <td>1.000000</td>\n",
       "      <td>0.0</td>\n",
       "      <td>0.0</td>\n",
       "      <td>0.900000</td>\n",
       "      <td>1.000000</td>\n",
       "      <td>1.000000</td>\n",
       "      <td>1.000000</td>\n",
       "      <td>1.000000</td>\n",
       "      <td>2015.0</td>\n",
       "    </tr>\n",
       "  </tbody>\n",
       "</table>\n",
       "<p>8 rows × 52 columns</p>\n",
       "</div>"
      ],
      "text/plain": [
       "       P. Name KOI  P. Min Mass (EU)  P. Mass (EU)  P. Max Mass (EU)  \\\n",
       "count   933.000000       1148.000000   3842.000000               0.0   \n",
       "mean   1031.676120       1581.618824    578.509357               NaN   \n",
       "std     746.112851       3420.572566   2133.583989               NaN   \n",
       "min       0.000000          0.000000      0.000000               NaN   \n",
       "25%     438.010000         34.970000      4.012500               NaN   \n",
       "50%     834.030000        373.115000     11.790000               NaN   \n",
       "75%    1593.020000       1341.707500    207.140000               NaN   \n",
       "max    3663.010000      29759.180000  29759.180000               NaN   \n",
       "\n",
       "       P. Radius (EU)  P. Density (EU)  P. Gravity (EU)  P. Esc Vel (EU)  \\\n",
       "count     3863.000000      3834.000000      3834.000000      3834.000000   \n",
       "mean         5.387137         1.524917         6.375391         4.234549   \n",
       "std          4.805069        14.067200        27.874534         5.806083   \n",
       "min          0.100000         0.000000         0.010000         0.080000   \n",
       "25%          1.720000         0.200000         0.880000         1.390000   \n",
       "50%          2.740000         0.850000         1.675000         2.150000   \n",
       "75%         10.195000         1.180000         3.280000         4.250000   \n",
       "max         28.000000       573.180000       898.750000        47.310000   \n",
       "\n",
       "       P. Teq Min (K)  P. Teq Mean (K)  ...       P. HZI       P. SPH  \\\n",
       "count     3829.000000      3829.000000  ...  3790.000000  1801.000000   \n",
       "mean       753.497989       764.532332  ...     0.216499     0.009384   \n",
       "std        497.887357       498.540769  ...     0.108930     0.084078   \n",
       "min          1.100000         1.100000  ...     0.000000     0.000000   \n",
       "25%        411.100000       421.300000  ...     0.110000     0.000000   \n",
       "50%        691.400000       702.700000  ...     0.230000     0.000000   \n",
       "75%       1010.500000      1020.100000  ...     0.300000     0.000000   \n",
       "max       7112.000000      7112.000000  ...     0.830000     1.000000   \n",
       "\n",
       "       P. Int ESI  P. Surf ESI       P. ESI    S. HabCat  P. Habitable  \\\n",
       "count      3875.0       3875.0  3827.000000  3875.000000   3875.000000   \n",
       "mean          0.0          0.0     0.263951     0.066323      0.014194   \n",
       "std           0.0          0.0     0.135512     0.248877      0.118303   \n",
       "min           0.0          0.0     0.030000     0.000000      0.000000   \n",
       "25%           0.0          0.0     0.190000     0.000000      0.000000   \n",
       "50%           0.0          0.0     0.270000     0.000000      0.000000   \n",
       "75%           0.0          0.0     0.310000     0.000000      0.000000   \n",
       "max           0.0          0.0     0.900000     1.000000      1.000000   \n",
       "\n",
       "       P. Hab Moon  P. Confirmed  Unnamed: 68  \n",
       "count  3875.000000   3875.000000          2.0  \n",
       "mean      0.010323      0.994323       2015.0  \n",
       "std       0.101087      0.075144          0.0  \n",
       "min       0.000000      0.000000       2015.0  \n",
       "25%       0.000000      1.000000       2015.0  \n",
       "50%       0.000000      1.000000       2015.0  \n",
       "75%       0.000000      1.000000       2015.0  \n",
       "max       1.000000      1.000000       2015.0  \n",
       "\n",
       "[8 rows x 52 columns]"
      ]
     },
     "execution_count": 7,
     "metadata": {},
     "output_type": "execute_result"
    }
   ],
   "source": [
    "df.describe()"
   ]
  },
  {
   "cell_type": "code",
   "execution_count": 8,
   "metadata": {},
   "outputs": [],
   "source": [
    "## Missing Values\n",
    "## All The Numerical Variables\n",
    "## Distribution of the Numerical Variables\n",
    "## Categorical Variables\n",
    "## Cardinality of Categorical Variables\n",
    "## Outliers\n",
    "## Relationship between independent and dependent feature"
   ]
  },
  {
   "cell_type": "code",
   "execution_count": 9,
   "metadata": {},
   "outputs": [],
   "source": [
    "pd.options.display.min_rows = 80"
   ]
  },
  {
   "cell_type": "code",
   "execution_count": 10,
   "metadata": {},
   "outputs": [
    {
     "data": {
      "text/plain": [
       "P. Name                         0\n",
       "P. Name Kepler               1547\n",
       "P. Name KOI                  2942\n",
       "P. Zone Class                  46\n",
       "P. Mass Class                   6\n",
       "P. Composition Class           41\n",
       "P. Atmosphere Class            85\n",
       "P. Habitable Class              0\n",
       "P. Min Mass (EU)             2727\n",
       "P. Mass (EU)                   33\n",
       "P. Max Mass (EU)             3875\n",
       "P. Radius (EU)                 12\n",
       "P. Density (EU)                41\n",
       "P. Gravity (EU)                41\n",
       "P. Esc Vel (EU)                41\n",
       "P. SFlux Min (EU)               0\n",
       "P. SFlux Mean (EU)              0\n",
       "P. SFlux Max (EU)               0\n",
       "P. Teq Min (K)                 46\n",
       "P. Teq Mean (K)                46\n",
       "P. Teq Max (K)                 46\n",
       "P. Ts Min (K)                2126\n",
       "P. Ts Mean (K)               2126\n",
       "P. Ts Max (K)                2126\n",
       "P. Surf Press (EU)             41\n",
       "P. Mag                         56\n",
       "P. Appar Size (deg)            12\n",
       "P. Period (days)              150\n",
       "P. Sem Major Axis (AU)         35\n",
       "P. Eccentricity                 0\n",
       "                             ... \n",
       "S. Radius (SU)                112\n",
       "S. Teff (K)                    99\n",
       "S. Luminosity (SU)             28\n",
       "S. [Fe/H]                    1738\n",
       "S. Age (Gyrs)                1553\n",
       "S. Appar Mag                  929\n",
       "S. Distance (pc)             1187\n",
       "S. RA (hrs)                     0\n",
       "S. DEC (deg)                    0\n",
       "S. Mag from Planet             46\n",
       "S. Size from Planet (deg)     128\n",
       "S. No. Planets                  0\n",
       "S. No. Planets HZ               0\n",
       "S. Hab Zone Min (AU)          115\n",
       "S. Hab Zone Max (AU)          115\n",
       "P. HZD                         46\n",
       "P. HZC                         41\n",
       "P. HZA                         85\n",
       "P. HZI                         85\n",
       "P. SPH                       2074\n",
       "P. Int ESI                      0\n",
       "P. Surf ESI                     0\n",
       "P. ESI                         48\n",
       "S. HabCat                       0\n",
       "P. Habitable                    0\n",
       "P. Hab Moon                     0\n",
       "P. Confirmed                    0\n",
       "P. Disc. Method                 0\n",
       "P. Disc. Year                   0\n",
       "Unnamed: 68                  3873\n",
       "Length: 69, dtype: int64"
      ]
     },
     "execution_count": 10,
     "metadata": {},
     "output_type": "execute_result"
    }
   ],
   "source": [
    "df.isnull().sum()"
   ]
  },
  {
   "cell_type": "code",
   "execution_count": 11,
   "metadata": {},
   "outputs": [
    {
     "data": {
      "text/plain": [
       "['P. Name Kepler',\n",
       " 'P. Name KOI',\n",
       " 'P. Zone Class',\n",
       " 'P. Mass Class',\n",
       " 'P. Composition Class',\n",
       " 'P. Atmosphere Class',\n",
       " 'P. Min Mass (EU)',\n",
       " 'P. Mass (EU)',\n",
       " 'P. Max Mass (EU)',\n",
       " 'P. Radius (EU)',\n",
       " 'P. Density (EU)',\n",
       " 'P. Gravity (EU)',\n",
       " 'P. Esc Vel (EU)',\n",
       " 'P. Teq Min (K)',\n",
       " 'P. Teq Mean (K)',\n",
       " 'P. Teq Max (K)',\n",
       " 'P. Ts Min (K)',\n",
       " 'P. Ts Mean (K)',\n",
       " 'P. Ts Max (K)',\n",
       " 'P. Surf Press (EU)',\n",
       " 'P. Mag',\n",
       " 'P. Appar Size (deg)',\n",
       " 'P. Period (days)',\n",
       " 'P. Sem Major Axis (AU)',\n",
       " 'P. Mean Distance (AU)',\n",
       " 'P. Inclination (deg)',\n",
       " 'S. Name HD',\n",
       " 'S. Name HIP',\n",
       " 'S. Type',\n",
       " 'S. Mass (SU)',\n",
       " 'S. Radius (SU)',\n",
       " 'S. Teff (K)',\n",
       " 'S. Luminosity (SU)',\n",
       " 'S. [Fe/H]',\n",
       " 'S. Age (Gyrs)',\n",
       " 'S. Appar Mag',\n",
       " 'S. Distance (pc)',\n",
       " 'S. Mag from Planet',\n",
       " 'S. Size from Planet (deg)',\n",
       " 'S. Hab Zone Min (AU)',\n",
       " 'S. Hab Zone Max (AU)',\n",
       " 'P. HZD',\n",
       " 'P. HZC',\n",
       " 'P. HZA',\n",
       " 'P. HZI',\n",
       " 'P. SPH',\n",
       " 'P. ESI',\n",
       " 'Unnamed: 68']"
      ]
     },
     "execution_count": 11,
     "metadata": {},
     "output_type": "execute_result"
    }
   ],
   "source": [
    "[features for features in df.columns if df[features].isnull().sum()>0]"
   ]
  },
  {
   "cell_type": "code",
   "execution_count": 12,
   "metadata": {},
   "outputs": [],
   "source": [
    "import matplotlib\n",
    "matplotlib.rcParams['figure.figsize']=(12,6)"
   ]
  },
  {
   "cell_type": "code",
   "execution_count": 13,
   "metadata": {},
   "outputs": [
    {
     "data": {
      "text/plain": [
       "<matplotlib.axes._subplots.AxesSubplot at 0x197349d4550>"
      ]
     },
     "execution_count": 13,
     "metadata": {},
     "output_type": "execute_result"
    },
    {
     "data": {
      "image/png": "[encoded data removed]",
      "text/plain": [
       "<Figure size 864x432 with 1 Axes>"
      ]
     },
     "metadata": {
      "needs_background": "light"
     },
     "output_type": "display_data"
    }
   ],
   "source": [
    "sns.heatmap(df.isnull(),yticklabels=False,cbar=False,cmap='viridis')"
   ]
  },
  {
   "cell_type": "markdown",
   "metadata": {},
   "source": [
    "## Missing Values"
   ]
  },
  {
   "cell_type": "code",
   "execution_count": 14,
   "metadata": {},
   "outputs": [
    {
     "name": "stdout",
     "output_type": "stream",
     "text": [
      "P. Name Kepler: 39.92% missing values\n",
      "P. Zone Class: 1.1900000000000002% missing values\n",
      "P. Mass Class: 0.15% missing values\n",
      "P. Composition Class: 1.06% missing values\n",
      "P. Atmosphere Class: 2.19% missing values\n",
      "S. Name HD: 87.59% missing values\n",
      "S. Name HIP: 86.55000000000001% missing values\n",
      "S. Type: 2.17% missing values\n"
     ]
    }
   ],
   "source": [
    "## Capturing all the nan values for categorical variables\n",
    "## First lets handle Categorical features which are missing\n",
    "features_nan=[feature for feature in df.columns if df[feature].isnull().sum()>1 and df[feature].dtypes=='O']\n",
    "\n",
    "for feature in features_nan:\n",
    "    f1=np.round(df[feature].isnull().mean(),4)\n",
    "    print(\"{}: {}% missing values\".format(feature,f1*100))"
   ]
  },
  {
   "cell_type": "code",
   "execution_count": 15,
   "metadata": {},
   "outputs": [
    {
     "name": "stdout",
     "output_type": "stream",
     "text": [
      "P. Name KOI: 75.92% missing values\n",
      "P. Min Mass (EU): 70.37% missing values\n",
      "P. Mass (EU): 0.8500000000000001% missing values\n",
      "P. Max Mass (EU): 100.0% missing values\n",
      "P. Radius (EU): 0.31% missing values\n",
      "P. Density (EU): 1.06% missing values\n",
      "P. Gravity (EU): 1.06% missing values\n",
      "P. Esc Vel (EU): 1.06% missing values\n",
      "P. Teq Min (K): 1.1900000000000002% missing values\n",
      "P. Teq Mean (K): 1.1900000000000002% missing values\n",
      "P. Teq Max (K): 1.1900000000000002% missing values\n",
      "P. Ts Min (K): 54.86% missing values\n",
      "P. Ts Mean (K): 54.86% missing values\n",
      "P. Ts Max (K): 54.86% missing values\n",
      "P. Surf Press (EU): 1.06% missing values\n",
      "P. Mag: 1.4500000000000002% missing values\n",
      "P. Appar Size (deg): 0.31% missing values\n",
      "P. Period (days): 3.8699999999999997% missing values\n",
      "P. Sem Major Axis (AU): 0.8999999999999999% missing values\n",
      "P. Mean Distance (AU): 0.8999999999999999% missing values\n",
      "P. Inclination (deg): 81.32000000000001% missing values\n",
      "S. Mass (SU): 1.21% missing values\n",
      "S. Radius (SU): 2.8899999999999997% missing values\n",
      "S. Teff (K): 2.55% missing values\n",
      "S. Luminosity (SU): 0.72% missing values\n",
      "S. [Fe/H]: 44.85% missing values\n",
      "S. Age (Gyrs): 40.08% missing values\n",
      "S. Appar Mag: 23.97% missing values\n",
      "S. Distance (pc): 30.630000000000003% missing values\n",
      "S. Mag from Planet: 1.1900000000000002% missing values\n",
      "S. Size from Planet (deg): 3.3000000000000003% missing values\n",
      "S. Hab Zone Min (AU): 2.97% missing values\n",
      "S. Hab Zone Max (AU): 2.97% missing values\n",
      "P. HZD: 1.1900000000000002% missing values\n",
      "P. HZC: 1.06% missing values\n",
      "P. HZA: 2.19% missing values\n",
      "P. HZI: 2.19% missing values\n",
      "P. SPH: 53.52% missing values\n",
      "P. ESI: 1.24% missing values\n",
      "Unnamed: 68: 99.95% missing values\n"
     ]
    }
   ],
   "source": [
    "## Capturing all the nan values for numerical variables\n",
    "## First lets handle Categorical features which are missing\n",
    "numerical_features=[feature for feature in df.columns if df[feature].isnull().sum()>1 and df[feature].dtypes!='O']\n",
    "\n",
    "for feature in numerical_features:\n",
    "    f1=np.round(df[feature].isnull().mean(),decimals=4)\n",
    "    print(\"{}: {}% missing values\".format(feature,f1*100))"
   ]
  },
  {
   "cell_type": "markdown",
   "metadata": {},
   "source": [
    "### Since they are many missing values, we need to find the relationship"
   ]
  },
  {
   "cell_type": "code",
   "execution_count": 16,
   "metadata": {},
   "outputs": [
    {
     "data": {
      "image/png": "[encoded data removed]",
      "text/plain": [
       "<Figure size 864x432 with 1 Axes>"
      ]
     },
     "metadata": {
      "needs_background": "light"
     },
     "output_type": "display_data"
    },
    {
     "data": {
      "image/png": "[encoded data removed]",
      "text/plain": [
       "<Figure size 864x432 with 1 Axes>"
      ]
     },
     "metadata": {
      "needs_background": "light"
     },
     "output_type": "display_data"
    },
    {
     "data": {
      "image/png": "[encoded data removed]",
      "text/plain": [
       "<Figure size 864x432 with 1 Axes>"
      ]
     },
     "metadata": {
      "needs_background": "light"
     },
     "output_type": "display_data"
    },
    {
     "data": {
      "image/png": "[encoded data removed]",
      "text/plain": [
       "<Figure size 864x432 with 1 Axes>"
      ]
     },
     "metadata": {
      "needs_background": "light"
     },
     "output_type": "display_data"
    },
    {
     "data": {
      "image/png": "[encoded data removed]",
      "text/plain": [
       "<Figure size 864x432 with 1 Axes>"
      ]
     },
     "metadata": {
      "needs_background": "light"
     },
     "output_type": "display_data"
    },
    {
     "data": {
      "image/png": "[encoded data removed]",
      "text/plain": [
       "<Figure size 864x432 with 1 Axes>"
      ]
     },
     "metadata": {
      "needs_background": "light"
     },
     "output_type": "display_data"
    },
    {
     "data": {
      "image/png": "[encoded data removed]",
      "text/plain": [
       "<Figure size 864x432 with 1 Axes>"
      ]
     },
     "metadata": {
      "needs_background": "light"
     },
     "output_type": "display_data"
    },
    {
     "data": {
      "image/png": "[encoded data removed]",
      "text/plain": [
       "<Figure size 864x432 with 1 Axes>"
      ]
     },
     "metadata": {
      "needs_background": "light"
     },
     "output_type": "display_data"
    },
    {
     "data": {
      "image/png": "[encoded data removed]",
      "text/plain": [
       "<Figure size 864x432 with 1 Axes>"
      ]
     },
     "metadata": {
      "needs_background": "light"
     },
     "output_type": "display_data"
    },
    {
     "data": {
      "image/png": "[encoded data removed]",
      "text/plain": [
       "<Figure size 864x432 with 1 Axes>"
      ]
     },
     "metadata": {
      "needs_background": "light"
     },
     "output_type": "display_data"
    },
    {
     "data": {
      "image/png": "[encoded data removed]",
      "text/plain": [
       "<Figure size 864x432 with 1 Axes>"
      ]
     },
     "metadata": {
      "needs_background": "light"
     },
     "output_type": "display_data"
    },
    {
     "data": {
      "image/png": "[encoded data removed]",
      "text/plain": [
       "<Figure size 864x432 with 1 Axes>"
      ]
     },
     "metadata": {
      "needs_background": "light"
     },
     "output_type": "display_data"
    },
    {
     "data": {
      "image/png": "[encoded data removed]",
      "text/plain": [
       "<Figure size 864x432 with 1 Axes>"
      ]
     },
     "metadata": {
      "needs_background": "light"
     },
     "output_type": "display_data"
    },
    {
     "data": {
      "image/png": "[encoded data removed]",
      "text/plain": [
       "<Figure size 864x432 with 1 Axes>"
      ]
     },
     "metadata": {
      "needs_background": "light"
     },
     "output_type": "display_data"
    },
    {
     "data": {
      "image/png": "[encoded data removed]",
      "text/plain": [
       "<Figure size 864x432 with 1 Axes>"
      ]
     },
     "metadata": {
      "needs_background": "light"
     },
     "output_type": "display_data"
    },
    {
     "data": {
      "image/png": "[encoded data removed]",
      "text/plain": [
       "<Figure size 864x432 with 1 Axes>"
      ]
     },
     "metadata": {
      "needs_background": "light"
     },
     "output_type": "display_data"
    },
    {
     "data": {
      "image/png": "[encoded data removed]",
      "text/plain": [
       "<Figure size 864x432 with 1 Axes>"
      ]
     },
     "metadata": {
      "needs_background": "light"
     },
     "output_type": "display_data"
    },
    {
     "data": {
      "image/png": "[encoded data removed]",
      "text/plain": [
       "<Figure size 864x432 with 1 Axes>"
      ]
     },
     "metadata": {
      "needs_background": "light"
     },
     "output_type": "display_data"
    },
    {
     "data": {
      "image/png": "[encoded data removed]",
      "text/plain": [
       "<Figure size 864x432 with 1 Axes>"
      ]
     },
     "metadata": {
      "needs_background": "light"
     },
     "output_type": "display_data"
    },
    {
     "data": {
      "image/png": "[encoded data removed]",
      "text/plain": [
       "<Figure size 864x432 with 1 Axes>"
      ]
     },
     "metadata": {
      "needs_background": "light"
     },
     "output_type": "display_data"
    },
    {
     "data": {
      "image/png": "[encoded data removed]",
      "text/plain": [
       "<Figure size 864x432 with 1 Axes>"
      ]
     },
     "metadata": {
      "needs_background": "light"
     },
     "output_type": "display_data"
    },
    {
     "data": {
      "image/png": "[encoded data removed]",
      "text/plain": [
       "<Figure size 864x432 with 1 Axes>"
      ]
     },
     "metadata": {
      "needs_background": "light"
     },
     "output_type": "display_data"
    },
    {
     "data": {
      "image/png": "[encoded data removed]",
      "text/plain": [
       "<Figure size 864x432 with 1 Axes>"
      ]
     },
     "metadata": {
      "needs_background": "light"
     },
     "output_type": "display_data"
    },
    {
     "data": {
      "image/png": "[encoded data removed]",
      "text/plain": [
       "<Figure size 864x432 with 1 Axes>"
      ]
     },
     "metadata": {
      "needs_background": "light"
     },
     "output_type": "display_data"
    },
    {
     "data": {
      "image/png": "[encoded data removed]",
      "text/plain": [
       "<Figure size 864x432 with 1 Axes>"
      ]
     },
     "metadata": {
      "needs_background": "light"
     },
     "output_type": "display_data"
    },
    {
     "data": {
      "image/png": "[encoded data removed]",
      "text/plain": [
       "<Figure size 864x432 with 1 Axes>"
      ]
     },
     "metadata": {
      "needs_background": "light"
     },
     "output_type": "display_data"
    },
    {
     "data": {
      "image/png": "[encoded data removed]",
      "text/plain": [
       "<Figure size 864x432 with 1 Axes>"
      ]
     },
     "metadata": {
      "needs_background": "light"
     },
     "output_type": "display_data"
    },
    {
     "data": {
      "image/png": "[encoded data removed]",
      "text/plain": [
       "<Figure size 864x432 with 1 Axes>"
      ]
     },
     "metadata": {
      "needs_background": "light"
     },
     "output_type": "display_data"
    },
    {
     "data": {
      "image/png": "[encoded data removed]",
      "text/plain": [
       "<Figure size 864x432 with 1 Axes>"
      ]
     },
     "metadata": {
      "needs_background": "light"
     },
     "output_type": "display_data"
    },
    {
     "data": {
      "image/png": "[encoded data removed]",
      "text/plain": [
       "<Figure size 864x432 with 1 Axes>"
      ]
     },
     "metadata": {
      "needs_background": "light"
     },
     "output_type": "display_data"
    },
    {
     "data": {
      "image/png": "[encoded data removed]",
      "text/plain": [
       "<Figure size 864x432 with 1 Axes>"
      ]
     },
     "metadata": {
      "needs_background": "light"
     },
     "output_type": "display_data"
    },
    {
     "data": {
      "image/png": "[encoded data removed]",
      "text/plain": [
       "<Figure size 864x432 with 1 Axes>"
      ]
     },
     "metadata": {
      "needs_background": "light"
     },
     "output_type": "display_data"
    },
    {
     "data": {
      "image/png": "[encoded data removed]",
      "text/plain": [
       "<Figure size 864x432 with 1 Axes>"
      ]
     },
     "metadata": {
      "needs_background": "light"
     },
     "output_type": "display_data"
    },
    {
     "data": {
      "image/png": "[encoded data removed]",
      "text/plain": [
       "<Figure size 864x432 with 1 Axes>"
      ]
     },
     "metadata": {
      "needs_background": "light"
     },
     "output_type": "display_data"
    },
    {
     "data": {
      "image/png": "[encoded data removed]",
      "text/plain": [
       "<Figure size 864x432 with 1 Axes>"
      ]
     },
     "metadata": {
      "needs_background": "light"
     },
     "output_type": "display_data"
    },
    {
     "data": {
      "image/png": "[encoded data removed]",
      "text/plain": [
       "<Figure size 864x432 with 1 Axes>"
      ]
     },
     "metadata": {
      "needs_background": "light"
     },
     "output_type": "display_data"
    },
    {
     "data": {
      "image/png": "[encoded data removed]",
      "text/plain": [
       "<Figure size 864x432 with 1 Axes>"
      ]
     },
     "metadata": {
      "needs_background": "light"
     },
     "output_type": "display_data"
    },
    {
     "data": {
      "image/png": "[encoded data removed]",
      "text/plain": [
       "<Figure size 864x432 with 1 Axes>"
      ]
     },
     "metadata": {
      "needs_background": "light"
     },
     "output_type": "display_data"
    },
    {
     "data": {
      "image/png": "[encoded data removed]",
      "text/plain": [
       "<Figure size 864x432 with 1 Axes>"
      ]
     },
     "metadata": {
      "needs_background": "light"
     },
     "output_type": "display_data"
    },
    {
     "data": {
      "image/png": "[encoded data removed]",
      "text/plain": [
       "<Figure size 864x432 with 1 Axes>"
      ]
     },
     "metadata": {
      "needs_background": "light"
     },
     "output_type": "display_data"
    }
   ],
   "source": [
    "for feature in numerical_features:\n",
    "    data = df.copy()\n",
    "    \n",
    "    # let's make a variable that indicates 1 if the observation was missing or zero otherwise\n",
    "    data[feature] = np.where(data[feature].isnull(), 1, 0)\n",
    "    # let's calculate the mean SalePrice where the information is missing or present\n",
    "    plt.scatter(data[feature],data['P. Habitable'])\n",
    "    plt.xlabel(feature)\n",
    "    plt.ylabel('P. Habitable')\n",
    "    plt.show()"
   ]
  },
  {
   "cell_type": "markdown",
   "metadata": {},
   "source": [
    "### Categorical & Numerical Features"
   ]
  },
  {
   "cell_type": "code",
   "execution_count": 17,
   "metadata": {},
   "outputs": [],
   "source": [
    "categorical_features=[feature for feature in df.columns if df[feature].dtype=='O']"
   ]
  },
  {
   "cell_type": "code",
   "execution_count": 18,
   "metadata": {},
   "outputs": [
    {
     "data": {
      "text/plain": [
       "['P. Name',\n",
       " 'P. Name Kepler',\n",
       " 'P. Zone Class',\n",
       " 'P. Mass Class',\n",
       " 'P. Composition Class',\n",
       " 'P. Atmosphere Class',\n",
       " 'P. Habitable Class',\n",
       " 'P. SFlux Min (EU)',\n",
       " 'P. SFlux Mean (EU)',\n",
       " 'P. SFlux Max (EU)',\n",
       " 'S. Name',\n",
       " 'S. Name HD',\n",
       " 'S. Name HIP',\n",
       " 'S. Constellation',\n",
       " 'S. Type',\n",
       " 'P. Disc. Method',\n",
       " 'P. Disc. Year']"
      ]
     },
     "execution_count": 18,
     "metadata": {},
     "output_type": "execute_result"
    }
   ],
   "source": [
    "categorical_features"
   ]
  },
  {
   "cell_type": "code",
   "execution_count": 19,
   "metadata": {},
   "outputs": [
    {
     "data": {
      "text/html": [
       "<div>\n",
       "<style scoped>\n",
       "    .dataframe tbody tr th:only-of-type {\n",
       "        vertical-align: middle;\n",
       "    }\n",
       "\n",
       "    .dataframe tbody tr th {\n",
       "        vertical-align: top;\n",
       "    }\n",
       "\n",
       "    .dataframe thead th {\n",
       "        text-align: right;\n",
       "    }\n",
       "</style>\n",
       "<table border=\"1\" class=\"dataframe\">\n",
       "  <thead>\n",
       "    <tr style=\"text-align: right;\">\n",
       "      <th></th>\n",
       "      <th>P. Name</th>\n",
       "      <th>P. Name Kepler</th>\n",
       "      <th>P. Zone Class</th>\n",
       "      <th>P. Mass Class</th>\n",
       "      <th>P. Composition Class</th>\n",
       "      <th>P. Atmosphere Class</th>\n",
       "      <th>P. Habitable Class</th>\n",
       "      <th>P. SFlux Min (EU)</th>\n",
       "      <th>P. SFlux Mean (EU)</th>\n",
       "      <th>P. SFlux Max (EU)</th>\n",
       "      <th>S. Name</th>\n",
       "      <th>S. Name HD</th>\n",
       "      <th>S. Name HIP</th>\n",
       "      <th>S. Constellation</th>\n",
       "      <th>S. Type</th>\n",
       "      <th>P. Disc. Method</th>\n",
       "      <th>P. Disc. Year</th>\n",
       "    </tr>\n",
       "  </thead>\n",
       "  <tbody>\n",
       "    <tr>\n",
       "      <th>0</th>\n",
       "      <td>1RXS 1609 b</td>\n",
       "      <td>NaN</td>\n",
       "      <td>Cold</td>\n",
       "      <td>Jovian</td>\n",
       "      <td>gas</td>\n",
       "      <td>hydrogen-rich</td>\n",
       "      <td>non-habitable</td>\n",
       "      <td>4.08E-06</td>\n",
       "      <td>4.08E-06</td>\n",
       "      <td>4.08E-06</td>\n",
       "      <td>1RXS 1609</td>\n",
       "      <td>NaN</td>\n",
       "      <td>NaN</td>\n",
       "      <td>Sco</td>\n",
       "      <td>K7V</td>\n",
       "      <td>Imaging</td>\n",
       "      <td>2008</td>\n",
       "    </tr>\n",
       "    <tr>\n",
       "      <th>1</th>\n",
       "      <td>1SWASP J1407 b</td>\n",
       "      <td>NaN</td>\n",
       "      <td>Cold</td>\n",
       "      <td>Jovian</td>\n",
       "      <td>gas</td>\n",
       "      <td>hydrogen-rich</td>\n",
       "      <td>non-habitable</td>\n",
       "      <td>0.02166914</td>\n",
       "      <td>0.02166914</td>\n",
       "      <td>0.02166914</td>\n",
       "      <td>1SWASP J1407</td>\n",
       "      <td>NaN</td>\n",
       "      <td>NaN</td>\n",
       "      <td>Cen</td>\n",
       "      <td>K</td>\n",
       "      <td>Primary Transit</td>\n",
       "      <td>2012</td>\n",
       "    </tr>\n",
       "    <tr>\n",
       "      <th>2</th>\n",
       "      <td>2M 0103-55(AB) b</td>\n",
       "      <td>NaN</td>\n",
       "      <td>Cold</td>\n",
       "      <td>Jovian</td>\n",
       "      <td>gas</td>\n",
       "      <td>hydrogen-rich</td>\n",
       "      <td>non-habitable</td>\n",
       "      <td>3.96E-06</td>\n",
       "      <td>3.96E-06</td>\n",
       "      <td>3.96E-06</td>\n",
       "      <td>2M 0103-55(AB)</td>\n",
       "      <td>NaN</td>\n",
       "      <td>NaN</td>\n",
       "      <td>Phe</td>\n",
       "      <td>M</td>\n",
       "      <td>Imaging</td>\n",
       "      <td>2013</td>\n",
       "    </tr>\n",
       "    <tr>\n",
       "      <th>3</th>\n",
       "      <td>2M 0122-24 b</td>\n",
       "      <td>NaN</td>\n",
       "      <td>Cold</td>\n",
       "      <td>Jovian</td>\n",
       "      <td>gas</td>\n",
       "      <td>hydrogen-rich</td>\n",
       "      <td>non-habitable</td>\n",
       "      <td>1.03E-05</td>\n",
       "      <td>1.03E-05</td>\n",
       "      <td>1.03E-05</td>\n",
       "      <td>2M 0122-24</td>\n",
       "      <td>NaN</td>\n",
       "      <td>NaN</td>\n",
       "      <td>Cet</td>\n",
       "      <td>M3.5</td>\n",
       "      <td>Imaging</td>\n",
       "      <td>2013</td>\n",
       "    </tr>\n",
       "    <tr>\n",
       "      <th>4</th>\n",
       "      <td>2M 0219-39 b</td>\n",
       "      <td>NaN</td>\n",
       "      <td>Cold</td>\n",
       "      <td>Jovian</td>\n",
       "      <td>gas</td>\n",
       "      <td>hydrogen-rich</td>\n",
       "      <td>non-habitable</td>\n",
       "      <td>2.37E-07</td>\n",
       "      <td>2.37E-07</td>\n",
       "      <td>2.37E-07</td>\n",
       "      <td>2M 0219-39</td>\n",
       "      <td>NaN</td>\n",
       "      <td>NaN</td>\n",
       "      <td>For</td>\n",
       "      <td>M6</td>\n",
       "      <td>Imaging</td>\n",
       "      <td>2015</td>\n",
       "    </tr>\n",
       "    <tr>\n",
       "      <th>5</th>\n",
       "      <td>2M 0441+23 b</td>\n",
       "      <td>NaN</td>\n",
       "      <td>Cold</td>\n",
       "      <td>Jovian</td>\n",
       "      <td>gas</td>\n",
       "      <td>hydrogen-rich</td>\n",
       "      <td>non-habitable</td>\n",
       "      <td>1.26E-07</td>\n",
       "      <td>1.26E-07</td>\n",
       "      <td>1.26E-07</td>\n",
       "      <td>2M 0441+23</td>\n",
       "      <td>NaN</td>\n",
       "      <td>NaN</td>\n",
       "      <td>Tau</td>\n",
       "      <td>M8.5</td>\n",
       "      <td>Imaging</td>\n",
       "      <td>2010</td>\n",
       "    </tr>\n",
       "    <tr>\n",
       "      <th>6</th>\n",
       "      <td>2M 0746+20 b</td>\n",
       "      <td>NaN</td>\n",
       "      <td>Cold</td>\n",
       "      <td>Jovian</td>\n",
       "      <td>gas</td>\n",
       "      <td>hydrogen-rich</td>\n",
       "      <td>non-habitable</td>\n",
       "      <td>9.06E-06</td>\n",
       "      <td>2.29E-05</td>\n",
       "      <td>7.61E-05</td>\n",
       "      <td>2M 0746+20</td>\n",
       "      <td>NaN</td>\n",
       "      <td>NaN</td>\n",
       "      <td>Gem</td>\n",
       "      <td>NaN</td>\n",
       "      <td>Imaging</td>\n",
       "      <td>2010</td>\n",
       "    </tr>\n",
       "    <tr>\n",
       "      <th>7</th>\n",
       "      <td>2M 1207-39 b</td>\n",
       "      <td>NaN</td>\n",
       "      <td>Cold</td>\n",
       "      <td>Jovian</td>\n",
       "      <td>gas</td>\n",
       "      <td>hydrogen-rich</td>\n",
       "      <td>non-habitable</td>\n",
       "      <td>2.74E-08</td>\n",
       "      <td>2.74E-08</td>\n",
       "      <td>2.74E-08</td>\n",
       "      <td>2M 1207-39</td>\n",
       "      <td>NaN</td>\n",
       "      <td>NaN</td>\n",
       "      <td>Cen</td>\n",
       "      <td>M8</td>\n",
       "      <td>Imaging</td>\n",
       "      <td>2004</td>\n",
       "    </tr>\n",
       "    <tr>\n",
       "      <th>8</th>\n",
       "      <td>2M 1938+46 b</td>\n",
       "      <td>NaN</td>\n",
       "      <td>Cold</td>\n",
       "      <td>Jovian</td>\n",
       "      <td>gas</td>\n",
       "      <td>hydrogen-rich</td>\n",
       "      <td>non-habitable</td>\n",
       "      <td>0.1531191</td>\n",
       "      <td>0.1531191</td>\n",
       "      <td>0.1531191</td>\n",
       "      <td>2M 1938+46</td>\n",
       "      <td>NaN</td>\n",
       "      <td>NaN</td>\n",
       "      <td>Cyg</td>\n",
       "      <td>sdB+M</td>\n",
       "      <td>Pulsar</td>\n",
       "      <td>2015</td>\n",
       "    </tr>\n",
       "    <tr>\n",
       "      <th>9</th>\n",
       "      <td>2M 2140+16 b</td>\n",
       "      <td>NaN</td>\n",
       "      <td>Cold</td>\n",
       "      <td>Jovian</td>\n",
       "      <td>gas</td>\n",
       "      <td>hydrogen-rich</td>\n",
       "      <td>non-habitable</td>\n",
       "      <td>1.27E-05</td>\n",
       "      <td>2.09E-05</td>\n",
       "      <td>3.68E-05</td>\n",
       "      <td>2M 2140+16</td>\n",
       "      <td>NaN</td>\n",
       "      <td>NaN</td>\n",
       "      <td>Peg</td>\n",
       "      <td>NaN</td>\n",
       "      <td>Imaging</td>\n",
       "      <td>2010</td>\n",
       "    </tr>\n",
       "    <tr>\n",
       "      <th>10</th>\n",
       "      <td>2M 2206-20 b</td>\n",
       "      <td>NaN</td>\n",
       "      <td>Cold</td>\n",
       "      <td>Jovian</td>\n",
       "      <td>gas</td>\n",
       "      <td>hydrogen-rich</td>\n",
       "      <td>non-habitable</td>\n",
       "      <td>1.65E-05</td>\n",
       "      <td>1.65E-05</td>\n",
       "      <td>1.65E-05</td>\n",
       "      <td>2M 2206-20</td>\n",
       "      <td>NaN</td>\n",
       "      <td>NaN</td>\n",
       "      <td>Aqr</td>\n",
       "      <td>NaN</td>\n",
       "      <td>Imaging</td>\n",
       "      <td>2010</td>\n",
       "    </tr>\n",
       "    <tr>\n",
       "      <th>11</th>\n",
       "      <td>2M 2236+4751 b</td>\n",
       "      <td>NaN</td>\n",
       "      <td>Cold</td>\n",
       "      <td>Jovian</td>\n",
       "      <td>gas</td>\n",
       "      <td>hydrogen-rich</td>\n",
       "      <td>non-habitable</td>\n",
       "      <td>7.43E-07</td>\n",
       "      <td>7.43E-07</td>\n",
       "      <td>7.43E-07</td>\n",
       "      <td>2M 2236+4751</td>\n",
       "      <td>NaN</td>\n",
       "      <td>NaN</td>\n",
       "      <td>Lac</td>\n",
       "      <td>K7</td>\n",
       "      <td>Imaging</td>\n",
       "      <td>2016</td>\n",
       "    </tr>\n",
       "    <tr>\n",
       "      <th>12</th>\n",
       "      <td>2MASS J1450-7841 Ab</td>\n",
       "      <td>NaN</td>\n",
       "      <td>Cold</td>\n",
       "      <td>Jovian</td>\n",
       "      <td>gas</td>\n",
       "      <td>hydrogen-rich</td>\n",
       "      <td>non-habitable</td>\n",
       "      <td>1.56E-09</td>\n",
       "      <td>1.56E-09</td>\n",
       "      <td>1.56E-09</td>\n",
       "      <td>2MASS J1450-7841 Ab</td>\n",
       "      <td>NaN</td>\n",
       "      <td>NaN</td>\n",
       "      <td>Aps</td>\n",
       "      <td>M9p</td>\n",
       "      <td>Imaging</td>\n",
       "      <td>2017</td>\n",
       "    </tr>\n",
       "    <tr>\n",
       "      <th>13</th>\n",
       "      <td>2MASS J1450-7841 Bb</td>\n",
       "      <td>NaN</td>\n",
       "      <td>Cold</td>\n",
       "      <td>Jovian</td>\n",
       "      <td>gas</td>\n",
       "      <td>hydrogen-rich</td>\n",
       "      <td>non-habitable</td>\n",
       "      <td>1.56E-09</td>\n",
       "      <td>1.56E-09</td>\n",
       "      <td>1.56E-09</td>\n",
       "      <td>2MASS J1450-7841 Bb</td>\n",
       "      <td>NaN</td>\n",
       "      <td>NaN</td>\n",
       "      <td>Aps</td>\n",
       "      <td>M8p</td>\n",
       "      <td>Imaging</td>\n",
       "      <td>2017</td>\n",
       "    </tr>\n",
       "    <tr>\n",
       "      <th>14</th>\n",
       "      <td>2MASS J2250+2325 b</td>\n",
       "      <td>NaN</td>\n",
       "      <td>NaN</td>\n",
       "      <td>Jovian</td>\n",
       "      <td>gas</td>\n",
       "      <td>NaN</td>\n",
       "      <td>non-habitable</td>\n",
       "      <td></td>\n",
       "      <td></td>\n",
       "      <td></td>\n",
       "      <td>2MASS J2250+2325</td>\n",
       "      <td>NaN</td>\n",
       "      <td>NaN</td>\n",
       "      <td>Peg</td>\n",
       "      <td>M3</td>\n",
       "      <td>Imaging</td>\n",
       "      <td>2017</td>\n",
       "    </tr>\n",
       "    <tr>\n",
       "      <th>15</th>\n",
       "      <td>2MASS J11193254 AB b</td>\n",
       "      <td>NaN</td>\n",
       "      <td>NaN</td>\n",
       "      <td>Jovian</td>\n",
       "      <td>gas</td>\n",
       "      <td>NaN</td>\n",
       "      <td>non-habitable</td>\n",
       "      <td></td>\n",
       "      <td></td>\n",
       "      <td></td>\n",
       "      <td>2MASS J11193254 AB</td>\n",
       "      <td>NaN</td>\n",
       "      <td>NaN</td>\n",
       "      <td>Crt</td>\n",
       "      <td>L7</td>\n",
       "      <td>Imaging</td>\n",
       "      <td>2017</td>\n",
       "    </tr>\n",
       "    <tr>\n",
       "      <th>16</th>\n",
       "      <td>2M J2126-81 b</td>\n",
       "      <td>NaN</td>\n",
       "      <td>Cold</td>\n",
       "      <td>Jovian</td>\n",
       "      <td>gas</td>\n",
       "      <td>hydrogen-rich</td>\n",
       "      <td>non-habitable</td>\n",
       "      <td>7.82E-09</td>\n",
       "      <td>7.82E-09</td>\n",
       "      <td>7.82E-09</td>\n",
       "      <td>2M J2126-81</td>\n",
       "      <td>NaN</td>\n",
       "      <td>NaN</td>\n",
       "      <td>Oct</td>\n",
       "      <td>M2</td>\n",
       "      <td>Imaging</td>\n",
       "      <td>2016</td>\n",
       "    </tr>\n",
       "    <tr>\n",
       "      <th>17</th>\n",
       "      <td>4 Uma b</td>\n",
       "      <td>NaN</td>\n",
       "      <td>Hot</td>\n",
       "      <td>Jovian</td>\n",
       "      <td>gas</td>\n",
       "      <td>hydrogen-rich</td>\n",
       "      <td>non-habitable</td>\n",
       "      <td>72.05381</td>\n",
       "      <td>163.7823</td>\n",
       "      <td>457.8407</td>\n",
       "      <td>4 Uma</td>\n",
       "      <td>NaN</td>\n",
       "      <td>NaN</td>\n",
       "      <td>UMa</td>\n",
       "      <td>K1III</td>\n",
       "      <td>Radial Velocity</td>\n",
       "      <td>2007</td>\n",
       "    </tr>\n",
       "    <tr>\n",
       "      <th>18</th>\n",
       "      <td>6 Lyn b</td>\n",
       "      <td>NaN</td>\n",
       "      <td>Hot</td>\n",
       "      <td>Jovian</td>\n",
       "      <td>NaN</td>\n",
       "      <td>NaN</td>\n",
       "      <td>non-habitable</td>\n",
       "      <td>2.393847</td>\n",
       "      <td>3.106028</td>\n",
       "      <td>4.104261</td>\n",
       "      <td>6 Lyn</td>\n",
       "      <td>HD 45410</td>\n",
       "      <td>HIP 31039</td>\n",
       "      <td>Lyn</td>\n",
       "      <td>K0IV</td>\n",
       "      <td>Radial Velocity</td>\n",
       "      <td>2008</td>\n",
       "    </tr>\n",
       "    <tr>\n",
       "      <th>19</th>\n",
       "      <td>7 CMa b</td>\n",
       "      <td>NaN</td>\n",
       "      <td>Warm</td>\n",
       "      <td>Jovian</td>\n",
       "      <td>gas</td>\n",
       "      <td>hydrogen-rich</td>\n",
       "      <td>non-habitable</td>\n",
       "      <td>0.4514996</td>\n",
       "      <td>0.6887656</td>\n",
       "      <td>1.104356</td>\n",
       "      <td>7 CMa</td>\n",
       "      <td>HD 47205</td>\n",
       "      <td>HIP 31592</td>\n",
       "      <td>CMa</td>\n",
       "      <td>K1 III</td>\n",
       "      <td>Radial Velocity</td>\n",
       "      <td>2011</td>\n",
       "    </tr>\n",
       "  </tbody>\n",
       "</table>\n",
       "</div>"
      ],
      "text/plain": [
       "                 P. Name P. Name Kepler P. Zone Class P. Mass Class  \\\n",
       "0            1RXS 1609 b            NaN          Cold        Jovian   \n",
       "1         1SWASP J1407 b            NaN          Cold        Jovian   \n",
       "2       2M 0103-55(AB) b            NaN          Cold        Jovian   \n",
       "3           2M 0122-24 b            NaN          Cold        Jovian   \n",
       "4           2M 0219-39 b            NaN          Cold        Jovian   \n",
       "5           2M 0441+23 b            NaN          Cold        Jovian   \n",
       "6           2M 0746+20 b            NaN          Cold        Jovian   \n",
       "7           2M 1207-39 b            NaN          Cold        Jovian   \n",
       "8           2M 1938+46 b            NaN          Cold        Jovian   \n",
       "9           2M 2140+16 b            NaN          Cold        Jovian   \n",
       "10          2M 2206-20 b            NaN          Cold        Jovian   \n",
       "11        2M 2236+4751 b            NaN          Cold        Jovian   \n",
       "12   2MASS J1450-7841 Ab            NaN          Cold        Jovian   \n",
       "13   2MASS J1450-7841 Bb            NaN          Cold        Jovian   \n",
       "14    2MASS J2250+2325 b            NaN           NaN        Jovian   \n",
       "15  2MASS J11193254 AB b            NaN           NaN        Jovian   \n",
       "16         2M J2126-81 b            NaN          Cold        Jovian   \n",
       "17               4 Uma b            NaN           Hot        Jovian   \n",
       "18               6 Lyn b            NaN           Hot        Jovian   \n",
       "19               7 CMa b            NaN          Warm        Jovian   \n",
       "\n",
       "   P. Composition Class P. Atmosphere Class P. Habitable Class  \\\n",
       "0                   gas       hydrogen-rich      non-habitable   \n",
       "1                   gas       hydrogen-rich      non-habitable   \n",
       "2                   gas       hydrogen-rich      non-habitable   \n",
       "3                   gas       hydrogen-rich      non-habitable   \n",
       "4                   gas       hydrogen-rich      non-habitable   \n",
       "5                   gas       hydrogen-rich      non-habitable   \n",
       "6                   gas       hydrogen-rich      non-habitable   \n",
       "7                   gas       hydrogen-rich      non-habitable   \n",
       "8                   gas       hydrogen-rich      non-habitable   \n",
       "9                   gas       hydrogen-rich      non-habitable   \n",
       "10                  gas       hydrogen-rich      non-habitable   \n",
       "11                  gas       hydrogen-rich      non-habitable   \n",
       "12                  gas       hydrogen-rich      non-habitable   \n",
       "13                  gas       hydrogen-rich      non-habitable   \n",
       "14                  gas                 NaN      non-habitable   \n",
       "15                  gas                 NaN      non-habitable   \n",
       "16                  gas       hydrogen-rich      non-habitable   \n",
       "17                  gas       hydrogen-rich      non-habitable   \n",
       "18                  NaN                 NaN      non-habitable   \n",
       "19                  gas       hydrogen-rich      non-habitable   \n",
       "\n",
       "   P. SFlux Min (EU) P. SFlux Mean (EU) P. SFlux Max (EU)  \\\n",
       "0           4.08E-06           4.08E-06          4.08E-06   \n",
       "1         0.02166914         0.02166914        0.02166914   \n",
       "2           3.96E-06           3.96E-06          3.96E-06   \n",
       "3           1.03E-05           1.03E-05          1.03E-05   \n",
       "4           2.37E-07           2.37E-07          2.37E-07   \n",
       "5           1.26E-07           1.26E-07          1.26E-07   \n",
       "6           9.06E-06           2.29E-05          7.61E-05   \n",
       "7           2.74E-08           2.74E-08          2.74E-08   \n",
       "8          0.1531191          0.1531191         0.1531191   \n",
       "9           1.27E-05           2.09E-05          3.68E-05   \n",
       "10          1.65E-05           1.65E-05          1.65E-05   \n",
       "11          7.43E-07           7.43E-07          7.43E-07   \n",
       "12          1.56E-09           1.56E-09          1.56E-09   \n",
       "13          1.56E-09           1.56E-09          1.56E-09   \n",
       "14                                                          \n",
       "15                                                          \n",
       "16          7.82E-09           7.82E-09          7.82E-09   \n",
       "17          72.05381           163.7823          457.8407   \n",
       "18          2.393847           3.106028          4.104261   \n",
       "19         0.4514996          0.6887656          1.104356   \n",
       "\n",
       "                S. Name S. Name HD S. Name HIP S. Constellation S. Type  \\\n",
       "0             1RXS 1609        NaN         NaN              Sco     K7V   \n",
       "1          1SWASP J1407        NaN         NaN              Cen       K   \n",
       "2        2M 0103-55(AB)        NaN         NaN              Phe       M   \n",
       "3            2M 0122-24        NaN         NaN              Cet    M3.5   \n",
       "4            2M 0219-39        NaN         NaN              For      M6   \n",
       "5            2M 0441+23        NaN         NaN              Tau    M8.5   \n",
       "6            2M 0746+20        NaN         NaN              Gem     NaN   \n",
       "7            2M 1207-39        NaN         NaN              Cen      M8   \n",
       "8            2M 1938+46        NaN         NaN              Cyg   sdB+M   \n",
       "9            2M 2140+16        NaN         NaN              Peg     NaN   \n",
       "10           2M 2206-20        NaN         NaN              Aqr     NaN   \n",
       "11         2M 2236+4751        NaN         NaN              Lac      K7   \n",
       "12  2MASS J1450-7841 Ab        NaN         NaN              Aps     M9p   \n",
       "13  2MASS J1450-7841 Bb        NaN         NaN              Aps     M8p   \n",
       "14     2MASS J2250+2325        NaN         NaN              Peg      M3   \n",
       "15   2MASS J11193254 AB        NaN         NaN              Crt      L7   \n",
       "16          2M J2126-81        NaN         NaN              Oct      M2   \n",
       "17                4 Uma        NaN         NaN              UMa   K1III   \n",
       "18                6 Lyn   HD 45410   HIP 31039              Lyn    K0IV   \n",
       "19                7 CMa   HD 47205   HIP 31592              CMa  K1 III   \n",
       "\n",
       "    P. Disc. Method P. Disc. Year  \n",
       "0           Imaging          2008  \n",
       "1   Primary Transit          2012  \n",
       "2           Imaging          2013  \n",
       "3           Imaging          2013  \n",
       "4           Imaging          2015  \n",
       "5           Imaging          2010  \n",
       "6           Imaging          2010  \n",
       "7           Imaging          2004  \n",
       "8            Pulsar          2015  \n",
       "9           Imaging          2010  \n",
       "10          Imaging          2010  \n",
       "11          Imaging          2016  \n",
       "12          Imaging          2017  \n",
       "13          Imaging          2017  \n",
       "14          Imaging          2017  \n",
       "15          Imaging          2017  \n",
       "16          Imaging          2016  \n",
       "17  Radial Velocity          2007  \n",
       "18  Radial Velocity          2008  \n",
       "19  Radial Velocity          2011  "
      ]
     },
     "execution_count": 19,
     "metadata": {},
     "output_type": "execute_result"
    }
   ],
   "source": [
    "df[categorical_features].head(20)"
   ]
  },
  {
   "cell_type": "code",
   "execution_count": 20,
   "metadata": {},
   "outputs": [
    {
     "name": "stdout",
     "output_type": "stream",
     "text": [
      "The feature is P. Name and number of categories are ['1RXS 1609 b' '1SWASP J1407 b' '2M 0103-55(AB) b' ... 'YZ Cet b'\n",
      " 'YZ Cet c' 'YZ Cet d']\n",
      "The feature is P. Name Kepler and number of categories are [nan 'Kepler-2 b' 'Kepler-3 b' ... 'KIC-11152511 b' 'KIC-12454613 b'\n",
      " 'KIC-12557548 b']\n",
      "The feature is P. Zone Class and number of categories are ['Cold' nan 'Hot' 'Warm']\n",
      "The feature is P. Mass Class and number of categories are ['Jovian' 'Superterran' 'Neptunian' 'Terran' 'Subterran' nan 'Mercurian']\n",
      "The feature is P. Composition Class and number of categories are ['gas' nan 'rocky-water' 'rocky-iron' 'water-gas' 'iron']\n",
      "The feature is P. Atmosphere Class and number of categories are ['hydrogen-rich' nan 'metals-rich' 'no-atmosphere']\n",
      "The feature is P. Habitable Class and number of categories are ['non-habitable' 'psychroplanet' 'mesoplanet' 'thermoplanet'\n",
      " 'hypopsychroplanet']\n",
      "The feature is P. SFlux Min (EU) and number of categories are ['4.08E-06' '0.02166914' '3.96E-06' ... '9.110547' '4.674975' '2.268338']\n",
      "The feature is P. SFlux Mean (EU) and number of categories are ['4.08E-06' '0.02166914' '3.96E-06' ... '9.110548' '5.060307' '2.915344']\n",
      "The feature is P. SFlux Max (EU) and number of categories are ['4.08E-06' '0.02166914' '3.96E-06' ... '9.110549' '5.48639' '3.81074']\n",
      "The feature is S. Name and number of categories are ['1RXS 1609' '1SWASP J1407' '2M 0103-55(AB)' ... 'YBP1194' 'YBP1514'\n",
      " 'YZ Cet']\n",
      "The feature is S. Name HD and number of categories are [nan 'HD 45410' 'HD 47205' 'HD 107383' 'HD 136726' 'HD 221345' 'HD 145675'\n",
      " 'HD 186427' 'HD 199665' 'HD 90043' 'HD 16232' 'HD 170693' 'HD 217014'\n",
      " 'HD 75732' 'HD 115617' 'HD 117176' 'HD 15779' 'HD 16400' 'HD 219449'\n",
      " 'HD 44627' 'HD 12929' 'HD 128621' 'HD 143107' 'HD 28305' 'HD 216956'\n",
      " 'HD 285968' 'HD 115383' 'HD 204961' 'HD 1237' 'HD 147506' 'HD 233731'\n",
      " 'HD 351766' 'HD 340099' 'HD 142' 'HD 564' 'HD 1461' 'HD 1502' 'HD 1605'\n",
      " 'HD 1666' 'HD 1690' 'HD 2039' 'HD 2638' 'HD 2952' 'HD 3651' 'HD 4113'\n",
      " 'HD 4203' 'HD 4208' 'HD 4308' 'HD 4313' 'HD 4732' 'HD 5319' 'HD 5608'\n",
      " 'HD 5891' 'HD 6434' 'HD 6718' 'HD 7199' 'HD 7449' 'HD 7924' 'HD 8535'\n",
      " 'HD 8574' 'HD 8673' 'HD 9446' 'HD 10180' 'HD 10442' 'HD 10647' 'HD 10697'\n",
      " 'HD 11506' 'HD 11964' 'HD 11977' 'HD 12661' 'HD 13189' 'HD 13908'\n",
      " 'HD 13931' 'HD 14067' 'HD 16141' 'HD 16175' 'HD 16417' 'HD 17092'\n",
      " 'HD 17156' 'HD 18742' 'HD 19994' 'HD 20782' 'HD 20794' 'HD 20868'\n",
      " 'HD 22781' 'HD 23079' 'HD 23127' 'HD 23596' 'HD 24040' 'HD 25171'\n",
      " 'HD 27442' 'HD 27631' 'HD 27894' 'HD 28185' 'HD 28254' 'HD 28678'\n",
      " 'HD 30177' 'HD 30562' 'HD 30669' 'HD 30856' 'HD 31253' 'HD 32518'\n",
      " 'HD 33142' 'HD 33283' 'HD 33564' 'HD 34445' 'HD 37124' 'HD 37605'\n",
      " 'HD 38283' 'HD 38529' 'HD 38801' 'HD 39091' 'HD 40307' 'HD 40979'\n",
      " 'HD 41004 A' 'HD 41004 B' 'HD 43197' 'HD 43691' 'HD 44219' 'HD 45350'\n",
      " 'HD 45364' 'HD 45652' 'HD 46375' 'HD 47186' 'HD 47536' 'HD 48265'\n",
      " 'HD 49674' 'HD 50499' 'HD 50554' 'HD 52265' 'HD 60532' 'HD 62509'\n",
      " 'HD 63454' 'HD 63765' 'HD 65216' 'HD 66141' 'HD 66428' 'HD 67087'\n",
      " 'HD 68988' 'HD 69830' 'HD 70642' 'HD 72659' 'HD 73256' 'HD 73267'\n",
      " 'HD 73526' 'HD 73534' 'HD 74156' 'HD 75289' 'HD 75784' 'HD 75898'\n",
      " 'HD 76700' 'HD 77338' 'HD 79498' 'HD 80606' 'HD 81040' 'HD 81688'\n",
      " 'HD 82886' 'HD 82943' 'HD 83443' 'HD 85390' 'HD 85512' 'HD 86081'\n",
      " 'HD 86226' 'HD 86264' 'HD 87883' 'HD 88133' 'HD 89307' 'HD 89744'\n",
      " 'HD 90156' 'HD 92788' 'HD 93083' 'HD 95086' 'HD 95089' 'HD 95127'\n",
      " 'HD 96063' 'HD 96127' 'HD 96167' 'HD 97658' 'HD 98219' 'HD 98649'\n",
      " 'HD 99109' 'HD 99492' 'HD 99706' 'HD 100655' 'HD 100777' 'HD 101930'\n",
      " 'HD 102117' 'HD 102195' 'HD 102272' 'HD 102329' 'HD 102365' 'HD 102956'\n",
      " 'HD 103197' 'HD 103720' 'HD 103774' 'HD 104067' 'HD 104985' 'HD 106252'\n",
      " 'HD 106270' 'HD 106515 A' 'HD 106906' 'HD 107148' 'HD 108147' 'HD 108341'\n",
      " 'HD 108863' 'HD 108874' 'HD 109246' 'HD 109271' 'HD 109749' 'HD 110014'\n",
      " 'HD 111232' 'HD 113337' 'HD 113538' 'HD 114386' 'HD 114613' 'HD 114729'\n",
      " 'HD 114762' 'HD 114783' 'HD 116029' 'HD 117207' 'HD 117618' 'HD 118203'\n",
      " 'HD 120084' 'HD 121504' 'HD 125595' 'HD 125612' 'HD 126614' 'HD 128311'\n",
      " 'HD 129445' 'HD 130322' 'HD 131496' 'HD 132406' 'HD 134987' 'HD 136418'\n",
      " 'HD 139357' 'HD 141937' 'HD 142022 A' 'HD 142245' 'HD 142415' 'HD 143361'\n",
      " 'HD 145377' 'HD 145457' 'HD 145934' 'HD 147018' 'HD 147513' 'HD 148156'\n",
      " 'HD 148427' 'HD 149026' 'HD 149143' 'HD 150706' 'HD 152079' 'HD 152581'\n",
      " 'HD 153950' 'HD 154345' 'HD 154672' 'HD 154857' 'HD 155358' 'HD 156279'\n",
      " 'HD 156411' 'HD 156668' 'HD 158038' 'HD 159243' 'HD 159868' 'HD 162020'\n",
      " 'HD 163607' 'HD 164509' 'HD 164604' 'HD 164922' 'HD 166724' 'HD 167042'\n",
      " 'HD 168443' 'HD 168746' 'HD 169830' 'HD 170469' 'HD 171028' 'HD 171238'\n",
      " 'HD 173416' 'HD 175167' 'HD 175541' 'HD 177830' 'HD 178911 B' 'HD 179079'\n",
      " 'HD 179949' 'HD 180314' 'HD 180902' 'HD 181342' 'HD 181433' 'HD 181720'\n",
      " 'HD 183263' 'HD 185269' 'HD 187085' 'HD 187123' 'HD 188015' 'HD 189733'\n",
      " 'HD 190360' 'HD 190647' 'HD 190984' 'HD 192263' 'HD 192699' 'HD 195019'\n",
      " 'HD 196050' 'HD 196067' 'HD 196885 A' 'HD 197037' 'HD 200964' 'HD 202206'\n",
      " 'HD 203030' 'HD 204313' 'HD 204941' 'HD 205739' 'HD 206610' 'HD 207832'\n",
      " 'HD 208487' 'HD 208527' 'HD 209458' 'HD 210277' 'HD 210702' 'HD 212301'\n",
      " 'HD 212771' 'HD 213240' 'HD 215497' 'HD 216435' 'HD 216437' 'HD 216536'\n",
      " 'HD 216770' 'HD 217107' 'HD 217786' 'HD 218566' 'HD 219077' 'HD 219415'\n",
      " 'HD 219828' 'HD 220074' 'HD 220689' 'HD 220773' 'HD 221287' 'HD 222155'\n",
      " 'HD 222582' 'HD 224693' 'HD 231701' 'HD 233604' 'HD 240210' 'HD 240237'\n",
      " 'HD 285507' 'HD 290327' 'HD 330075' 'HD 112410' 'HD 117253' 'HD 121056'\n",
      " 'HD 137759' 'HD 143567' 'HD 186641' 'HD 203949' 'HD 207229' 'HD 206860'\n",
      " 'HD 17051' 'HD 218396' 'HD 42176' 'HD 33643' 'HD 179070' 'HD 160691'\n",
      " 'HD 85503' 'HD 163917' 'HD 141680' 'HD 136512' 'HD 71369' 'HD 120136'\n",
      " 'HD 54719' 'HD 9826' 'HD 197286' 'HD 10069' 'HD 15082' 'HD 146389'\n",
      " 'HD 193334' 'HD 358155' 'HD 202678']\n",
      "The feature is S. Name HIP and number of categories are [nan 'HIP 31039' 'HIP 31592' 'HIP 60202' 'HIP 74793' 'HIP 116076'\n",
      " 'HIP 79248' 'HIP 96901' 'HIP 103527' 'HIP 50887' 'HIP 12184' 'HIP 90344'\n",
      " 'HIP 113357' 'HIP 43587' 'HIP 64924' 'HIP 65721' 'HIP 11791' 'HIP 12247'\n",
      " 'HIP 114855' 'HIP 30034' 'HIP 9884' 'HIP 71681' 'HIP 104780' 'HIP 78407'\n",
      " 'HIP 27803' 'HIP 49067' 'HIP 90979' 'HIP 2247' 'HIP 78159' 'HIP 20889'\n",
      " 'HIP 113368' 'HIP 19394' 'HIP 21932' 'HIP 22627' 'HIP 43790' 'HIP 56528'\n",
      " 'HIP 57087' 'HIP 64792' 'HIP 74995' 'HIP 83043' 'HIP 85523' 'HIP 85647'\n",
      " 'HIP 86162' 'HIP 106440' 'HIP 109388' 'HIP 113020' 'HIP 1292' 'HIP 80076'\n",
      " 'HIP 97657' 'HIP 522' 'HIP 801' 'HIP 1499' 'HIP 1547' 'HIP 1640'\n",
      " 'HIP 1666' 'HIP 1692' 'HIP 1931' 'HIP 2350' 'HIP 2611' 'HIP 3093'\n",
      " 'HIP 3391' 'HIP 3502' 'HIP 3479' 'HIP 3497' 'HIP 3574' 'HIP 3834'\n",
      " 'HIP 4297' 'HIP 4552' 'HIP 4715' 'HIP 5054' 'HIP 5301' 'HIP 5529'\n",
      " 'HIP 5806' 'HIP 6379' 'HIP 6511' 'HIP 6643' 'HIP 6702' 'HIP 7245'\n",
      " 'HIP 7599' 'HIP 7978' 'HIP 8159' 'HIP 8770' 'HIP 9094' 'HIP 8928'\n",
      " 'HIP 9683' 'HIP 10085' 'HIP 10743' 'HIP 10626' 'HIP 10657' 'HIP 12048'\n",
      " 'HIP 12191' 'HIP 12186' 'HIP 13192' 'HIP 13993' 'HIP 14954' 'HIP 15527'\n",
      " 'HIP 15510' 'HIP 15578' 'HIP 17187' 'HIP 17096' 'HIP 17054' 'HIP 17747'\n",
      " 'HIP 17960' 'HIP 18387' 'HIP 19921' 'HIP 20199' 'HIP 20277' 'HIP 20723'\n",
      " 'HIP 20606' 'HIP 21109' 'HIP 21850' 'HIP 22336' 'HIP 22320' 'HIP 22491'\n",
      " 'HIP 22826' 'HIP 24003' 'HIP 23844' 'HIP 23889' 'HIP 25110' 'HIP 24681'\n",
      " 'HIP 26381' 'HIP 26664' 'HIP 26380' 'HIP 27253' 'HIP 27384' 'HIP 26394'\n",
      " 'HIP 27887' 'HIP 28767' 'HIP 28393 A' 'HIP 28393 B' 'HIP 29550'\n",
      " 'HIP 30057' 'HIP 30114' 'HIP 30860' 'HIP 30579' 'HIP 30905' 'HIP 31246'\n",
      " 'HIP 31540' 'HIP 31688' 'HIP 31895' 'HIP 32916' 'HIP 32970' 'HIP 33212'\n",
      " 'HIP 33719' 'HIP 36795' 'HIP 37826' 'HIP 37284' 'HIP 38041' 'HIP 38558'\n",
      " 'HIP 39311' 'HIP 39417' 'HIP 39767' 'HIP 40687' 'HIP 40693' 'HIP 40952'\n",
      " 'HIP 42030' 'HIP 42214' 'HIP 42202' 'HIP 42282' 'HIP 42446' 'HIP 42723'\n",
      " 'HIP 43177' 'HIP 43569' 'HIP 43674' 'HIP 43686' 'HIP 44291' 'HIP 45406'\n",
      " 'HIP 45982' 'HIP 46076' 'HIP 46471' 'HIP 47087' 'HIP 47007' 'HIP 47202'\n",
      " 'HIP 48235' 'HIP 48331' 'HIP 48711' 'HIP 48739' 'HIP 48780' 'HIP 49699'\n",
      " 'HIP 49813' 'HIP 50473' 'HIP 50786' 'HIP 50921' 'HIP 52409' 'HIP 52521'\n",
      " 'HIP 53524' 'HIP 53666' 'HIP 53733' 'HIP 54158' 'HIP 54232' 'HIP 54195'\n",
      " 'HIP 54906' 'HIP 55174' 'HIP 55409' 'HIP 55664' 'HIP 55848' 'HIP 55994'\n",
      " 'HIP 56508' 'HIP 56572' 'HIP 57172' 'HIP 57291' 'HIP 57370' 'HIP 57428'\n",
      " 'HIP 57467' 'HIP 57443' 'HIP 57820' 'HIP 57931' 'HIP 58237' 'HIP 58263'\n",
      " 'HIP 58451' 'HIP 58952' 'HIP 59610' 'HIP 59625' 'HIP 59743 A' 'HIP 59960'\n",
      " 'HIP 60081' 'HIP 60644' 'HIP 60788' 'HIP 61020' 'HIP 61028' 'HIP 61177'\n",
      " 'HIP 61300' 'HIP 61595 A' 'HIP 61740' 'HIP 62534' 'HIP 63584' 'HIP 63833'\n",
      " 'HIP 64295' 'HIP 64408' 'HIP 64459' 'HIP 64426' 'HIP 64457' 'HIP 65117'\n",
      " 'HIP 65808' 'HIP 66047' 'HIP 66192' 'HIP 66903' 'HIP 68162' 'HIP 70170'\n",
      " 'HIP 70123' 'HIP 70623' 'HIP 71395' 'HIP 72203' 'HIP 72339' 'HIP 72845'\n",
      " 'HIP 73146' 'HIP 74500' 'HIP 74961' 'HIP 76311' 'HIP 77740' 'HIP 79242'\n",
      " 'HIP 77783' 'HIP 78169' 'HIP 78521' 'HIP 79346' 'HIP 79219' 'HIP 80250'\n",
      " 'HIP 80337' 'HIP 80680' 'HIP 80687' 'HIP 80838' 'HIP 81022' 'HIP 80902'\n",
      " 'HIP 82632' 'HIP 82651' 'HIP 83547' 'HIP 83389' 'HIP 83983' 'HIP 84069'\n",
      " 'HIP 83949' 'HIP 84171' 'HIP 84787' 'HIP 84607' 'HIP 85294' 'HIP 85911'\n",
      " 'HIP 86375' 'HIP 87330' 'HIP 87601' 'HIP 88268' 'HIP 88414' 'HIP 88348'\n",
      " 'HIP 89354' 'HIP 89047' 'HIP 89844' 'HIP 90004' 'HIP 90485' 'HIP 90593'\n",
      " 'HIP 91085' 'HIP 91852' 'HIP 93281' 'HIP 92895' 'HIP 93746' 'HIP 94075'\n",
      " 'HIP 94256' 'HIP 94645' 'HIP 94576' 'HIP 94951' 'HIP 95124' 'HIP 95467'\n",
      " 'HIP 95262' 'HIP 95740' 'HIP 96507' 'HIP 97546' 'HIP 97336' 'HIP 97769'\n",
      " 'HIP 98505' 'HIP 98767' 'HIP 99115' 'HIP 99496' 'HIP 99711' 'HIP 99894'\n",
      " 'HIP 100970' 'HIP 101806' 'HIP 102125' 'HIP 101966' 'HIP 101948'\n",
      " 'HIP 104202' 'HIP 104903' 'HIP 105232' 'HIP 106006' 'HIP 106353'\n",
      " 'HIP 106824' 'HIP 107251' 'HIP 107985' 'HIP 108375' 'HIP 108296'\n",
      " 'HIP 108859' 'HIP 109378' 'HIP 109577' 'HIP 110852' 'HIP 110813'\n",
      " 'HIP 111143' 'HIP 112441' 'HIP 113044' 'HIP 113137' 'HIP 113238'\n",
      " 'HIP 113421' 'HIP 113834' 'HIP 114322' 'HIP 114699' 'HIP 115100'\n",
      " 'HIP 115218' 'HIP 115662' 'HIP 115697' 'HIP 116084' 'HIP 116616'\n",
      " 'HIP 116906' 'HIP 118319' 'HIP 96078' 'HIP 114840' 'HIP 19207'\n",
      " 'HIP 25191' 'HIP 77517' 'HIP 5158' 'HIP 12961' 'HIP 14810' 'HIP 57050'\n",
      " 'HIP 57274' 'HIP 63242' 'HIP 65891' 'HIP 67851' 'HIP 70849' 'HIP 75458'\n",
      " 'HIP 78530' 'HIP 79431' 'HIP 91258' 'HIP 97233' 'HIP 105854' 'HIP 107773'\n",
      " 'HIP 116454' 'HIP 107350' 'HIP 12653' 'HIP 114189' 'HIP 29301'\n",
      " 'HIP 24323' 'HIP 94112' 'HIP 94931' 'HIP 86796' 'HIP 48455' 'HIP 88048'\n",
      " 'HIP 77578' 'HIP 75049' 'HIP 41704' 'HIP 63510' 'HIP 67275' 'HIP 34693'\n",
      " 'HIP 7513' 'HIP 7562' 'HIP 11397']\n",
      "The feature is S. Constellation and number of categories are ['Sco' 'Cen' 'Phe' 'Cet' 'For' 'Tau' 'Gem' 'Cyg' 'Peg' 'Aqr' 'Lac' 'Aps'\n",
      " 'Crt' 'Oct' 'UMa' 'Lyn' 'CMa' 'UMi' 'Com' 'And' 'Her' 'Del' 'Boo' 'Sex'\n",
      " 'Ari' 'Vir' 'Dra' 'Eri' 'Cnc' 'Pic' 'Leo' 'Ser' 'Psc' 'Per' 'Ori' 'Sct'\n",
      " 'Cir' 'Col' 'Cha' 'Mon' 'Aql' 'Oph' 'Vel' 'Sgr' 'Lib' 'CrB' 'Ind' 'Lyr'\n",
      " 'PsA' 'Cep' 'Dor' 'Lep' 'CMi' 'Pyx' 'Hya' 'Ara' 'Cap' 'Gru' 'Hyi' 'Lup'\n",
      " 'Aur' 'CVn' 'Sge' 'Tri' 'Vul' 'Equ' 'Scl' 'Ant' 'Pav' 'Tel' 'Tuc' 'Pup'\n",
      " 'Cas' 'Ret' 'Cam' 'Hor' 'Cae' 'Men' 'Car' 'Vol' 'LMi' 'Crv' 'Cru' 'Mus'\n",
      " 'Nor' 'TrA' 'CrA' 'Mic']\n",
      "The feature is S. Type and number of categories are ['K7V' 'K' 'M' 'M3.5' 'M6' 'M8.5' nan 'M8' 'sdB+M' 'K7' 'M9p' 'M8p' 'M3'\n",
      " 'L7' 'M2' 'K1III' 'K0IV' 'K1 III' 'K0' 'G8 III' 'M9' 'K4III' 'K0III'\n",
      " 'K0 V' 'G2.5 V' 'G6III' 'G3IV' 'G5' 'F6V' 'F6 V' 'K1.5III' 'G0V' 'F0IV'\n",
      " 'G2 IV' 'K0IV-V' 'G5V' 'G4 V' 'G3III' 'G5III' 'K0 III' 'K2 V' 'K5III'\n",
      " 'K2III' 'K1V' 'K5' 'K2V' 'K5V' 'K2II' 'KO' 'K7V/M0V' 'K3V' 'A3V' 'A6V'\n",
      " 'M1V' 'T9.5' 'T7' 'M3.25' 'K4IV' 'G7V' 'F3V' 'F8V' 'F9V' 'K0V' 'G3V'\n",
      " 'G2V' 'F7V' 'G9V' 'F8IV' 'G0IV' 'G8IV' 'G2' 'G8/9IV' 'KOV' 'G2IV' 'G0VI'\n",
      " 'M3 PMS' 'M0.5V' 'AM Her' 'SdB D' 'M0' 'M4.5' 'M0.0V' 'G' 'M3.0' 'M0V'\n",
      " 'M1.0V' 'M3.0V' 'F' 'F9IV' 'M2.5V' 'M1.5V' 'K3' 'A3 V' 'M7.25' 'M4'\n",
      " 'K1III-IV' 'M2V' 'M1 V' 'M3.5V' 'M1.5' 'M2.5' 'GOV' 'M1' 'K4/M1/M3'\n",
      " 'M4 V' 'G6 V' 'K6V' 'DBe D' 'K7eV' 'F8' 'K4' 'G4' 'G3' 'K1' 'G8' 'F/G'\n",
      " 'A5' 'A' 'K2' 'G0' 'G4V' 'G1 IV' 'A0V' 'K0D' 'K1 IV' 'F7 V' 'G2/G3 IV-V'\n",
      " 'G5 V' 'G5 D' 'K0 IV' 'G5IV' 'G5D' 'G3 IV' 'KOIV/V' 'G1V' 'K2 IV' 'G5 IV'\n",
      " 'G8.5 III' 'K2 II' 'G9 III' 'G9IV' 'F8 V' 'G8V' 'G9.5V' 'G2 V' 'K3/4IV'\n",
      " 'F8/G0 V' 'K2 IV a' 'G1IV/V' 'G8 V' 'F9.5V' 'G4 IV' 'K2.5V' 'K1 V'\n",
      " 'G1.5V' 'G8-K0' 'G IV' 'G0 V' 'K2 III' 'F6IV-V' 'K0IIIb' 'K4 V' 'G5IV/V'\n",
      " 'G5 IV-V' 'G8/K0' 'K3 IV' 'G2/G3' 'K0III-IV' 'G1IV' 'K3 V' 'A8III'\n",
      " 'K0III/IV' 'G9III' 'G6V' 'F5V' 'K9V' 'G3-4' 'G3 V' 'G8VI/V' 'G6' 'G7 III'\n",
      " 'K4V' 'G6IV' 'K0/K1V' 'G2/G3 V' 'G1 V' 'F5' 'G3/G5V' 'G0 IV' 'F8IV/V'\n",
      " 'G8.5V' 'K5 III' 'A1V' 'A7V' 'G5 IV/V' 'A9V' 'K3IV' 'K1-K2' 'G6 IV'\n",
      " 'G3 IV-V' 'A0' 'M1III' 'K1IV' 'G0.5V' 'G4 IV-V' 'G8 IV' 'M2III' 'F9'\n",
      " 'F9IV/V' 'K3III' 'M4V' 'G8III' 'B9.5V' 'A2V' 'KOIII' 'B6' 'B9V' 'M3V'\n",
      " 'G0V pecul.' 'A5V' 'Catac. var.' 'WD' 'K7.5 V' 'M2.5 V' 'G9 V' 'M0.0'\n",
      " 'M0 V' 'M1.0 V' 'G7 V' 'M3.3' 'F9 V' 'K5.5' 'M3 V' 'B9IV' 'K1IVa' 'F4V'\n",
      " 'A8V' 'F6IV' 'F7IV' 'F5IV' 'G0V/G0IV' 'F+M' 'B' 'sdB' 'G9/K0' 'M5V'\n",
      " 'F7V/M' 'F6' 'G9IIIb' 'M5' 'A8' 'A2' 'Brown Dwarf' 'M05' 'M5.1' 'WD+M'\n",
      " 'B D' 'M/K' 'sdB2VII' 'G or K' 'F3' 'G4II-III' 'F7' 'G9' 'M5.5V' 'PSR'\n",
      " 'G6.5' 'M0.5' 'M0 D' 'DAZ8+dM' 'T5.5' 'T2.5' 'K4-M2.5' 'G8.5 V' 'M8 D'\n",
      " 'M7' 'DD D' 'M7.5' 'F4' 'F8-9' 'F8-G0' 'G1' 'kov' 'G7' 'F2' 'K6' 'F1 V'\n",
      " 'F1V' 'DQ D' 'T 8.5' 'T8.5' 'T8' 'Y2' 'K3.5V']\n",
      "The feature is P. Disc. Method and number of categories are ['Imaging' 'Primary Transit' 'Pulsar' 'Radial Velocity' 'Other'\n",
      " 'radial velocity' 'Astrometry' 'Transit' 'TTV' 'transit' 'Microlensing']\n",
      "The feature is P. Disc. Year and number of categories are ['2008' '2012' '2013' '2015' '2010' '2004' '2016' '2017' '2007' '2011'\n",
      " '2009' '2002' '1996' '2018' '2001' '1995' '2003' '2005' '1998' '2014'\n",
      " '2000' '2006' '1999' '1989' '          ' '1992' '1988' ' TTV']\n"
     ]
    }
   ],
   "source": [
    "for feature in categorical_features:\n",
    "    print('The feature is {} and number of categories are {}'.format(feature,df[feature].unique()))"
   ]
  },
  {
   "cell_type": "code",
   "execution_count": 21,
   "metadata": {},
   "outputs": [
    {
     "name": "stdout",
     "output_type": "stream",
     "text": [
      "The feature is P. Name and number of categories are 3875\n",
      "The feature is P. Name Kepler and number of categories are 2329\n",
      "The feature is P. Zone Class and number of categories are 4\n",
      "The feature is P. Mass Class and number of categories are 7\n",
      "The feature is P. Composition Class and number of categories are 6\n",
      "The feature is P. Atmosphere Class and number of categories are 4\n",
      "The feature is P. Habitable Class and number of categories are 5\n",
      "The feature is P. SFlux Min (EU) and number of categories are 3824\n",
      "The feature is P. SFlux Mean (EU) and number of categories are 3823\n",
      "The feature is P. SFlux Max (EU) and number of categories are 3824\n",
      "The feature is S. Name and number of categories are 2906\n",
      "The feature is S. Name HD and number of categories are 375\n",
      "The feature is S. Name HIP and number of categories are 389\n",
      "The feature is S. Constellation and number of categories are 88\n",
      "The feature is S. Type and number of categories are 294\n",
      "The feature is P. Disc. Method and number of categories are 11\n",
      "The feature is P. Disc. Year and number of categories are 28\n"
     ]
    }
   ],
   "source": [
    "for feature in categorical_features:\n",
    "    print('The feature is {} and number of categories are {}'.format(feature,len(df[feature].unique())))"
   ]
  },
  {
   "cell_type": "markdown",
   "metadata": {},
   "source": [
    "### Replacing null/other values with numerical values using label encoder"
   ]
  },
  {
   "cell_type": "code",
   "execution_count": 22,
   "metadata": {},
   "outputs": [],
   "source": [
    "df['P. Habitable Class'].replace(to_replace=['thermoplanet','hypopsychroplanet'],value=['mesoplanet','non-habitable'],inplace=True)"
   ]
  },
  {
   "cell_type": "code",
   "execution_count": 23,
   "metadata": {},
   "outputs": [],
   "source": [
    "from sklearn import preprocessing\n",
    "label=preprocessing.LabelEncoder()\n",
    "df['P. Habitable Class']=label.fit_transform(df['P. Habitable Class'])\n",
    "##df['P. Habitable Class'].replace(to_replace=['non-habitable','mesoplanet','psychroplanet'],value=[0,1,2],inplace=True)\n",
    "##df['P. Habitable Class'].replace(to_replace='thermoplanet',value=2,inplace=True)"
   ]
  },
  {
   "cell_type": "code",
   "execution_count": 24,
   "metadata": {},
   "outputs": [],
   "source": [
    "#Replacing nan values with non-habitable one i.e. 0\n",
    "##df['P. Habitable Class']=df['P. Habitable Class'].fillna(value=0,inplace=True)"
   ]
  },
  {
   "cell_type": "code",
   "execution_count": 25,
   "metadata": {},
   "outputs": [
    {
     "data": {
      "text/plain": [
       "array([1, 2, 0])"
      ]
     },
     "execution_count": 25,
     "metadata": {},
     "output_type": "execute_result"
    }
   ],
   "source": [
    "df['P. Habitable Class'].unique()"
   ]
  },
  {
   "cell_type": "markdown",
   "metadata": {},
   "source": [
    "### Replacing null/other values with numerical values using label encoder"
   ]
  },
  {
   "cell_type": "code",
   "execution_count": 26,
   "metadata": {},
   "outputs": [],
   "source": [
    "df['P. Zone Class'].replace(to_replace=np.nan,value='missing',inplace=True)\n",
    "##df['P. Zone Class']=df['P. Zone Class'].fillna(value='missing',inplace=True)"
   ]
  },
  {
   "cell_type": "code",
   "execution_count": 27,
   "metadata": {},
   "outputs": [
    {
     "data": {
      "text/plain": [
       "array(['Cold', 'missing', 'Hot', 'Warm'], dtype=object)"
      ]
     },
     "execution_count": 27,
     "metadata": {},
     "output_type": "execute_result"
    }
   ],
   "source": [
    "df['P. Zone Class'].unique()"
   ]
  },
  {
   "cell_type": "code",
   "execution_count": 28,
   "metadata": {},
   "outputs": [],
   "source": [
    "df.drop(df.loc[df['P. Zone Class']=='missing'].index, inplace=True)"
   ]
  },
  {
   "cell_type": "code",
   "execution_count": 29,
   "metadata": {},
   "outputs": [
    {
     "data": {
      "text/plain": [
       "array(['Cold', 'Hot', 'Warm'], dtype=object)"
      ]
     },
     "execution_count": 29,
     "metadata": {},
     "output_type": "execute_result"
    }
   ],
   "source": [
    "df['P. Zone Class'].unique()"
   ]
  },
  {
   "cell_type": "code",
   "execution_count": 30,
   "metadata": {},
   "outputs": [],
   "source": [
    "from sklearn import preprocessing\n",
    "label=preprocessing.LabelEncoder()\n",
    "df['P. Zone Class']=label.fit_transform(df['P. Zone Class'])"
   ]
  },
  {
   "cell_type": "code",
   "execution_count": 31,
   "metadata": {},
   "outputs": [
    {
     "data": {
      "text/plain": [
       "array([0, 1, 2])"
      ]
     },
     "execution_count": 31,
     "metadata": {},
     "output_type": "execute_result"
    }
   ],
   "source": [
    "df['P. Zone Class'].unique()"
   ]
  },
  {
   "cell_type": "code",
   "execution_count": 32,
   "metadata": {},
   "outputs": [
    {
     "data": {
      "text/html": [
       "<div>\n",
       "<style scoped>\n",
       "    .dataframe tbody tr th:only-of-type {\n",
       "        vertical-align: middle;\n",
       "    }\n",
       "\n",
       "    .dataframe tbody tr th {\n",
       "        vertical-align: top;\n",
       "    }\n",
       "\n",
       "    .dataframe thead th {\n",
       "        text-align: right;\n",
       "    }\n",
       "</style>\n",
       "<table border=\"1\" class=\"dataframe\">\n",
       "  <thead>\n",
       "    <tr style=\"text-align: right;\">\n",
       "      <th></th>\n",
       "      <th>P. Name</th>\n",
       "      <th>P. Name Kepler</th>\n",
       "      <th>P. Name KOI</th>\n",
       "      <th>P. Zone Class</th>\n",
       "      <th>P. Mass Class</th>\n",
       "      <th>P. Composition Class</th>\n",
       "      <th>P. Atmosphere Class</th>\n",
       "      <th>P. Habitable Class</th>\n",
       "      <th>P. Min Mass (EU)</th>\n",
       "      <th>P. Mass (EU)</th>\n",
       "      <th>...</th>\n",
       "      <th>P. Int ESI</th>\n",
       "      <th>P. Surf ESI</th>\n",
       "      <th>P. ESI</th>\n",
       "      <th>S. HabCat</th>\n",
       "      <th>P. Habitable</th>\n",
       "      <th>P. Hab Moon</th>\n",
       "      <th>P. Confirmed</th>\n",
       "      <th>P. Disc. Method</th>\n",
       "      <th>P. Disc. Year</th>\n",
       "      <th>Unnamed: 68</th>\n",
       "    </tr>\n",
       "  </thead>\n",
       "  <tbody>\n",
       "    <tr>\n",
       "      <th>0</th>\n",
       "      <td>1RXS 1609 b</td>\n",
       "      <td>NaN</td>\n",
       "      <td>NaN</td>\n",
       "      <td>0</td>\n",
       "      <td>Jovian</td>\n",
       "      <td>gas</td>\n",
       "      <td>hydrogen-rich</td>\n",
       "      <td>1</td>\n",
       "      <td>NaN</td>\n",
       "      <td>4451.16</td>\n",
       "      <td>...</td>\n",
       "      <td>0</td>\n",
       "      <td>0</td>\n",
       "      <td>0.05</td>\n",
       "      <td>0</td>\n",
       "      <td>0</td>\n",
       "      <td>0</td>\n",
       "      <td>1</td>\n",
       "      <td>Imaging</td>\n",
       "      <td>2008</td>\n",
       "      <td>NaN</td>\n",
       "    </tr>\n",
       "    <tr>\n",
       "      <th>1</th>\n",
       "      <td>1SWASP J1407 b</td>\n",
       "      <td>NaN</td>\n",
       "      <td>NaN</td>\n",
       "      <td>0</td>\n",
       "      <td>Jovian</td>\n",
       "      <td>gas</td>\n",
       "      <td>hydrogen-rich</td>\n",
       "      <td>1</td>\n",
       "      <td>6358.80</td>\n",
       "      <td>6358.80</td>\n",
       "      <td>...</td>\n",
       "      <td>0</td>\n",
       "      <td>0</td>\n",
       "      <td>0.07</td>\n",
       "      <td>0</td>\n",
       "      <td>0</td>\n",
       "      <td>0</td>\n",
       "      <td>1</td>\n",
       "      <td>Primary Transit</td>\n",
       "      <td>2012</td>\n",
       "      <td>NaN</td>\n",
       "    </tr>\n",
       "    <tr>\n",
       "      <th>2</th>\n",
       "      <td>2M 0103-55(AB) b</td>\n",
       "      <td>NaN</td>\n",
       "      <td>NaN</td>\n",
       "      <td>0</td>\n",
       "      <td>Jovian</td>\n",
       "      <td>gas</td>\n",
       "      <td>hydrogen-rich</td>\n",
       "      <td>1</td>\n",
       "      <td>4133.22</td>\n",
       "      <td>4133.22</td>\n",
       "      <td>...</td>\n",
       "      <td>0</td>\n",
       "      <td>0</td>\n",
       "      <td>0.06</td>\n",
       "      <td>0</td>\n",
       "      <td>0</td>\n",
       "      <td>0</td>\n",
       "      <td>1</td>\n",
       "      <td>Imaging</td>\n",
       "      <td>2013</td>\n",
       "      <td>NaN</td>\n",
       "    </tr>\n",
       "    <tr>\n",
       "      <th>3</th>\n",
       "      <td>2M 0122-24 b</td>\n",
       "      <td>NaN</td>\n",
       "      <td>NaN</td>\n",
       "      <td>0</td>\n",
       "      <td>Jovian</td>\n",
       "      <td>gas</td>\n",
       "      <td>hydrogen-rich</td>\n",
       "      <td>1</td>\n",
       "      <td>NaN</td>\n",
       "      <td>6358.80</td>\n",
       "      <td>...</td>\n",
       "      <td>0</td>\n",
       "      <td>0</td>\n",
       "      <td>0.08</td>\n",
       "      <td>0</td>\n",
       "      <td>0</td>\n",
       "      <td>0</td>\n",
       "      <td>1</td>\n",
       "      <td>Imaging</td>\n",
       "      <td>2013</td>\n",
       "      <td>NaN</td>\n",
       "    </tr>\n",
       "    <tr>\n",
       "      <th>4</th>\n",
       "      <td>2M 0219-39 b</td>\n",
       "      <td>NaN</td>\n",
       "      <td>NaN</td>\n",
       "      <td>0</td>\n",
       "      <td>Jovian</td>\n",
       "      <td>gas</td>\n",
       "      <td>hydrogen-rich</td>\n",
       "      <td>1</td>\n",
       "      <td>NaN</td>\n",
       "      <td>4419.37</td>\n",
       "      <td>...</td>\n",
       "      <td>0</td>\n",
       "      <td>0</td>\n",
       "      <td>0.06</td>\n",
       "      <td>0</td>\n",
       "      <td>0</td>\n",
       "      <td>0</td>\n",
       "      <td>1</td>\n",
       "      <td>Imaging</td>\n",
       "      <td>2015</td>\n",
       "      <td>NaN</td>\n",
       "    </tr>\n",
       "  </tbody>\n",
       "</table>\n",
       "<p>5 rows × 69 columns</p>\n",
       "</div>"
      ],
      "text/plain": [
       "            P. Name P. Name Kepler  P. Name KOI  P. Zone Class P. Mass Class  \\\n",
       "0       1RXS 1609 b            NaN          NaN              0        Jovian   \n",
       "1    1SWASP J1407 b            NaN          NaN              0        Jovian   \n",
       "2  2M 0103-55(AB) b            NaN          NaN              0        Jovian   \n",
       "3      2M 0122-24 b            NaN          NaN              0        Jovian   \n",
       "4      2M 0219-39 b            NaN          NaN              0        Jovian   \n",
       "\n",
       "  P. Composition Class P. Atmosphere Class  P. Habitable Class  \\\n",
       "0                  gas       hydrogen-rich                   1   \n",
       "1                  gas       hydrogen-rich                   1   \n",
       "2                  gas       hydrogen-rich                   1   \n",
       "3                  gas       hydrogen-rich                   1   \n",
       "4                  gas       hydrogen-rich                   1   \n",
       "\n",
       "   P. Min Mass (EU)  P. Mass (EU)  ...  P. Int ESI  P. Surf ESI  P. ESI  \\\n",
       "0               NaN       4451.16  ...           0            0    0.05   \n",
       "1           6358.80       6358.80  ...           0            0    0.07   \n",
       "2           4133.22       4133.22  ...           0            0    0.06   \n",
       "3               NaN       6358.80  ...           0            0    0.08   \n",
       "4               NaN       4419.37  ...           0            0    0.06   \n",
       "\n",
       "   S. HabCat  P. Habitable P. Hab Moon P. Confirmed  P. Disc. Method  \\\n",
       "0          0             0           0            1          Imaging   \n",
       "1          0             0           0            1  Primary Transit   \n",
       "2          0             0           0            1          Imaging   \n",
       "3          0             0           0            1          Imaging   \n",
       "4          0             0           0            1          Imaging   \n",
       "\n",
       "   P. Disc. Year  Unnamed: 68  \n",
       "0           2008          NaN  \n",
       "1           2012          NaN  \n",
       "2           2013          NaN  \n",
       "3           2013          NaN  \n",
       "4           2015          NaN  \n",
       "\n",
       "[5 rows x 69 columns]"
      ]
     },
     "execution_count": 32,
     "metadata": {},
     "output_type": "execute_result"
    }
   ],
   "source": [
    "df.head()"
   ]
  },
  {
   "cell_type": "markdown",
   "metadata": {},
   "source": [
    "## Droping Major NULL Columns "
   ]
  },
  {
   "cell_type": "code",
   "execution_count": 33,
   "metadata": {},
   "outputs": [],
   "source": [
    "df.drop(['P. Name Kepler','P. Name KOI'],axis=1,inplace=True)"
   ]
  },
  {
   "cell_type": "code",
   "execution_count": 34,
   "metadata": {},
   "outputs": [
    {
     "data": {
      "text/html": [
       "<div>\n",
       "<style scoped>\n",
       "    .dataframe tbody tr th:only-of-type {\n",
       "        vertical-align: middle;\n",
       "    }\n",
       "\n",
       "    .dataframe tbody tr th {\n",
       "        vertical-align: top;\n",
       "    }\n",
       "\n",
       "    .dataframe thead th {\n",
       "        text-align: right;\n",
       "    }\n",
       "</style>\n",
       "<table border=\"1\" class=\"dataframe\">\n",
       "  <thead>\n",
       "    <tr style=\"text-align: right;\">\n",
       "      <th></th>\n",
       "      <th>P. Name</th>\n",
       "      <th>P. Zone Class</th>\n",
       "      <th>P. Mass Class</th>\n",
       "      <th>P. Composition Class</th>\n",
       "      <th>P. Atmosphere Class</th>\n",
       "      <th>P. Habitable Class</th>\n",
       "      <th>P. Min Mass (EU)</th>\n",
       "      <th>P. Mass (EU)</th>\n",
       "      <th>P. Max Mass (EU)</th>\n",
       "      <th>P. Radius (EU)</th>\n",
       "      <th>...</th>\n",
       "      <th>P. Int ESI</th>\n",
       "      <th>P. Surf ESI</th>\n",
       "      <th>P. ESI</th>\n",
       "      <th>S. HabCat</th>\n",
       "      <th>P. Habitable</th>\n",
       "      <th>P. Hab Moon</th>\n",
       "      <th>P. Confirmed</th>\n",
       "      <th>P. Disc. Method</th>\n",
       "      <th>P. Disc. Year</th>\n",
       "      <th>Unnamed: 68</th>\n",
       "    </tr>\n",
       "  </thead>\n",
       "  <tbody>\n",
       "    <tr>\n",
       "      <th>0</th>\n",
       "      <td>1RXS 1609 b</td>\n",
       "      <td>0</td>\n",
       "      <td>Jovian</td>\n",
       "      <td>gas</td>\n",
       "      <td>hydrogen-rich</td>\n",
       "      <td>1</td>\n",
       "      <td>NaN</td>\n",
       "      <td>4451.16</td>\n",
       "      <td>NaN</td>\n",
       "      <td>19.04</td>\n",
       "      <td>...</td>\n",
       "      <td>0</td>\n",
       "      <td>0</td>\n",
       "      <td>0.05</td>\n",
       "      <td>0</td>\n",
       "      <td>0</td>\n",
       "      <td>0</td>\n",
       "      <td>1</td>\n",
       "      <td>Imaging</td>\n",
       "      <td>2008</td>\n",
       "      <td>NaN</td>\n",
       "    </tr>\n",
       "    <tr>\n",
       "      <th>1</th>\n",
       "      <td>1SWASP J1407 b</td>\n",
       "      <td>0</td>\n",
       "      <td>Jovian</td>\n",
       "      <td>gas</td>\n",
       "      <td>hydrogen-rich</td>\n",
       "      <td>1</td>\n",
       "      <td>6358.80</td>\n",
       "      <td>6358.80</td>\n",
       "      <td>NaN</td>\n",
       "      <td>10.94</td>\n",
       "      <td>...</td>\n",
       "      <td>0</td>\n",
       "      <td>0</td>\n",
       "      <td>0.07</td>\n",
       "      <td>0</td>\n",
       "      <td>0</td>\n",
       "      <td>0</td>\n",
       "      <td>1</td>\n",
       "      <td>Primary Transit</td>\n",
       "      <td>2012</td>\n",
       "      <td>NaN</td>\n",
       "    </tr>\n",
       "    <tr>\n",
       "      <th>2</th>\n",
       "      <td>2M 0103-55(AB) b</td>\n",
       "      <td>0</td>\n",
       "      <td>Jovian</td>\n",
       "      <td>gas</td>\n",
       "      <td>hydrogen-rich</td>\n",
       "      <td>1</td>\n",
       "      <td>4133.22</td>\n",
       "      <td>4133.22</td>\n",
       "      <td>NaN</td>\n",
       "      <td>11.40</td>\n",
       "      <td>...</td>\n",
       "      <td>0</td>\n",
       "      <td>0</td>\n",
       "      <td>0.06</td>\n",
       "      <td>0</td>\n",
       "      <td>0</td>\n",
       "      <td>0</td>\n",
       "      <td>1</td>\n",
       "      <td>Imaging</td>\n",
       "      <td>2013</td>\n",
       "      <td>NaN</td>\n",
       "    </tr>\n",
       "    <tr>\n",
       "      <th>3</th>\n",
       "      <td>2M 0122-24 b</td>\n",
       "      <td>0</td>\n",
       "      <td>Jovian</td>\n",
       "      <td>gas</td>\n",
       "      <td>hydrogen-rich</td>\n",
       "      <td>1</td>\n",
       "      <td>NaN</td>\n",
       "      <td>6358.80</td>\n",
       "      <td>NaN</td>\n",
       "      <td>11.20</td>\n",
       "      <td>...</td>\n",
       "      <td>0</td>\n",
       "      <td>0</td>\n",
       "      <td>0.08</td>\n",
       "      <td>0</td>\n",
       "      <td>0</td>\n",
       "      <td>0</td>\n",
       "      <td>1</td>\n",
       "      <td>Imaging</td>\n",
       "      <td>2013</td>\n",
       "      <td>NaN</td>\n",
       "    </tr>\n",
       "    <tr>\n",
       "      <th>4</th>\n",
       "      <td>2M 0219-39 b</td>\n",
       "      <td>0</td>\n",
       "      <td>Jovian</td>\n",
       "      <td>gas</td>\n",
       "      <td>hydrogen-rich</td>\n",
       "      <td>1</td>\n",
       "      <td>NaN</td>\n",
       "      <td>4419.37</td>\n",
       "      <td>NaN</td>\n",
       "      <td>16.13</td>\n",
       "      <td>...</td>\n",
       "      <td>0</td>\n",
       "      <td>0</td>\n",
       "      <td>0.06</td>\n",
       "      <td>0</td>\n",
       "      <td>0</td>\n",
       "      <td>0</td>\n",
       "      <td>1</td>\n",
       "      <td>Imaging</td>\n",
       "      <td>2015</td>\n",
       "      <td>NaN</td>\n",
       "    </tr>\n",
       "  </tbody>\n",
       "</table>\n",
       "<p>5 rows × 67 columns</p>\n",
       "</div>"
      ],
      "text/plain": [
       "            P. Name  P. Zone Class P. Mass Class P. Composition Class  \\\n",
       "0       1RXS 1609 b              0        Jovian                  gas   \n",
       "1    1SWASP J1407 b              0        Jovian                  gas   \n",
       "2  2M 0103-55(AB) b              0        Jovian                  gas   \n",
       "3      2M 0122-24 b              0        Jovian                  gas   \n",
       "4      2M 0219-39 b              0        Jovian                  gas   \n",
       "\n",
       "  P. Atmosphere Class  P. Habitable Class  P. Min Mass (EU)  P. Mass (EU)  \\\n",
       "0       hydrogen-rich                   1               NaN       4451.16   \n",
       "1       hydrogen-rich                   1           6358.80       6358.80   \n",
       "2       hydrogen-rich                   1           4133.22       4133.22   \n",
       "3       hydrogen-rich                   1               NaN       6358.80   \n",
       "4       hydrogen-rich                   1               NaN       4419.37   \n",
       "\n",
       "   P. Max Mass (EU)  P. Radius (EU)  ...  P. Int ESI  P. Surf ESI  P. ESI  \\\n",
       "0               NaN           19.04  ...           0            0    0.05   \n",
       "1               NaN           10.94  ...           0            0    0.07   \n",
       "2               NaN           11.40  ...           0            0    0.06   \n",
       "3               NaN           11.20  ...           0            0    0.08   \n",
       "4               NaN           16.13  ...           0            0    0.06   \n",
       "\n",
       "  S. HabCat P. Habitable P. Hab Moon  P. Confirmed  P. Disc. Method  \\\n",
       "0         0            0           0             1          Imaging   \n",
       "1         0            0           0             1  Primary Transit   \n",
       "2         0            0           0             1          Imaging   \n",
       "3         0            0           0             1          Imaging   \n",
       "4         0            0           0             1          Imaging   \n",
       "\n",
       "   P. Disc. Year  Unnamed: 68  \n",
       "0           2008          NaN  \n",
       "1           2012          NaN  \n",
       "2           2013          NaN  \n",
       "3           2013          NaN  \n",
       "4           2015          NaN  \n",
       "\n",
       "[5 rows x 67 columns]"
      ]
     },
     "execution_count": 34,
     "metadata": {},
     "output_type": "execute_result"
    }
   ],
   "source": [
    "df.head()"
   ]
  },
  {
   "cell_type": "code",
   "execution_count": 35,
   "metadata": {},
   "outputs": [],
   "source": [
    "df.drop(['S. Name','S. Name HD','S. Name HIP','S. Constellation','S. Type'],axis=1,inplace=True)"
   ]
  },
  {
   "cell_type": "code",
   "execution_count": 36,
   "metadata": {},
   "outputs": [],
   "source": [
    "df.drop(['P. Disc. Method','P. Disc. Year'],axis=1,inplace=True)"
   ]
  },
  {
   "cell_type": "code",
   "execution_count": 37,
   "metadata": {},
   "outputs": [],
   "source": [
    "df.drop(['P. Confirmed','P. Hab Moon','S. HabCat','P. Surf ESI','P. Int ESI','P. SPH','S. No. Planets HZ','S. No. Planets'],axis=1,inplace=True)"
   ]
  },
  {
   "cell_type": "code",
   "execution_count": 38,
   "metadata": {},
   "outputs": [],
   "source": [
    "df.drop(['S. Distance (pc)','S. DEC (deg)','S. RA (hrs)','P. Ts Max (K)','P. Ts Mean (K)','P. Ts Min (K)','P. Max Mass (EU)'],axis=1,inplace=True)"
   ]
  },
  {
   "cell_type": "code",
   "execution_count": 39,
   "metadata": {},
   "outputs": [
    {
     "data": {
      "text/html": [
       "<div>\n",
       "<style scoped>\n",
       "    .dataframe tbody tr th:only-of-type {\n",
       "        vertical-align: middle;\n",
       "    }\n",
       "\n",
       "    .dataframe tbody tr th {\n",
       "        vertical-align: top;\n",
       "    }\n",
       "\n",
       "    .dataframe thead th {\n",
       "        text-align: right;\n",
       "    }\n",
       "</style>\n",
       "<table border=\"1\" class=\"dataframe\">\n",
       "  <thead>\n",
       "    <tr style=\"text-align: right;\">\n",
       "      <th></th>\n",
       "      <th>P. Name</th>\n",
       "      <th>P. Zone Class</th>\n",
       "      <th>P. Mass Class</th>\n",
       "      <th>P. Composition Class</th>\n",
       "      <th>P. Atmosphere Class</th>\n",
       "      <th>P. Habitable Class</th>\n",
       "      <th>P. Min Mass (EU)</th>\n",
       "      <th>P. Mass (EU)</th>\n",
       "      <th>P. Radius (EU)</th>\n",
       "      <th>P. Density (EU)</th>\n",
       "      <th>...</th>\n",
       "      <th>S. Size from Planet (deg)</th>\n",
       "      <th>S. Hab Zone Min (AU)</th>\n",
       "      <th>S. Hab Zone Max (AU)</th>\n",
       "      <th>P. HZD</th>\n",
       "      <th>P. HZC</th>\n",
       "      <th>P. HZA</th>\n",
       "      <th>P. HZI</th>\n",
       "      <th>P. ESI</th>\n",
       "      <th>P. Habitable</th>\n",
       "      <th>Unnamed: 68</th>\n",
       "    </tr>\n",
       "  </thead>\n",
       "  <tbody>\n",
       "    <tr>\n",
       "      <th>0</th>\n",
       "      <td>1RXS 1609 b</td>\n",
       "      <td>0</td>\n",
       "      <td>Jovian</td>\n",
       "      <td>gas</td>\n",
       "      <td>hydrogen-rich</td>\n",
       "      <td>1</td>\n",
       "      <td>NaN</td>\n",
       "      <td>4451.16</td>\n",
       "      <td>19.04</td>\n",
       "      <td>0.64</td>\n",
       "      <td>...</td>\n",
       "      <td>0.0022</td>\n",
       "      <td>0.540</td>\n",
       "      <td>1.362</td>\n",
       "      <td>800.07</td>\n",
       "      <td>23.51</td>\n",
       "      <td>85.62</td>\n",
       "      <td>0.00</td>\n",
       "      <td>0.05</td>\n",
       "      <td>0</td>\n",
       "      <td>NaN</td>\n",
       "    </tr>\n",
       "    <tr>\n",
       "      <th>1</th>\n",
       "      <td>1SWASP J1407 b</td>\n",
       "      <td>0</td>\n",
       "      <td>Jovian</td>\n",
       "      <td>gas</td>\n",
       "      <td>hydrogen-rich</td>\n",
       "      <td>1</td>\n",
       "      <td>6358.80</td>\n",
       "      <td>6358.80</td>\n",
       "      <td>10.94</td>\n",
       "      <td>4.86</td>\n",
       "      <td>...</td>\n",
       "      <td>0.1353</td>\n",
       "      <td>0.461</td>\n",
       "      <td>1.143</td>\n",
       "      <td>9.07</td>\n",
       "      <td>15.30</td>\n",
       "      <td>45.41</td>\n",
       "      <td>0.02</td>\n",
       "      <td>0.07</td>\n",
       "      <td>0</td>\n",
       "      <td>NaN</td>\n",
       "    </tr>\n",
       "    <tr>\n",
       "      <th>2</th>\n",
       "      <td>2M 0103-55(AB) b</td>\n",
       "      <td>0</td>\n",
       "      <td>Jovian</td>\n",
       "      <td>gas</td>\n",
       "      <td>hydrogen-rich</td>\n",
       "      <td>1</td>\n",
       "      <td>4133.22</td>\n",
       "      <td>4133.22</td>\n",
       "      <td>11.40</td>\n",
       "      <td>2.79</td>\n",
       "      <td>...</td>\n",
       "      <td>0.0024</td>\n",
       "      <td>0.136</td>\n",
       "      <td>0.347</td>\n",
       "      <td>793.67</td>\n",
       "      <td>12.57</td>\n",
       "      <td>107.44</td>\n",
       "      <td>0.00</td>\n",
       "      <td>0.06</td>\n",
       "      <td>0</td>\n",
       "      <td>NaN</td>\n",
       "    </tr>\n",
       "    <tr>\n",
       "      <th>3</th>\n",
       "      <td>2M 0122-24 b</td>\n",
       "      <td>0</td>\n",
       "      <td>Jovian</td>\n",
       "      <td>gas</td>\n",
       "      <td>hydrogen-rich</td>\n",
       "      <td>1</td>\n",
       "      <td>NaN</td>\n",
       "      <td>6358.80</td>\n",
       "      <td>11.20</td>\n",
       "      <td>4.53</td>\n",
       "      <td>...</td>\n",
       "      <td>0.0039</td>\n",
       "      <td>0.136</td>\n",
       "      <td>0.347</td>\n",
       "      <td>490.45</td>\n",
       "      <td>15.72</td>\n",
       "      <td>119.46</td>\n",
       "      <td>0.00</td>\n",
       "      <td>0.08</td>\n",
       "      <td>0</td>\n",
       "      <td>NaN</td>\n",
       "    </tr>\n",
       "    <tr>\n",
       "      <th>4</th>\n",
       "      <td>2M 0219-39 b</td>\n",
       "      <td>0</td>\n",
       "      <td>Jovian</td>\n",
       "      <td>gas</td>\n",
       "      <td>hydrogen-rich</td>\n",
       "      <td>1</td>\n",
       "      <td>NaN</td>\n",
       "      <td>4419.37</td>\n",
       "      <td>16.13</td>\n",
       "      <td>1.05</td>\n",
       "      <td>...</td>\n",
       "      <td>0.0009</td>\n",
       "      <td>0.062</td>\n",
       "      <td>0.165</td>\n",
       "      <td>3028.82</td>\n",
       "      <td>19.46</td>\n",
       "      <td>133.25</td>\n",
       "      <td>0.00</td>\n",
       "      <td>0.06</td>\n",
       "      <td>0</td>\n",
       "      <td>NaN</td>\n",
       "    </tr>\n",
       "  </tbody>\n",
       "</table>\n",
       "<p>5 rows × 45 columns</p>\n",
       "</div>"
      ],
      "text/plain": [
       "            P. Name  P. Zone Class P. Mass Class P. Composition Class  \\\n",
       "0       1RXS 1609 b              0        Jovian                  gas   \n",
       "1    1SWASP J1407 b              0        Jovian                  gas   \n",
       "2  2M 0103-55(AB) b              0        Jovian                  gas   \n",
       "3      2M 0122-24 b              0        Jovian                  gas   \n",
       "4      2M 0219-39 b              0        Jovian                  gas   \n",
       "\n",
       "  P. Atmosphere Class  P. Habitable Class  P. Min Mass (EU)  P. Mass (EU)  \\\n",
       "0       hydrogen-rich                   1               NaN       4451.16   \n",
       "1       hydrogen-rich                   1           6358.80       6358.80   \n",
       "2       hydrogen-rich                   1           4133.22       4133.22   \n",
       "3       hydrogen-rich                   1               NaN       6358.80   \n",
       "4       hydrogen-rich                   1               NaN       4419.37   \n",
       "\n",
       "   P. Radius (EU)  P. Density (EU)  ...  S. Size from Planet (deg)  \\\n",
       "0           19.04             0.64  ...                     0.0022   \n",
       "1           10.94             4.86  ...                     0.1353   \n",
       "2           11.40             2.79  ...                     0.0024   \n",
       "3           11.20             4.53  ...                     0.0039   \n",
       "4           16.13             1.05  ...                     0.0009   \n",
       "\n",
       "   S. Hab Zone Min (AU) S. Hab Zone Max (AU)   P. HZD P. HZC  P. HZA  P. HZI  \\\n",
       "0                 0.540                1.362   800.07  23.51   85.62    0.00   \n",
       "1                 0.461                1.143     9.07  15.30   45.41    0.02   \n",
       "2                 0.136                0.347   793.67  12.57  107.44    0.00   \n",
       "3                 0.136                0.347   490.45  15.72  119.46    0.00   \n",
       "4                 0.062                0.165  3028.82  19.46  133.25    0.00   \n",
       "\n",
       "   P. ESI  P. Habitable  Unnamed: 68  \n",
       "0    0.05             0          NaN  \n",
       "1    0.07             0          NaN  \n",
       "2    0.06             0          NaN  \n",
       "3    0.08             0          NaN  \n",
       "4    0.06             0          NaN  \n",
       "\n",
       "[5 rows x 45 columns]"
      ]
     },
     "execution_count": 39,
     "metadata": {},
     "output_type": "execute_result"
    }
   ],
   "source": [
    "df.head()"
   ]
  },
  {
   "cell_type": "code",
   "execution_count": 40,
   "metadata": {},
   "outputs": [],
   "source": [
    "df.drop(['Unnamed: 68'],axis=1,inplace=True)"
   ]
  },
  {
   "cell_type": "code",
   "execution_count": 41,
   "metadata": {},
   "outputs": [
    {
     "data": {
      "text/html": [
       "<div>\n",
       "<style scoped>\n",
       "    .dataframe tbody tr th:only-of-type {\n",
       "        vertical-align: middle;\n",
       "    }\n",
       "\n",
       "    .dataframe tbody tr th {\n",
       "        vertical-align: top;\n",
       "    }\n",
       "\n",
       "    .dataframe thead th {\n",
       "        text-align: right;\n",
       "    }\n",
       "</style>\n",
       "<table border=\"1\" class=\"dataframe\">\n",
       "  <thead>\n",
       "    <tr style=\"text-align: right;\">\n",
       "      <th></th>\n",
       "      <th>P. Name</th>\n",
       "      <th>P. Zone Class</th>\n",
       "      <th>P. Mass Class</th>\n",
       "      <th>P. Composition Class</th>\n",
       "      <th>P. Atmosphere Class</th>\n",
       "      <th>P. Habitable Class</th>\n",
       "      <th>P. Min Mass (EU)</th>\n",
       "      <th>P. Mass (EU)</th>\n",
       "      <th>P. Radius (EU)</th>\n",
       "      <th>P. Density (EU)</th>\n",
       "      <th>...</th>\n",
       "      <th>S. Mag from Planet</th>\n",
       "      <th>S. Size from Planet (deg)</th>\n",
       "      <th>S. Hab Zone Min (AU)</th>\n",
       "      <th>S. Hab Zone Max (AU)</th>\n",
       "      <th>P. HZD</th>\n",
       "      <th>P. HZC</th>\n",
       "      <th>P. HZA</th>\n",
       "      <th>P. HZI</th>\n",
       "      <th>P. ESI</th>\n",
       "      <th>P. Habitable</th>\n",
       "    </tr>\n",
       "  </thead>\n",
       "  <tbody>\n",
       "    <tr>\n",
       "      <th>0</th>\n",
       "      <td>1RXS 1609 b</td>\n",
       "      <td>0</td>\n",
       "      <td>Jovian</td>\n",
       "      <td>gas</td>\n",
       "      <td>hydrogen-rich</td>\n",
       "      <td>1</td>\n",
       "      <td>NaN</td>\n",
       "      <td>4451.16</td>\n",
       "      <td>19.04</td>\n",
       "      <td>0.64</td>\n",
       "      <td>...</td>\n",
       "      <td>-13.2</td>\n",
       "      <td>0.0022</td>\n",
       "      <td>0.540</td>\n",
       "      <td>1.362</td>\n",
       "      <td>800.07</td>\n",
       "      <td>23.51</td>\n",
       "      <td>85.62</td>\n",
       "      <td>0.00</td>\n",
       "      <td>0.05</td>\n",
       "      <td>0</td>\n",
       "    </tr>\n",
       "    <tr>\n",
       "      <th>1</th>\n",
       "      <td>1SWASP J1407 b</td>\n",
       "      <td>0</td>\n",
       "      <td>Jovian</td>\n",
       "      <td>gas</td>\n",
       "      <td>hydrogen-rich</td>\n",
       "      <td>1</td>\n",
       "      <td>6358.80</td>\n",
       "      <td>6358.80</td>\n",
       "      <td>10.94</td>\n",
       "      <td>4.86</td>\n",
       "      <td>...</td>\n",
       "      <td>-22.5</td>\n",
       "      <td>0.1353</td>\n",
       "      <td>0.461</td>\n",
       "      <td>1.143</td>\n",
       "      <td>9.07</td>\n",
       "      <td>15.30</td>\n",
       "      <td>45.41</td>\n",
       "      <td>0.02</td>\n",
       "      <td>0.07</td>\n",
       "      <td>0</td>\n",
       "    </tr>\n",
       "    <tr>\n",
       "      <th>2</th>\n",
       "      <td>2M 0103-55(AB) b</td>\n",
       "      <td>0</td>\n",
       "      <td>Jovian</td>\n",
       "      <td>gas</td>\n",
       "      <td>hydrogen-rich</td>\n",
       "      <td>1</td>\n",
       "      <td>4133.22</td>\n",
       "      <td>4133.22</td>\n",
       "      <td>11.40</td>\n",
       "      <td>2.79</td>\n",
       "      <td>...</td>\n",
       "      <td>-13.2</td>\n",
       "      <td>0.0024</td>\n",
       "      <td>0.136</td>\n",
       "      <td>0.347</td>\n",
       "      <td>793.67</td>\n",
       "      <td>12.57</td>\n",
       "      <td>107.44</td>\n",
       "      <td>0.00</td>\n",
       "      <td>0.06</td>\n",
       "      <td>0</td>\n",
       "    </tr>\n",
       "    <tr>\n",
       "      <th>3</th>\n",
       "      <td>2M 0122-24 b</td>\n",
       "      <td>0</td>\n",
       "      <td>Jovian</td>\n",
       "      <td>gas</td>\n",
       "      <td>hydrogen-rich</td>\n",
       "      <td>1</td>\n",
       "      <td>NaN</td>\n",
       "      <td>6358.80</td>\n",
       "      <td>11.20</td>\n",
       "      <td>4.53</td>\n",
       "      <td>...</td>\n",
       "      <td>-14.2</td>\n",
       "      <td>0.0039</td>\n",
       "      <td>0.136</td>\n",
       "      <td>0.347</td>\n",
       "      <td>490.45</td>\n",
       "      <td>15.72</td>\n",
       "      <td>119.46</td>\n",
       "      <td>0.00</td>\n",
       "      <td>0.08</td>\n",
       "      <td>0</td>\n",
       "    </tr>\n",
       "    <tr>\n",
       "      <th>4</th>\n",
       "      <td>2M 0219-39 b</td>\n",
       "      <td>0</td>\n",
       "      <td>Jovian</td>\n",
       "      <td>gas</td>\n",
       "      <td>hydrogen-rich</td>\n",
       "      <td>1</td>\n",
       "      <td>NaN</td>\n",
       "      <td>4419.37</td>\n",
       "      <td>16.13</td>\n",
       "      <td>1.05</td>\n",
       "      <td>...</td>\n",
       "      <td>-10.1</td>\n",
       "      <td>0.0009</td>\n",
       "      <td>0.062</td>\n",
       "      <td>0.165</td>\n",
       "      <td>3028.82</td>\n",
       "      <td>19.46</td>\n",
       "      <td>133.25</td>\n",
       "      <td>0.00</td>\n",
       "      <td>0.06</td>\n",
       "      <td>0</td>\n",
       "    </tr>\n",
       "  </tbody>\n",
       "</table>\n",
       "<p>5 rows × 44 columns</p>\n",
       "</div>"
      ],
      "text/plain": [
       "            P. Name  P. Zone Class P. Mass Class P. Composition Class  \\\n",
       "0       1RXS 1609 b              0        Jovian                  gas   \n",
       "1    1SWASP J1407 b              0        Jovian                  gas   \n",
       "2  2M 0103-55(AB) b              0        Jovian                  gas   \n",
       "3      2M 0122-24 b              0        Jovian                  gas   \n",
       "4      2M 0219-39 b              0        Jovian                  gas   \n",
       "\n",
       "  P. Atmosphere Class  P. Habitable Class  P. Min Mass (EU)  P. Mass (EU)  \\\n",
       "0       hydrogen-rich                   1               NaN       4451.16   \n",
       "1       hydrogen-rich                   1           6358.80       6358.80   \n",
       "2       hydrogen-rich                   1           4133.22       4133.22   \n",
       "3       hydrogen-rich                   1               NaN       6358.80   \n",
       "4       hydrogen-rich                   1               NaN       4419.37   \n",
       "\n",
       "   P. Radius (EU)  P. Density (EU)  ...  S. Mag from Planet  \\\n",
       "0           19.04             0.64  ...               -13.2   \n",
       "1           10.94             4.86  ...               -22.5   \n",
       "2           11.40             2.79  ...               -13.2   \n",
       "3           11.20             4.53  ...               -14.2   \n",
       "4           16.13             1.05  ...               -10.1   \n",
       "\n",
       "   S. Size from Planet (deg) S. Hab Zone Min (AU) S. Hab Zone Max (AU)  \\\n",
       "0                     0.0022                0.540                1.362   \n",
       "1                     0.1353                0.461                1.143   \n",
       "2                     0.0024                0.136                0.347   \n",
       "3                     0.0039                0.136                0.347   \n",
       "4                     0.0009                0.062                0.165   \n",
       "\n",
       "    P. HZD  P. HZC  P. HZA  P. HZI  P. ESI  P. Habitable  \n",
       "0   800.07   23.51   85.62    0.00    0.05             0  \n",
       "1     9.07   15.30   45.41    0.02    0.07             0  \n",
       "2   793.67   12.57  107.44    0.00    0.06             0  \n",
       "3   490.45   15.72  119.46    0.00    0.08             0  \n",
       "4  3028.82   19.46  133.25    0.00    0.06             0  \n",
       "\n",
       "[5 rows x 44 columns]"
      ]
     },
     "execution_count": 41,
     "metadata": {},
     "output_type": "execute_result"
    }
   ],
   "source": [
    "df.head()"
   ]
  },
  {
   "cell_type": "code",
   "execution_count": 42,
   "metadata": {},
   "outputs": [
    {
     "data": {
      "text/plain": [
       "Index(['P. Name', 'P. Zone Class', 'P. Mass Class', 'P. Composition Class',\n",
       "       'P. Atmosphere Class', 'P. Habitable Class', 'P. Min Mass (EU)',\n",
       "       'P. Mass (EU)', 'P. Radius (EU)', 'P. Density (EU)', 'P. Gravity (EU)',\n",
       "       'P. Esc Vel (EU)', 'P. SFlux Min (EU)', 'P. SFlux Mean (EU)',\n",
       "       'P. SFlux Max (EU)', 'P. Teq Min (K)', 'P. Teq Mean (K)',\n",
       "       'P. Teq Max (K)', 'P. Surf Press (EU)', 'P. Mag', 'P. Appar Size (deg)',\n",
       "       'P. Period (days)', 'P. Sem Major Axis (AU)', 'P. Eccentricity',\n",
       "       'P. Mean Distance (AU)', 'P. Inclination (deg)', 'P. Omega (deg)',\n",
       "       'S. Mass (SU)', 'S. Radius (SU)', 'S. Teff (K)', 'S. Luminosity (SU)',\n",
       "       'S. [Fe/H]', 'S. Age (Gyrs)', 'S. Appar Mag', 'S. Mag from Planet',\n",
       "       'S. Size from Planet (deg)', 'S. Hab Zone Min (AU)',\n",
       "       'S. Hab Zone Max (AU)', 'P. HZD', 'P. HZC', 'P. HZA', 'P. HZI',\n",
       "       'P. ESI', 'P. Habitable'],\n",
       "      dtype='object')"
      ]
     },
     "execution_count": 42,
     "metadata": {},
     "output_type": "execute_result"
    }
   ],
   "source": [
    "df.columns"
   ]
  },
  {
   "cell_type": "markdown",
   "metadata": {},
   "source": [
    "### Converting Categorical data to numerical using label encoding"
   ]
  },
  {
   "cell_type": "code",
   "execution_count": 43,
   "metadata": {},
   "outputs": [],
   "source": [
    "df=df[df['P. Mass Class'].notna()]"
   ]
  },
  {
   "cell_type": "code",
   "execution_count": 44,
   "metadata": {},
   "outputs": [
    {
     "data": {
      "text/plain": [
       "array(['Jovian', 'Superterran', 'Neptunian', 'Terran', 'Subterran',\n",
       "       'Mercurian'], dtype=object)"
      ]
     },
     "execution_count": 44,
     "metadata": {},
     "output_type": "execute_result"
    }
   ],
   "source": [
    "df['P. Mass Class'].unique()"
   ]
  },
  {
   "cell_type": "code",
   "execution_count": 45,
   "metadata": {},
   "outputs": [],
   "source": [
    "from sklearn import preprocessing\n",
    "label=preprocessing.LabelEncoder()\n",
    "df['P. Mass Class']=label.fit_transform(df['P. Mass Class'])"
   ]
  },
  {
   "cell_type": "code",
   "execution_count": 46,
   "metadata": {},
   "outputs": [
    {
     "data": {
      "text/plain": [
       "array([0, 4, 2, 5, 3, 1])"
      ]
     },
     "execution_count": 46,
     "metadata": {},
     "output_type": "execute_result"
    }
   ],
   "source": [
    "df['P. Mass Class'].unique()"
   ]
  },
  {
   "cell_type": "code",
   "execution_count": 47,
   "metadata": {},
   "outputs": [],
   "source": [
    "df=df[df['P. Composition Class'].notna()]"
   ]
  },
  {
   "cell_type": "code",
   "execution_count": 48,
   "metadata": {},
   "outputs": [
    {
     "data": {
      "text/plain": [
       "array(['gas', 'rocky-water', 'rocky-iron', 'water-gas', 'iron'],\n",
       "      dtype=object)"
      ]
     },
     "execution_count": 48,
     "metadata": {},
     "output_type": "execute_result"
    }
   ],
   "source": [
    "df['P. Composition Class'].unique()"
   ]
  },
  {
   "cell_type": "code",
   "execution_count": 49,
   "metadata": {},
   "outputs": [],
   "source": [
    "from sklearn import preprocessing\n",
    "label=preprocessing.LabelEncoder()\n",
    "df['P. Composition Class']=label.fit_transform(df['P. Composition Class'])"
   ]
  },
  {
   "cell_type": "code",
   "execution_count": 50,
   "metadata": {},
   "outputs": [
    {
     "data": {
      "text/plain": [
       "array([0, 3, 2, 4, 1])"
      ]
     },
     "execution_count": 50,
     "metadata": {},
     "output_type": "execute_result"
    }
   ],
   "source": [
    "df['P. Composition Class'].unique()"
   ]
  },
  {
   "cell_type": "code",
   "execution_count": 51,
   "metadata": {},
   "outputs": [],
   "source": [
    "df=df[df['P. Atmosphere Class'].notna()]"
   ]
  },
  {
   "cell_type": "code",
   "execution_count": 52,
   "metadata": {},
   "outputs": [],
   "source": [
    "from sklearn import preprocessing\n",
    "label=preprocessing.LabelEncoder()\n",
    "df['P. Atmosphere Class']=label.fit_transform(df['P. Atmosphere Class'])"
   ]
  },
  {
   "cell_type": "code",
   "execution_count": 53,
   "metadata": {},
   "outputs": [
    {
     "data": {
      "text/plain": [
       "array([0, 1, 2])"
      ]
     },
     "execution_count": 53,
     "metadata": {},
     "output_type": "execute_result"
    }
   ],
   "source": [
    "df['P. Atmosphere Class'].unique()"
   ]
  },
  {
   "cell_type": "code",
   "execution_count": 54,
   "metadata": {},
   "outputs": [
    {
     "name": "stdout",
     "output_type": "stream",
     "text": [
      "<class 'pandas.core.frame.DataFrame'>\n",
      "Int64Index: 3789 entries, 0 to 3874\n",
      "Data columns (total 44 columns):\n",
      " #   Column                     Non-Null Count  Dtype  \n",
      "---  ------                     --------------  -----  \n",
      " 0   P. Name                    3789 non-null   object \n",
      " 1   P. Zone Class              3789 non-null   int32  \n",
      " 2   P. Mass Class              3789 non-null   int32  \n",
      " 3   P. Composition Class       3789 non-null   int32  \n",
      " 4   P. Atmosphere Class        3789 non-null   int32  \n",
      " 5   P. Habitable Class         3789 non-null   int32  \n",
      " 6   P. Min Mass (EU)           1113 non-null   float64\n",
      " 7   P. Mass (EU)               3789 non-null   float64\n",
      " 8   P. Radius (EU)             3789 non-null   float64\n",
      " 9   P. Density (EU)            3789 non-null   float64\n",
      " 10  P. Gravity (EU)            3789 non-null   float64\n",
      " 11  P. Esc Vel (EU)            3789 non-null   float64\n",
      " 12  P. SFlux Min (EU)          3789 non-null   object \n",
      " 13  P. SFlux Mean (EU)         3789 non-null   object \n",
      " 14  P. SFlux Max (EU)          3789 non-null   object \n",
      " 15  P. Teq Min (K)             3789 non-null   float64\n",
      " 16  P. Teq Mean (K)            3789 non-null   float64\n",
      " 17  P. Teq Max (K)             3789 non-null   float64\n",
      " 18  P. Surf Press (EU)         3789 non-null   float64\n",
      " 19  P. Mag                     3789 non-null   float64\n",
      " 20  P. Appar Size (deg)        3789 non-null   float64\n",
      " 21  P. Period (days)           3667 non-null   float64\n",
      " 22  P. Sem Major Axis (AU)     3789 non-null   float64\n",
      " 23  P. Eccentricity            3789 non-null   float64\n",
      " 24  P. Mean Distance (AU)      3789 non-null   float64\n",
      " 25  P. Inclination (deg)       710 non-null    float64\n",
      " 26  P. Omega (deg)             3789 non-null   float64\n",
      " 27  S. Mass (SU)               3784 non-null   float64\n",
      " 28  S. Radius (SU)             3708 non-null   float64\n",
      " 29  S. Teff (K)                3705 non-null   float64\n",
      " 30  S. Luminosity (SU)         3789 non-null   float64\n",
      " 31  S. [Fe/H]                  2122 non-null   float64\n",
      " 32  S. Age (Gyrs)              2286 non-null   float64\n",
      " 33  S. Appar Mag               2888 non-null   float64\n",
      " 34  S. Mag from Planet         3789 non-null   float64\n",
      " 35  S. Size from Planet (deg)  3708 non-null   float64\n",
      " 36  S. Hab Zone Min (AU)       3705 non-null   float64\n",
      " 37  S. Hab Zone Max (AU)       3705 non-null   float64\n",
      " 38  P. HZD                     3789 non-null   float64\n",
      " 39  P. HZC                     3789 non-null   float64\n",
      " 40  P. HZA                     3789 non-null   float64\n",
      " 41  P. HZI                     3789 non-null   float64\n",
      " 42  P. ESI                     3789 non-null   float64\n",
      " 43  P. Habitable               3789 non-null   int64  \n",
      "dtypes: float64(34), int32(5), int64(1), object(4)\n",
      "memory usage: 1.2+ MB\n"
     ]
    }
   ],
   "source": [
    "df.info()"
   ]
  },
  {
   "cell_type": "code",
   "execution_count": 55,
   "metadata": {},
   "outputs": [
    {
     "data": {
      "text/plain": [
       "(3789, 44)"
      ]
     },
     "execution_count": 55,
     "metadata": {},
     "output_type": "execute_result"
    }
   ],
   "source": [
    "df.shape"
   ]
  },
  {
   "cell_type": "code",
   "execution_count": 56,
   "metadata": {},
   "outputs": [
    {
     "data": {
      "text/html": [
       "<div>\n",
       "<style scoped>\n",
       "    .dataframe tbody tr th:only-of-type {\n",
       "        vertical-align: middle;\n",
       "    }\n",
       "\n",
       "    .dataframe tbody tr th {\n",
       "        vertical-align: top;\n",
       "    }\n",
       "\n",
       "    .dataframe thead th {\n",
       "        text-align: right;\n",
       "    }\n",
       "</style>\n",
       "<table border=\"1\" class=\"dataframe\">\n",
       "  <thead>\n",
       "    <tr style=\"text-align: right;\">\n",
       "      <th></th>\n",
       "      <th>P. Name</th>\n",
       "      <th>P. Zone Class</th>\n",
       "      <th>P. Mass Class</th>\n",
       "      <th>P. Composition Class</th>\n",
       "      <th>P. Atmosphere Class</th>\n",
       "      <th>P. Habitable Class</th>\n",
       "      <th>P. Min Mass (EU)</th>\n",
       "      <th>P. Mass (EU)</th>\n",
       "      <th>P. Radius (EU)</th>\n",
       "      <th>P. Density (EU)</th>\n",
       "      <th>...</th>\n",
       "      <th>S. Mag from Planet</th>\n",
       "      <th>S. Size from Planet (deg)</th>\n",
       "      <th>S. Hab Zone Min (AU)</th>\n",
       "      <th>S. Hab Zone Max (AU)</th>\n",
       "      <th>P. HZD</th>\n",
       "      <th>P. HZC</th>\n",
       "      <th>P. HZA</th>\n",
       "      <th>P. HZI</th>\n",
       "      <th>P. ESI</th>\n",
       "      <th>P. Habitable</th>\n",
       "    </tr>\n",
       "  </thead>\n",
       "  <tbody>\n",
       "    <tr>\n",
       "      <th>0</th>\n",
       "      <td>1RXS 1609 b</td>\n",
       "      <td>0</td>\n",
       "      <td>0</td>\n",
       "      <td>0</td>\n",
       "      <td>0</td>\n",
       "      <td>1</td>\n",
       "      <td>NaN</td>\n",
       "      <td>4451.16</td>\n",
       "      <td>19.04</td>\n",
       "      <td>0.64</td>\n",
       "      <td>...</td>\n",
       "      <td>-13.2</td>\n",
       "      <td>0.0022</td>\n",
       "      <td>0.540</td>\n",
       "      <td>1.362</td>\n",
       "      <td>800.07</td>\n",
       "      <td>23.51</td>\n",
       "      <td>85.62</td>\n",
       "      <td>0.00</td>\n",
       "      <td>0.05</td>\n",
       "      <td>0</td>\n",
       "    </tr>\n",
       "    <tr>\n",
       "      <th>1</th>\n",
       "      <td>1SWASP J1407 b</td>\n",
       "      <td>0</td>\n",
       "      <td>0</td>\n",
       "      <td>0</td>\n",
       "      <td>0</td>\n",
       "      <td>1</td>\n",
       "      <td>6358.80</td>\n",
       "      <td>6358.80</td>\n",
       "      <td>10.94</td>\n",
       "      <td>4.86</td>\n",
       "      <td>...</td>\n",
       "      <td>-22.5</td>\n",
       "      <td>0.1353</td>\n",
       "      <td>0.461</td>\n",
       "      <td>1.143</td>\n",
       "      <td>9.07</td>\n",
       "      <td>15.30</td>\n",
       "      <td>45.41</td>\n",
       "      <td>0.02</td>\n",
       "      <td>0.07</td>\n",
       "      <td>0</td>\n",
       "    </tr>\n",
       "    <tr>\n",
       "      <th>2</th>\n",
       "      <td>2M 0103-55(AB) b</td>\n",
       "      <td>0</td>\n",
       "      <td>0</td>\n",
       "      <td>0</td>\n",
       "      <td>0</td>\n",
       "      <td>1</td>\n",
       "      <td>4133.22</td>\n",
       "      <td>4133.22</td>\n",
       "      <td>11.40</td>\n",
       "      <td>2.79</td>\n",
       "      <td>...</td>\n",
       "      <td>-13.2</td>\n",
       "      <td>0.0024</td>\n",
       "      <td>0.136</td>\n",
       "      <td>0.347</td>\n",
       "      <td>793.67</td>\n",
       "      <td>12.57</td>\n",
       "      <td>107.44</td>\n",
       "      <td>0.00</td>\n",
       "      <td>0.06</td>\n",
       "      <td>0</td>\n",
       "    </tr>\n",
       "    <tr>\n",
       "      <th>3</th>\n",
       "      <td>2M 0122-24 b</td>\n",
       "      <td>0</td>\n",
       "      <td>0</td>\n",
       "      <td>0</td>\n",
       "      <td>0</td>\n",
       "      <td>1</td>\n",
       "      <td>NaN</td>\n",
       "      <td>6358.80</td>\n",
       "      <td>11.20</td>\n",
       "      <td>4.53</td>\n",
       "      <td>...</td>\n",
       "      <td>-14.2</td>\n",
       "      <td>0.0039</td>\n",
       "      <td>0.136</td>\n",
       "      <td>0.347</td>\n",
       "      <td>490.45</td>\n",
       "      <td>15.72</td>\n",
       "      <td>119.46</td>\n",
       "      <td>0.00</td>\n",
       "      <td>0.08</td>\n",
       "      <td>0</td>\n",
       "    </tr>\n",
       "    <tr>\n",
       "      <th>4</th>\n",
       "      <td>2M 0219-39 b</td>\n",
       "      <td>0</td>\n",
       "      <td>0</td>\n",
       "      <td>0</td>\n",
       "      <td>0</td>\n",
       "      <td>1</td>\n",
       "      <td>NaN</td>\n",
       "      <td>4419.37</td>\n",
       "      <td>16.13</td>\n",
       "      <td>1.05</td>\n",
       "      <td>...</td>\n",
       "      <td>-10.1</td>\n",
       "      <td>0.0009</td>\n",
       "      <td>0.062</td>\n",
       "      <td>0.165</td>\n",
       "      <td>3028.82</td>\n",
       "      <td>19.46</td>\n",
       "      <td>133.25</td>\n",
       "      <td>0.00</td>\n",
       "      <td>0.06</td>\n",
       "      <td>0</td>\n",
       "    </tr>\n",
       "  </tbody>\n",
       "</table>\n",
       "<p>5 rows × 44 columns</p>\n",
       "</div>"
      ],
      "text/plain": [
       "            P. Name  P. Zone Class  P. Mass Class  P. Composition Class  \\\n",
       "0       1RXS 1609 b              0              0                     0   \n",
       "1    1SWASP J1407 b              0              0                     0   \n",
       "2  2M 0103-55(AB) b              0              0                     0   \n",
       "3      2M 0122-24 b              0              0                     0   \n",
       "4      2M 0219-39 b              0              0                     0   \n",
       "\n",
       "   P. Atmosphere Class  P. Habitable Class  P. Min Mass (EU)  P. Mass (EU)  \\\n",
       "0                    0                   1               NaN       4451.16   \n",
       "1                    0                   1           6358.80       6358.80   \n",
       "2                    0                   1           4133.22       4133.22   \n",
       "3                    0                   1               NaN       6358.80   \n",
       "4                    0                   1               NaN       4419.37   \n",
       "\n",
       "   P. Radius (EU)  P. Density (EU)  ...  S. Mag from Planet  \\\n",
       "0           19.04             0.64  ...               -13.2   \n",
       "1           10.94             4.86  ...               -22.5   \n",
       "2           11.40             2.79  ...               -13.2   \n",
       "3           11.20             4.53  ...               -14.2   \n",
       "4           16.13             1.05  ...               -10.1   \n",
       "\n",
       "   S. Size from Planet (deg) S. Hab Zone Min (AU) S. Hab Zone Max (AU)  \\\n",
       "0                     0.0022                0.540                1.362   \n",
       "1                     0.1353                0.461                1.143   \n",
       "2                     0.0024                0.136                0.347   \n",
       "3                     0.0039                0.136                0.347   \n",
       "4                     0.0009                0.062                0.165   \n",
       "\n",
       "    P. HZD  P. HZC  P. HZA  P. HZI  P. ESI  P. Habitable  \n",
       "0   800.07   23.51   85.62    0.00    0.05             0  \n",
       "1     9.07   15.30   45.41    0.02    0.07             0  \n",
       "2   793.67   12.57  107.44    0.00    0.06             0  \n",
       "3   490.45   15.72  119.46    0.00    0.08             0  \n",
       "4  3028.82   19.46  133.25    0.00    0.06             0  \n",
       "\n",
       "[5 rows x 44 columns]"
      ]
     },
     "execution_count": 56,
     "metadata": {},
     "output_type": "execute_result"
    }
   ],
   "source": [
    "df.head()"
   ]
  },
  {
   "cell_type": "code",
   "execution_count": 57,
   "metadata": {},
   "outputs": [],
   "source": [
    "data=df"
   ]
  },
  {
   "cell_type": "markdown",
   "metadata": {},
   "source": [
    "### Converting object datatype to float"
   ]
  },
  {
   "cell_type": "code",
   "execution_count": 58,
   "metadata": {},
   "outputs": [],
   "source": [
    "df.rename(columns={'P. SFlux Min (EU)':'PSFluxMin','P. SFlux Mean (EU)':'PSFluxMean','P. SFlux Max (EU)':'PSFluxMax'},inplace=True)"
   ]
  },
  {
   "cell_type": "code",
   "execution_count": 59,
   "metadata": {},
   "outputs": [],
   "source": [
    "df['PSFluxMin']=df.PSFluxMin.astype(float)\n",
    "df['PSFluxMean']=df.PSFluxMean.astype(float)\n",
    "df['PSFluxMax']=df.PSFluxMax.astype(float)"
   ]
  },
  {
   "cell_type": "code",
   "execution_count": 60,
   "metadata": {},
   "outputs": [
    {
     "data": {
      "text/plain": [
       "0     4.080000e-06\n",
       "1     2.166914e-02\n",
       "2     3.960000e-06\n",
       "3     1.030000e-05\n",
       "4     2.370000e-07\n",
       "5     1.260000e-07\n",
       "6     9.060000e-06\n",
       "7     2.740000e-08\n",
       "8     1.531191e-01\n",
       "9     1.270000e-05\n",
       "10    1.650000e-05\n",
       "11    7.430000e-07\n",
       "12    1.560000e-09\n",
       "13    1.560000e-09\n",
       "16    7.820000e-09\n",
       "17    7.205381e+01\n",
       "19    4.514996e-01\n",
       "20    1.799768e+02\n",
       "21    6.495758e+01\n",
       "22    2.970000e-10\n",
       "Name: PSFluxMin, dtype: float64"
      ]
     },
     "execution_count": 60,
     "metadata": {},
     "output_type": "execute_result"
    }
   ],
   "source": [
    "df['PSFluxMin'].head(20)"
   ]
  },
  {
   "cell_type": "code",
   "execution_count": 61,
   "metadata": {},
   "outputs": [
    {
     "data": {
      "text/plain": [
       "Index(['P. Name', 'P. Zone Class', 'P. Mass Class', 'P. Composition Class',\n",
       "       'P. Atmosphere Class', 'P. Habitable Class', 'P. Min Mass (EU)',\n",
       "       'P. Mass (EU)', 'P. Radius (EU)', 'P. Density (EU)', 'P. Gravity (EU)',\n",
       "       'P. Esc Vel (EU)', 'PSFluxMin', 'PSFluxMean', 'PSFluxMax',\n",
       "       'P. Teq Min (K)', 'P. Teq Mean (K)', 'P. Teq Max (K)',\n",
       "       'P. Surf Press (EU)', 'P. Mag', 'P. Appar Size (deg)',\n",
       "       'P. Period (days)', 'P. Sem Major Axis (AU)', 'P. Eccentricity',\n",
       "       'P. Mean Distance (AU)', 'P. Inclination (deg)', 'P. Omega (deg)',\n",
       "       'S. Mass (SU)', 'S. Radius (SU)', 'S. Teff (K)', 'S. Luminosity (SU)',\n",
       "       'S. [Fe/H]', 'S. Age (Gyrs)', 'S. Appar Mag', 'S. Mag from Planet',\n",
       "       'S. Size from Planet (deg)', 'S. Hab Zone Min (AU)',\n",
       "       'S. Hab Zone Max (AU)', 'P. HZD', 'P. HZC', 'P. HZA', 'P. HZI',\n",
       "       'P. ESI', 'P. Habitable'],\n",
       "      dtype='object')"
      ]
     },
     "execution_count": 61,
     "metadata": {},
     "output_type": "execute_result"
    }
   ],
   "source": [
    "df.columns"
   ]
  },
  {
   "cell_type": "code",
   "execution_count": 62,
   "metadata": {},
   "outputs": [],
   "source": [
    "df.drop(['P. Inclination (deg)'],axis=1,inplace=True)"
   ]
  },
  {
   "cell_type": "code",
   "execution_count": 63,
   "metadata": {},
   "outputs": [
    {
     "data": {
      "text/plain": [
       "Index(['P. Name', 'P. Zone Class', 'P. Mass Class', 'P. Composition Class',\n",
       "       'P. Atmosphere Class', 'P. Habitable Class', 'P. Min Mass (EU)',\n",
       "       'P. Mass (EU)', 'P. Radius (EU)', 'P. Density (EU)', 'P. Gravity (EU)',\n",
       "       'P. Esc Vel (EU)', 'PSFluxMin', 'PSFluxMean', 'PSFluxMax',\n",
       "       'P. Teq Min (K)', 'P. Teq Mean (K)', 'P. Teq Max (K)',\n",
       "       'P. Surf Press (EU)', 'P. Mag', 'P. Appar Size (deg)',\n",
       "       'P. Period (days)', 'P. Sem Major Axis (AU)', 'P. Eccentricity',\n",
       "       'P. Mean Distance (AU)', 'P. Omega (deg)', 'S. Mass (SU)',\n",
       "       'S. Radius (SU)', 'S. Teff (K)', 'S. Luminosity (SU)', 'S. [Fe/H]',\n",
       "       'S. Age (Gyrs)', 'S. Appar Mag', 'S. Mag from Planet',\n",
       "       'S. Size from Planet (deg)', 'S. Hab Zone Min (AU)',\n",
       "       'S. Hab Zone Max (AU)', 'P. HZD', 'P. HZC', 'P. HZA', 'P. HZI',\n",
       "       'P. ESI', 'P. Habitable'],\n",
       "      dtype='object')"
      ]
     },
     "execution_count": 63,
     "metadata": {},
     "output_type": "execute_result"
    }
   ],
   "source": [
    "df.columns"
   ]
  },
  {
   "cell_type": "markdown",
   "metadata": {},
   "source": [
    "### Handling NAN values"
   ]
  },
  {
   "cell_type": "code",
   "execution_count": 64,
   "metadata": {},
   "outputs": [],
   "source": [
    "df['P. Min Mass (EU)'].fillna(value=df['P. Min Mass (EU)'].mean(),inplace=True)"
   ]
  },
  {
   "cell_type": "code",
   "execution_count": 65,
   "metadata": {},
   "outputs": [],
   "source": [
    "df['P. Period (days)'].fillna(value=df['P. Period (days)'].mean(),inplace=True)"
   ]
  },
  {
   "cell_type": "code",
   "execution_count": 66,
   "metadata": {},
   "outputs": [],
   "source": [
    "df['S. Mass (SU)'].fillna(value=df['S. Mass (SU)'].mean(),inplace=True)\n",
    "df['S. Radius (SU)'].fillna(value=df['S. Radius (SU)'].mean(),inplace=True)\n",
    "df['S. Teff (K)'].fillna(value=df['S. Teff (K)'].mean(),inplace=True)\n",
    "df['S. [Fe/H]'].fillna(value=df['S. [Fe/H]'].mean(),inplace=True)\n",
    "df['S. Age (Gyrs)'].fillna(value=df['S. Age (Gyrs)'].mean(),inplace=True)\n",
    "df['S. Appar Mag'].fillna(value=df['S. Appar Mag'].mean(),inplace=True)"
   ]
  },
  {
   "cell_type": "code",
   "execution_count": 67,
   "metadata": {},
   "outputs": [],
   "source": [
    "df['S. Size from Planet (deg)'].fillna(value=df['S. Size from Planet (deg)'].mean(),inplace=True)\n",
    "df['S. Hab Zone Min (AU)'].fillna(value=df['S. Hab Zone Min (AU)'].mean(),inplace=True)\n",
    "df['S. Hab Zone Max (AU)'].fillna(value=df['S. Hab Zone Max (AU)'].mean(),inplace=True)"
   ]
  },
  {
   "cell_type": "code",
   "execution_count": 68,
   "metadata": {},
   "outputs": [
    {
     "data": {
      "text/plain": [
       "<matplotlib.axes._subplots.AxesSubplot at 0x1973496d850>"
      ]
     },
     "execution_count": 68,
     "metadata": {},
     "output_type": "execute_result"
    },
    {
     "data": {
      "image/png": "[encoded data removed]",
      "text/plain": [
       "<Figure size 864x432 with 1 Axes>"
      ]
     },
     "metadata": {
      "needs_background": "light"
     },
     "output_type": "display_data"
    }
   ],
   "source": [
    "sns.heatmap(df.isnull(),yticklabels=False,cbar=False,cmap='viridis')"
   ]
  },
  {
   "cell_type": "code",
   "execution_count": 69,
   "metadata": {},
   "outputs": [
    {
     "data": {
      "text/plain": [
       "(3789, 43)"
      ]
     },
     "execution_count": 69,
     "metadata": {},
     "output_type": "execute_result"
    }
   ],
   "source": [
    "df.shape"
   ]
  },
  {
   "cell_type": "code",
   "execution_count": 70,
   "metadata": {},
   "outputs": [],
   "source": [
    "df.insert(len(df.columns)-1,'P. Habitable Class',df.pop('P. Habitable Class'))"
   ]
  },
  {
   "cell_type": "code",
   "execution_count": 71,
   "metadata": {},
   "outputs": [],
   "source": [
    "df.drop(['P. Name'],axis=1,inplace=True)"
   ]
  },
  {
   "cell_type": "code",
   "execution_count": 72,
   "metadata": {},
   "outputs": [
    {
     "data": {
      "text/html": [
       "<div>\n",
       "<style scoped>\n",
       "    .dataframe tbody tr th:only-of-type {\n",
       "        vertical-align: middle;\n",
       "    }\n",
       "\n",
       "    .dataframe tbody tr th {\n",
       "        vertical-align: top;\n",
       "    }\n",
       "\n",
       "    .dataframe thead th {\n",
       "        text-align: right;\n",
       "    }\n",
       "</style>\n",
       "<table border=\"1\" class=\"dataframe\">\n",
       "  <thead>\n",
       "    <tr style=\"text-align: right;\">\n",
       "      <th></th>\n",
       "      <th>P. Zone Class</th>\n",
       "      <th>P. Mass Class</th>\n",
       "      <th>P. Composition Class</th>\n",
       "      <th>P. Atmosphere Class</th>\n",
       "      <th>P. Min Mass (EU)</th>\n",
       "      <th>P. Mass (EU)</th>\n",
       "      <th>P. Radius (EU)</th>\n",
       "      <th>P. Density (EU)</th>\n",
       "      <th>P. Gravity (EU)</th>\n",
       "      <th>P. Esc Vel (EU)</th>\n",
       "      <th>...</th>\n",
       "      <th>S. Size from Planet (deg)</th>\n",
       "      <th>S. Hab Zone Min (AU)</th>\n",
       "      <th>S. Hab Zone Max (AU)</th>\n",
       "      <th>P. HZD</th>\n",
       "      <th>P. HZC</th>\n",
       "      <th>P. HZA</th>\n",
       "      <th>P. HZI</th>\n",
       "      <th>P. ESI</th>\n",
       "      <th>P. Habitable</th>\n",
       "      <th>P. Habitable Class</th>\n",
       "    </tr>\n",
       "  </thead>\n",
       "  <tbody>\n",
       "    <tr>\n",
       "      <th>0</th>\n",
       "      <td>0</td>\n",
       "      <td>0</td>\n",
       "      <td>0</td>\n",
       "      <td>0</td>\n",
       "      <td>1318.48628</td>\n",
       "      <td>4451.16</td>\n",
       "      <td>19.04</td>\n",
       "      <td>0.64</td>\n",
       "      <td>12.28</td>\n",
       "      <td>15.29</td>\n",
       "      <td>...</td>\n",
       "      <td>0.0022</td>\n",
       "      <td>0.540</td>\n",
       "      <td>1.362</td>\n",
       "      <td>800.07</td>\n",
       "      <td>23.51</td>\n",
       "      <td>85.62</td>\n",
       "      <td>0.00</td>\n",
       "      <td>0.05</td>\n",
       "      <td>0</td>\n",
       "      <td>1</td>\n",
       "    </tr>\n",
       "    <tr>\n",
       "      <th>1</th>\n",
       "      <td>0</td>\n",
       "      <td>0</td>\n",
       "      <td>0</td>\n",
       "      <td>0</td>\n",
       "      <td>6358.80000</td>\n",
       "      <td>6358.80</td>\n",
       "      <td>10.94</td>\n",
       "      <td>4.86</td>\n",
       "      <td>53.12</td>\n",
       "      <td>24.11</td>\n",
       "      <td>...</td>\n",
       "      <td>0.1353</td>\n",
       "      <td>0.461</td>\n",
       "      <td>1.143</td>\n",
       "      <td>9.07</td>\n",
       "      <td>15.30</td>\n",
       "      <td>45.41</td>\n",
       "      <td>0.02</td>\n",
       "      <td>0.07</td>\n",
       "      <td>0</td>\n",
       "      <td>1</td>\n",
       "    </tr>\n",
       "    <tr>\n",
       "      <th>2</th>\n",
       "      <td>0</td>\n",
       "      <td>0</td>\n",
       "      <td>0</td>\n",
       "      <td>0</td>\n",
       "      <td>4133.22000</td>\n",
       "      <td>4133.22</td>\n",
       "      <td>11.40</td>\n",
       "      <td>2.79</td>\n",
       "      <td>31.79</td>\n",
       "      <td>19.04</td>\n",
       "      <td>...</td>\n",
       "      <td>0.0024</td>\n",
       "      <td>0.136</td>\n",
       "      <td>0.347</td>\n",
       "      <td>793.67</td>\n",
       "      <td>12.57</td>\n",
       "      <td>107.44</td>\n",
       "      <td>0.00</td>\n",
       "      <td>0.06</td>\n",
       "      <td>0</td>\n",
       "      <td>1</td>\n",
       "    </tr>\n",
       "    <tr>\n",
       "      <th>3</th>\n",
       "      <td>0</td>\n",
       "      <td>0</td>\n",
       "      <td>0</td>\n",
       "      <td>0</td>\n",
       "      <td>1318.48628</td>\n",
       "      <td>6358.80</td>\n",
       "      <td>11.20</td>\n",
       "      <td>4.53</td>\n",
       "      <td>50.69</td>\n",
       "      <td>23.83</td>\n",
       "      <td>...</td>\n",
       "      <td>0.0039</td>\n",
       "      <td>0.136</td>\n",
       "      <td>0.347</td>\n",
       "      <td>490.45</td>\n",
       "      <td>15.72</td>\n",
       "      <td>119.46</td>\n",
       "      <td>0.00</td>\n",
       "      <td>0.08</td>\n",
       "      <td>0</td>\n",
       "      <td>1</td>\n",
       "    </tr>\n",
       "    <tr>\n",
       "      <th>4</th>\n",
       "      <td>0</td>\n",
       "      <td>0</td>\n",
       "      <td>0</td>\n",
       "      <td>0</td>\n",
       "      <td>1318.48628</td>\n",
       "      <td>4419.37</td>\n",
       "      <td>16.13</td>\n",
       "      <td>1.05</td>\n",
       "      <td>16.99</td>\n",
       "      <td>16.55</td>\n",
       "      <td>...</td>\n",
       "      <td>0.0009</td>\n",
       "      <td>0.062</td>\n",
       "      <td>0.165</td>\n",
       "      <td>3028.82</td>\n",
       "      <td>19.46</td>\n",
       "      <td>133.25</td>\n",
       "      <td>0.00</td>\n",
       "      <td>0.06</td>\n",
       "      <td>0</td>\n",
       "      <td>1</td>\n",
       "    </tr>\n",
       "  </tbody>\n",
       "</table>\n",
       "<p>5 rows × 42 columns</p>\n",
       "</div>"
      ],
      "text/plain": [
       "   P. Zone Class  P. Mass Class  P. Composition Class  P. Atmosphere Class  \\\n",
       "0              0              0                     0                    0   \n",
       "1              0              0                     0                    0   \n",
       "2              0              0                     0                    0   \n",
       "3              0              0                     0                    0   \n",
       "4              0              0                     0                    0   \n",
       "\n",
       "   P. Min Mass (EU)  P. Mass (EU)  P. Radius (EU)  P. Density (EU)  \\\n",
       "0        1318.48628       4451.16           19.04             0.64   \n",
       "1        6358.80000       6358.80           10.94             4.86   \n",
       "2        4133.22000       4133.22           11.40             2.79   \n",
       "3        1318.48628       6358.80           11.20             4.53   \n",
       "4        1318.48628       4419.37           16.13             1.05   \n",
       "\n",
       "   P. Gravity (EU)  P. Esc Vel (EU)  ...  S. Size from Planet (deg)  \\\n",
       "0            12.28            15.29  ...                     0.0022   \n",
       "1            53.12            24.11  ...                     0.1353   \n",
       "2            31.79            19.04  ...                     0.0024   \n",
       "3            50.69            23.83  ...                     0.0039   \n",
       "4            16.99            16.55  ...                     0.0009   \n",
       "\n",
       "   S. Hab Zone Min (AU)  S. Hab Zone Max (AU)   P. HZD  P. HZC  P. HZA  \\\n",
       "0                 0.540                 1.362   800.07   23.51   85.62   \n",
       "1                 0.461                 1.143     9.07   15.30   45.41   \n",
       "2                 0.136                 0.347   793.67   12.57  107.44   \n",
       "3                 0.136                 0.347   490.45   15.72  119.46   \n",
       "4                 0.062                 0.165  3028.82   19.46  133.25   \n",
       "\n",
       "   P. HZI  P. ESI  P. Habitable  P. Habitable Class  \n",
       "0    0.00    0.05             0                   1  \n",
       "1    0.02    0.07             0                   1  \n",
       "2    0.00    0.06             0                   1  \n",
       "3    0.00    0.08             0                   1  \n",
       "4    0.00    0.06             0                   1  \n",
       "\n",
       "[5 rows x 42 columns]"
      ]
     },
     "execution_count": 72,
     "metadata": {},
     "output_type": "execute_result"
    }
   ],
   "source": [
    "df.head()"
   ]
  },
  {
   "cell_type": "code",
   "execution_count": 73,
   "metadata": {},
   "outputs": [
    {
     "data": {
      "text/plain": [
       "42"
      ]
     },
     "execution_count": 73,
     "metadata": {},
     "output_type": "execute_result"
    }
   ],
   "source": [
    "len(df.columns)"
   ]
  },
  {
   "cell_type": "markdown",
   "metadata": {},
   "source": [
    "## Training & Testing Split"
   ]
  },
  {
   "cell_type": "code",
   "execution_count": 74,
   "metadata": {},
   "outputs": [],
   "source": [
    "X=df.iloc[:,0:41]\n",
    "Y=df.iloc[:,41]"
   ]
  },
  {
   "cell_type": "code",
   "execution_count": 75,
   "metadata": {},
   "outputs": [],
   "source": [
    "from sklearn.model_selection import train_test_split"
   ]
  },
  {
   "cell_type": "code",
   "execution_count": 76,
   "metadata": {},
   "outputs": [],
   "source": [
    "X_train, X_test, Y_train, Y_test = train_test_split(X,Y,test_size=0.2,random_state=42)"
   ]
  },
  {
   "cell_type": "code",
   "execution_count": 77,
   "metadata": {},
   "outputs": [
    {
     "name": "stdout",
     "output_type": "stream",
     "text": [
      "<class 'pandas.core.frame.DataFrame'>\n",
      "Int64Index: 758 entries, 1608 to 2289\n",
      "Data columns (total 41 columns):\n",
      " #   Column                     Non-Null Count  Dtype  \n",
      "---  ------                     --------------  -----  \n",
      " 0   P. Zone Class              758 non-null    int32  \n",
      " 1   P. Mass Class              758 non-null    int32  \n",
      " 2   P. Composition Class       758 non-null    int32  \n",
      " 3   P. Atmosphere Class        758 non-null    int32  \n",
      " 4   P. Min Mass (EU)           758 non-null    float64\n",
      " 5   P. Mass (EU)               758 non-null    float64\n",
      " 6   P. Radius (EU)             758 non-null    float64\n",
      " 7   P. Density (EU)            758 non-null    float64\n",
      " 8   P. Gravity (EU)            758 non-null    float64\n",
      " 9   P. Esc Vel (EU)            758 non-null    float64\n",
      " 10  PSFluxMin                  758 non-null    float64\n",
      " 11  PSFluxMean                 758 non-null    float64\n",
      " 12  PSFluxMax                  758 non-null    float64\n",
      " 13  P. Teq Min (K)             758 non-null    float64\n",
      " 14  P. Teq Mean (K)            758 non-null    float64\n",
      " 15  P. Teq Max (K)             758 non-null    float64\n",
      " 16  P. Surf Press (EU)         758 non-null    float64\n",
      " 17  P. Mag                     758 non-null    float64\n",
      " 18  P. Appar Size (deg)        758 non-null    float64\n",
      " 19  P. Period (days)           758 non-null    float64\n",
      " 20  P. Sem Major Axis (AU)     758 non-null    float64\n",
      " 21  P. Eccentricity            758 non-null    float64\n",
      " 22  P. Mean Distance (AU)      758 non-null    float64\n",
      " 23  P. Omega (deg)             758 non-null    float64\n",
      " 24  S. Mass (SU)               758 non-null    float64\n",
      " 25  S. Radius (SU)             758 non-null    float64\n",
      " 26  S. Teff (K)                758 non-null    float64\n",
      " 27  S. Luminosity (SU)         758 non-null    float64\n",
      " 28  S. [Fe/H]                  758 non-null    float64\n",
      " 29  S. Age (Gyrs)              758 non-null    float64\n",
      " 30  S. Appar Mag               758 non-null    float64\n",
      " 31  S. Mag from Planet         758 non-null    float64\n",
      " 32  S. Size from Planet (deg)  758 non-null    float64\n",
      " 33  S. Hab Zone Min (AU)       758 non-null    float64\n",
      " 34  S. Hab Zone Max (AU)       758 non-null    float64\n",
      " 35  P. HZD                     758 non-null    float64\n",
      " 36  P. HZC                     758 non-null    float64\n",
      " 37  P. HZA                     758 non-null    float64\n",
      " 38  P. HZI                     758 non-null    float64\n",
      " 39  P. ESI                     758 non-null    float64\n",
      " 40  P. Habitable               758 non-null    int64  \n",
      "dtypes: float64(36), int32(4), int64(1)\n",
      "memory usage: 236.9 KB\n"
     ]
    }
   ],
   "source": [
    "X_test.info()"
   ]
  },
  {
   "cell_type": "markdown",
   "metadata": {},
   "source": [
    "## Feature Scaling (Normalization & Standardization)"
   ]
  },
  {
   "cell_type": "code",
   "execution_count": 78,
   "metadata": {},
   "outputs": [],
   "source": [
    "from sklearn.preprocessing import StandardScaler"
   ]
  },
  {
   "cell_type": "code",
   "execution_count": 79,
   "metadata": {},
   "outputs": [],
   "source": [
    "sc=StandardScaler()"
   ]
  },
  {
   "cell_type": "code",
   "execution_count": 80,
   "metadata": {},
   "outputs": [],
   "source": [
    "X_train=sc.fit_transform(X_train)\n",
    "X_test=sc.fit_transform(X_test)"
   ]
  },
  {
   "cell_type": "code",
   "execution_count": 81,
   "metadata": {},
   "outputs": [
    {
     "data": {
      "text/plain": [
       "array([[ 0.07986132, -1.26140898, -0.89875188, ..., -1.06274727,\n",
       "        -1.35646734, -0.12413857],\n",
       "       [ 0.07986132, -0.23473588, -0.89875188, ...,  0.12991118,\n",
       "        -0.03114239, -0.12413857],\n",
       "       [ 0.07986132, -1.26140898, -0.89875188, ..., -1.24623319,\n",
       "        -1.50372567, -0.12413857],\n",
       "       ...,\n",
       "       [ 0.07986132, -1.26140898, -0.89875188, ..., -0.69577544,\n",
       "         0.33700343, -0.12413857],\n",
       "       [-2.49524155,  1.30527377,  1.02846209, ..., -1.70494797,\n",
       "         0.1897451 , -0.12413857],\n",
       "       [ 0.07986132,  1.30527377,  1.02846209, ...,  0.68036892,\n",
       "         0.26337426, -0.12413857]])"
      ]
     },
     "execution_count": 81,
     "metadata": {},
     "output_type": "execute_result"
    }
   ],
   "source": [
    "X_train"
   ]
  },
  {
   "cell_type": "markdown",
   "metadata": {},
   "source": [
    "# Model Building (1) ReLU"
   ]
  },
  {
   "cell_type": "code",
   "execution_count": 83,
   "metadata": {},
   "outputs": [],
   "source": [
    "import keras\n",
    "from keras.models import Sequential\n",
    "from keras.layers import Dense\n",
    "from keras.layers import Dropout\n",
    "from keras import metrics"
   ]
  },
  {
   "cell_type": "code",
   "execution_count": 84,
   "metadata": {},
   "outputs": [],
   "source": [
    "classifier=Sequential()"
   ]
  },
  {
   "cell_type": "code",
   "execution_count": 85,
   "metadata": {},
   "outputs": [],
   "source": [
    "classifier.add(Dense(units=20,kernel_initializer='he_uniform',activation='relu',input_dim=41))\n",
    "classifier.add(Dropout(0.5))\n",
    "classifier.add(Dense(units=12,kernel_initializer='he_uniform',activation='relu'))\n",
    "classifier.add(Dropout(0.3))\n",
    "classifier.add(Dense(units=12,kernel_initializer='he_uniform',activation='relu'))\n",
    "classifier.add(Dropout(0.4))\n",
    "classifier.add(Dense(units=3,kernel_initializer='glorot_uniform',activation='softmax'))\n",
    "classifier.compile(optimizer = 'Adamax', loss = 'sparse_categorical_crossentropy', metrics = ['accuracy'])"
   ]
  },
  {
   "cell_type": "code",
   "execution_count": 86,
   "metadata": {},
   "outputs": [
    {
     "name": "stdout",
     "output_type": "stream",
     "text": [
      "Epoch 1/200\n",
      "203/203 [==============================] - 1s 4ms/step - loss: 1.1105 - accuracy: 0.6005 - val_loss: 0.6725 - val_accuracy: 0.9720\n",
      "Epoch 2/200\n",
      "203/203 [==============================] - 0s 1ms/step - loss: 0.6205 - accuracy: 0.8911 - val_loss: 0.3939 - val_accuracy: 0.9850\n",
      "Epoch 3/200\n",
      "203/203 [==============================] - 0s 1ms/step - loss: 0.3847 - accuracy: 0.9429 - val_loss: 0.2283 - val_accuracy: 0.9860\n",
      "Epoch 4/200\n",
      "203/203 [==============================] - 0s 1ms/step - loss: 0.2734 - accuracy: 0.9719 - val_loss: 0.1475 - val_accuracy: 0.9810\n",
      "Epoch 5/200\n",
      "203/203 [==============================] - 0s 1ms/step - loss: 0.2223 - accuracy: 0.9749 - val_loss: 0.1073 - val_accuracy: 0.9810\n",
      "Epoch 6/200\n",
      "203/203 [==============================] - 0s 1ms/step - loss: 0.1696 - accuracy: 0.9803 - val_loss: 0.0855 - val_accuracy: 0.9810\n",
      "Epoch 7/200\n",
      "203/203 [==============================] - 0s 1ms/step - loss: 0.1338 - accuracy: 0.9818 - val_loss: 0.0734 - val_accuracy: 0.9810\n",
      "Epoch 8/200\n",
      "203/203 [==============================] - 0s 1ms/step - loss: 0.1279 - accuracy: 0.9847 - val_loss: 0.0663 - val_accuracy: 0.9810\n",
      "Epoch 9/200\n",
      "203/203 [==============================] - 0s 1ms/step - loss: 0.1220 - accuracy: 0.9847 - val_loss: 0.0603 - val_accuracy: 0.9810\n",
      "Epoch 10/200\n",
      "203/203 [==============================] - 0s 1ms/step - loss: 0.1022 - accuracy: 0.9867 - val_loss: 0.0574 - val_accuracy: 0.9810\n",
      "Epoch 11/200\n",
      "203/203 [==============================] - 0s 1ms/step - loss: 0.1000 - accuracy: 0.9877 - val_loss: 0.0562 - val_accuracy: 0.9810\n",
      "Epoch 12/200\n",
      "203/203 [==============================] - 0s 1ms/step - loss: 0.1033 - accuracy: 0.9862 - val_loss: 0.0538 - val_accuracy: 0.9810\n",
      "Epoch 13/200\n",
      "203/203 [==============================] - 0s 1ms/step - loss: 0.0981 - accuracy: 0.9872 - val_loss: 0.0526 - val_accuracy: 0.9810\n",
      "Epoch 14/200\n",
      "203/203 [==============================] - 0s 1ms/step - loss: 0.0993 - accuracy: 0.9847 - val_loss: 0.0511 - val_accuracy: 0.9810\n",
      "Epoch 15/200\n",
      "203/203 [==============================] - 0s 1ms/step - loss: 0.0763 - accuracy: 0.9887 - val_loss: 0.0497 - val_accuracy: 0.9810\n",
      "Epoch 16/200\n",
      "203/203 [==============================] - 0s 1ms/step - loss: 0.0842 - accuracy: 0.9882 - val_loss: 0.0484 - val_accuracy: 0.9810\n",
      "Epoch 17/200\n",
      "203/203 [==============================] - 0s 1ms/step - loss: 0.0868 - accuracy: 0.9867 - val_loss: 0.0455 - val_accuracy: 0.9810\n",
      "Epoch 18/200\n",
      "203/203 [==============================] - 0s 1ms/step - loss: 0.0764 - accuracy: 0.9882 - val_loss: 0.0451 - val_accuracy: 0.9810\n",
      "Epoch 19/200\n",
      "203/203 [==============================] - 0s 1ms/step - loss: 0.0722 - accuracy: 0.9877 - val_loss: 0.0447 - val_accuracy: 0.9810\n",
      "Epoch 20/200\n",
      "203/203 [==============================] - 0s 1ms/step - loss: 0.0670 - accuracy: 0.9887 - val_loss: 0.0424 - val_accuracy: 0.9810\n",
      "Epoch 21/200\n",
      "203/203 [==============================] - 0s 1ms/step - loss: 0.0649 - accuracy: 0.9887 - val_loss: 0.0419 - val_accuracy: 0.9810\n",
      "Epoch 22/200\n",
      "203/203 [==============================] - 0s 1ms/step - loss: 0.0687 - accuracy: 0.9882 - val_loss: 0.0429 - val_accuracy: 0.9810\n",
      "Epoch 23/200\n",
      "203/203 [==============================] - 0s 1ms/step - loss: 0.0696 - accuracy: 0.9877 - val_loss: 0.0426 - val_accuracy: 0.9810\n",
      "Epoch 24/200\n",
      "203/203 [==============================] - 0s 1ms/step - loss: 0.0645 - accuracy: 0.9882 - val_loss: 0.0419 - val_accuracy: 0.9810\n",
      "Epoch 25/200\n",
      "203/203 [==============================] - 0s 1ms/step - loss: 0.0622 - accuracy: 0.9892 - val_loss: 0.0410 - val_accuracy: 0.9810\n",
      "Epoch 26/200\n",
      "203/203 [==============================] - 0s 1ms/step - loss: 0.0669 - accuracy: 0.9872 - val_loss: 0.0403 - val_accuracy: 0.9810\n",
      "Epoch 27/200\n",
      "203/203 [==============================] - 0s 1ms/step - loss: 0.0614 - accuracy: 0.9877 - val_loss: 0.0389 - val_accuracy: 0.9810\n",
      "Epoch 28/200\n",
      "203/203 [==============================] - 0s 1ms/step - loss: 0.0660 - accuracy: 0.9882 - val_loss: 0.0377 - val_accuracy: 0.9810\n",
      "Epoch 29/200\n",
      "203/203 [==============================] - 0s 1ms/step - loss: 0.0584 - accuracy: 0.9887 - val_loss: 0.0369 - val_accuracy: 0.9810\n",
      "Epoch 30/200\n",
      "203/203 [==============================] - 0s 1ms/step - loss: 0.0625 - accuracy: 0.9887 - val_loss: 0.0376 - val_accuracy: 0.9810\n",
      "Epoch 31/200\n",
      "203/203 [==============================] - 0s 1ms/step - loss: 0.0793 - accuracy: 0.9901 - val_loss: 0.0369 - val_accuracy: 0.9810\n",
      "Epoch 32/200\n",
      "203/203 [==============================] - 0s 1ms/step - loss: 0.0645 - accuracy: 0.9892 - val_loss: 0.0358 - val_accuracy: 0.9810\n",
      "Epoch 33/200\n",
      "203/203 [==============================] - 0s 1ms/step - loss: 0.0655 - accuracy: 0.9882 - val_loss: 0.0360 - val_accuracy: 0.9810\n",
      "Epoch 34/200\n",
      "203/203 [==============================] - 0s 1ms/step - loss: 0.0596 - accuracy: 0.9897 - val_loss: 0.0352 - val_accuracy: 0.9810\n",
      "Epoch 35/200\n",
      "203/203 [==============================] - 0s 1ms/step - loss: 0.0625 - accuracy: 0.9882 - val_loss: 0.0346 - val_accuracy: 0.9810\n",
      "Epoch 36/200\n",
      "203/203 [==============================] - 0s 1ms/step - loss: 0.0579 - accuracy: 0.9906 - val_loss: 0.0347 - val_accuracy: 0.9810\n",
      "Epoch 37/200\n",
      "203/203 [==============================] - 0s 1ms/step - loss: 0.0611 - accuracy: 0.9877 - val_loss: 0.0333 - val_accuracy: 0.9810\n",
      "Epoch 38/200\n",
      "203/203 [==============================] - 0s 1ms/step - loss: 0.0525 - accuracy: 0.9897 - val_loss: 0.0323 - val_accuracy: 0.9810\n",
      "Epoch 39/200\n",
      "203/203 [==============================] - 0s 2ms/step - loss: 0.0573 - accuracy: 0.9882 - val_loss: 0.0322 - val_accuracy: 0.9810\n",
      "Epoch 40/200\n",
      "203/203 [==============================] - 0s 1ms/step - loss: 0.0621 - accuracy: 0.9882 - val_loss: 0.0324 - val_accuracy: 0.9810\n",
      "Epoch 41/200\n",
      "203/203 [==============================] - 0s 1ms/step - loss: 0.0579 - accuracy: 0.9882 - val_loss: 0.0325 - val_accuracy: 0.9810\n",
      "Epoch 42/200\n",
      "203/203 [==============================] - 0s 1ms/step - loss: 0.0603 - accuracy: 0.9877 - val_loss: 0.0322 - val_accuracy: 0.9810\n",
      "Epoch 43/200\n",
      "203/203 [==============================] - 0s 1ms/step - loss: 0.0458 - accuracy: 0.9916 - val_loss: 0.0324 - val_accuracy: 0.9810\n",
      "Epoch 44/200\n",
      "203/203 [==============================] - 0s 1ms/step - loss: 0.0589 - accuracy: 0.9887 - val_loss: 0.0324 - val_accuracy: 0.9810\n",
      "Epoch 45/200\n",
      "203/203 [==============================] - 0s 1ms/step - loss: 0.0553 - accuracy: 0.9882 - val_loss: 0.0323 - val_accuracy: 0.9810\n",
      "Epoch 46/200\n",
      "203/203 [==============================] - 0s 1ms/step - loss: 0.0584 - accuracy: 0.9892 - val_loss: 0.0312 - val_accuracy: 0.9820\n",
      "Epoch 47/200\n",
      "203/203 [==============================] - 0s 1ms/step - loss: 0.0573 - accuracy: 0.9887 - val_loss: 0.0309 - val_accuracy: 0.9820\n",
      "Epoch 48/200\n",
      "203/203 [==============================] - 0s 1ms/step - loss: 0.0486 - accuracy: 0.9906 - val_loss: 0.0303 - val_accuracy: 0.9820\n",
      "Epoch 49/200\n",
      "203/203 [==============================] - 0s 1ms/step - loss: 0.0588 - accuracy: 0.9892 - val_loss: 0.0308 - val_accuracy: 0.9820\n",
      "Epoch 50/200\n",
      "203/203 [==============================] - 0s 1ms/step - loss: 0.0510 - accuracy: 0.9892 - val_loss: 0.0299 - val_accuracy: 0.9820\n",
      "Epoch 51/200\n",
      "203/203 [==============================] - 0s 1ms/step - loss: 0.0677 - accuracy: 0.9882 - val_loss: 0.0300 - val_accuracy: 0.9820\n",
      "Epoch 52/200\n",
      "203/203 [==============================] - 0s 1ms/step - loss: 0.0514 - accuracy: 0.9892 - val_loss: 0.0300 - val_accuracy: 0.9820\n",
      "Epoch 53/200\n",
      "203/203 [==============================] - 0s 1ms/step - loss: 0.0494 - accuracy: 0.9901 - val_loss: 0.0300 - val_accuracy: 0.9820\n",
      "Epoch 54/200\n",
      "203/203 [==============================] - 0s 1ms/step - loss: 0.0496 - accuracy: 0.9887 - val_loss: 0.0304 - val_accuracy: 0.9820\n",
      "Epoch 55/200\n",
      "203/203 [==============================] - 0s 1ms/step - loss: 0.0538 - accuracy: 0.9877 - val_loss: 0.0305 - val_accuracy: 0.9820\n",
      "Epoch 56/200\n",
      "203/203 [==============================] - 0s 1ms/step - loss: 0.0507 - accuracy: 0.9882 - val_loss: 0.0307 - val_accuracy: 0.9820\n",
      "Epoch 57/200\n",
      "203/203 [==============================] - 0s 1ms/step - loss: 0.0491 - accuracy: 0.9892 - val_loss: 0.0302 - val_accuracy: 0.9820\n"
     ]
    },
    {
     "name": "stdout",
     "output_type": "stream",
     "text": [
      "Epoch 58/200\n",
      "203/203 [==============================] - 0s 1ms/step - loss: 0.0482 - accuracy: 0.9892 - val_loss: 0.0301 - val_accuracy: 0.9820\n",
      "Epoch 59/200\n",
      "203/203 [==============================] - 0s 1ms/step - loss: 0.0505 - accuracy: 0.9892 - val_loss: 0.0300 - val_accuracy: 0.9820\n",
      "Epoch 60/200\n",
      "203/203 [==============================] - 0s 1ms/step - loss: 0.0480 - accuracy: 0.9897 - val_loss: 0.0289 - val_accuracy: 0.9820\n",
      "Epoch 61/200\n",
      "203/203 [==============================] - 0s 1ms/step - loss: 0.0500 - accuracy: 0.9872 - val_loss: 0.0287 - val_accuracy: 0.9820\n",
      "Epoch 62/200\n",
      "203/203 [==============================] - 0s 1ms/step - loss: 0.0574 - accuracy: 0.9877 - val_loss: 0.0283 - val_accuracy: 0.9820\n",
      "Epoch 63/200\n",
      "203/203 [==============================] - 0s 1ms/step - loss: 0.0425 - accuracy: 0.9897 - val_loss: 0.0272 - val_accuracy: 0.9820\n",
      "Epoch 64/200\n",
      "203/203 [==============================] - 0s 1ms/step - loss: 0.0399 - accuracy: 0.9901 - val_loss: 0.0264 - val_accuracy: 0.9820\n",
      "Epoch 65/200\n",
      "203/203 [==============================] - 0s 1ms/step - loss: 0.0435 - accuracy: 0.9901 - val_loss: 0.0263 - val_accuracy: 0.9820\n",
      "Epoch 66/200\n",
      "203/203 [==============================] - 0s 1ms/step - loss: 0.0532 - accuracy: 0.9897 - val_loss: 0.0264 - val_accuracy: 0.9820\n",
      "Epoch 67/200\n",
      "203/203 [==============================] - 0s 1ms/step - loss: 0.0460 - accuracy: 0.9897 - val_loss: 0.0256 - val_accuracy: 0.9830\n",
      "Epoch 68/200\n",
      "203/203 [==============================] - 0s 2ms/step - loss: 0.0549 - accuracy: 0.9877 - val_loss: 0.0255 - val_accuracy: 0.9830\n",
      "Epoch 69/200\n",
      "203/203 [==============================] - 0s 1ms/step - loss: 0.0472 - accuracy: 0.9897 - val_loss: 0.0248 - val_accuracy: 0.9830\n",
      "Epoch 70/200\n",
      "203/203 [==============================] - 0s 1ms/step - loss: 0.0410 - accuracy: 0.9906 - val_loss: 0.0244 - val_accuracy: 0.9850\n",
      "Epoch 71/200\n",
      "203/203 [==============================] - 0s 1ms/step - loss: 0.0430 - accuracy: 0.9906 - val_loss: 0.0238 - val_accuracy: 0.9900\n",
      "Epoch 72/200\n",
      "203/203 [==============================] - 0s 1ms/step - loss: 0.0443 - accuracy: 0.9897 - val_loss: 0.0231 - val_accuracy: 0.9910\n",
      "Epoch 73/200\n",
      "203/203 [==============================] - 0s 1ms/step - loss: 0.0502 - accuracy: 0.9882 - val_loss: 0.0231 - val_accuracy: 0.9910\n",
      "Epoch 74/200\n",
      "203/203 [==============================] - 0s 1ms/step - loss: 0.0465 - accuracy: 0.9897 - val_loss: 0.0228 - val_accuracy: 0.9920\n",
      "Epoch 75/200\n",
      "203/203 [==============================] - 0s 1ms/step - loss: 0.0389 - accuracy: 0.9911 - val_loss: 0.0227 - val_accuracy: 0.9920\n",
      "Epoch 76/200\n",
      "203/203 [==============================] - 0s 1ms/step - loss: 0.0490 - accuracy: 0.9897 - val_loss: 0.0228 - val_accuracy: 0.9920\n",
      "Epoch 77/200\n",
      "203/203 [==============================] - 0s 1ms/step - loss: 0.0431 - accuracy: 0.9911 - val_loss: 0.0225 - val_accuracy: 0.9920\n",
      "Epoch 78/200\n",
      "203/203 [==============================] - 0s 1ms/step - loss: 0.0339 - accuracy: 0.9901 - val_loss: 0.0218 - val_accuracy: 0.9930\n",
      "Epoch 79/200\n",
      "203/203 [==============================] - 0s 1ms/step - loss: 0.0337 - accuracy: 0.9901 - val_loss: 0.0216 - val_accuracy: 0.9930\n",
      "Epoch 80/200\n",
      "203/203 [==============================] - 0s 1ms/step - loss: 0.0461 - accuracy: 0.9906 - val_loss: 0.0218 - val_accuracy: 0.9930\n",
      "Epoch 81/200\n",
      "203/203 [==============================] - 0s 1ms/step - loss: 0.0403 - accuracy: 0.9892 - val_loss: 0.0216 - val_accuracy: 0.9930\n",
      "Epoch 82/200\n",
      "203/203 [==============================] - 0s 1ms/step - loss: 0.0372 - accuracy: 0.9897 - val_loss: 0.0218 - val_accuracy: 0.9930\n",
      "Epoch 83/200\n",
      "203/203 [==============================] - 0s 1ms/step - loss: 0.0439 - accuracy: 0.9901 - val_loss: 0.0220 - val_accuracy: 0.9930\n",
      "Epoch 84/200\n",
      "203/203 [==============================] - 0s 1ms/step - loss: 0.0431 - accuracy: 0.9892 - val_loss: 0.0222 - val_accuracy: 0.9920\n",
      "Epoch 85/200\n",
      "203/203 [==============================] - 0s 1ms/step - loss: 0.0513 - accuracy: 0.9877 - val_loss: 0.0225 - val_accuracy: 0.9920\n",
      "Epoch 86/200\n",
      "203/203 [==============================] - 0s 1ms/step - loss: 0.0447 - accuracy: 0.9882 - val_loss: 0.0225 - val_accuracy: 0.9920\n",
      "Epoch 87/200\n",
      "203/203 [==============================] - 0s 1ms/step - loss: 0.0426 - accuracy: 0.9892 - val_loss: 0.0229 - val_accuracy: 0.9890\n",
      "Epoch 88/200\n",
      "203/203 [==============================] - 0s 1ms/step - loss: 0.0422 - accuracy: 0.9897 - val_loss: 0.0229 - val_accuracy: 0.9880\n",
      "Epoch 89/200\n",
      "203/203 [==============================] - 0s 1ms/step - loss: 0.0392 - accuracy: 0.9887 - val_loss: 0.0228 - val_accuracy: 0.9890\n",
      "Epoch 90/200\n",
      "203/203 [==============================] - 0s 1ms/step - loss: 0.0350 - accuracy: 0.9911 - val_loss: 0.0226 - val_accuracy: 0.9910\n",
      "Epoch 91/200\n",
      "203/203 [==============================] - 0s 1ms/step - loss: 0.0364 - accuracy: 0.9897 - val_loss: 0.0221 - val_accuracy: 0.9930\n",
      "Epoch 92/200\n",
      "203/203 [==============================] - 0s 1ms/step - loss: 0.0367 - accuracy: 0.9906 - val_loss: 0.0219 - val_accuracy: 0.9930\n",
      "Epoch 93/200\n",
      "203/203 [==============================] - 0s 1ms/step - loss: 0.0427 - accuracy: 0.9901 - val_loss: 0.0218 - val_accuracy: 0.9930\n",
      "Epoch 94/200\n",
      "203/203 [==============================] - 0s 1ms/step - loss: 0.0428 - accuracy: 0.9882 - val_loss: 0.0216 - val_accuracy: 0.9930\n",
      "Epoch 95/200\n",
      "203/203 [==============================] - 0s 1ms/step - loss: 0.0418 - accuracy: 0.9897 - val_loss: 0.0217 - val_accuracy: 0.9930\n",
      "Epoch 96/200\n",
      "203/203 [==============================] - 0s 1ms/step - loss: 0.0449 - accuracy: 0.9887 - val_loss: 0.0222 - val_accuracy: 0.9930\n",
      "Epoch 97/200\n",
      "203/203 [==============================] - 0s 1ms/step - loss: 0.0470 - accuracy: 0.9892 - val_loss: 0.0224 - val_accuracy: 0.9910\n",
      "Epoch 98/200\n",
      "203/203 [==============================] - 0s 1ms/step - loss: 0.0346 - accuracy: 0.9901 - val_loss: 0.0225 - val_accuracy: 0.9900\n",
      "Epoch 99/200\n",
      "203/203 [==============================] - 0s 1ms/step - loss: 0.0426 - accuracy: 0.9877 - val_loss: 0.0224 - val_accuracy: 0.9910\n",
      "Epoch 100/200\n",
      "203/203 [==============================] - 0s 1ms/step - loss: 0.0359 - accuracy: 0.9906 - val_loss: 0.0219 - val_accuracy: 0.9930\n",
      "Epoch 101/200\n",
      "203/203 [==============================] - 0s 1ms/step - loss: 0.0395 - accuracy: 0.9892 - val_loss: 0.0218 - val_accuracy: 0.9930\n",
      "Epoch 102/200\n",
      "203/203 [==============================] - 0s 1ms/step - loss: 0.0466 - accuracy: 0.9872 - val_loss: 0.0217 - val_accuracy: 0.9930\n",
      "Epoch 103/200\n",
      "203/203 [==============================] - ETA: 0s - loss: 0.0358 - accuracy: 0.99 - 0s 1ms/step - loss: 0.0355 - accuracy: 0.9901 - val_loss: 0.0210 - val_accuracy: 0.9930\n",
      "Epoch 104/200\n",
      "203/203 [==============================] - 0s 2ms/step - loss: 0.0437 - accuracy: 0.9897 - val_loss: 0.0211 - val_accuracy: 0.9930\n",
      "Epoch 105/200\n",
      "203/203 [==============================] - 0s 1ms/step - loss: 0.0405 - accuracy: 0.9911 - val_loss: 0.0213 - val_accuracy: 0.9930\n",
      "Epoch 106/200\n",
      "203/203 [==============================] - 0s 1ms/step - loss: 0.0471 - accuracy: 0.9887 - val_loss: 0.0217 - val_accuracy: 0.9930\n",
      "Epoch 107/200\n",
      "203/203 [==============================] - 0s 2ms/step - loss: 0.0311 - accuracy: 0.9906 - val_loss: 0.0211 - val_accuracy: 0.9930\n",
      "Epoch 108/200\n",
      "203/203 [==============================] - 0s 1ms/step - loss: 0.0387 - accuracy: 0.9892 - val_loss: 0.0207 - val_accuracy: 0.9930\n",
      "Epoch 109/200\n",
      "203/203 [==============================] - 0s 1ms/step - loss: 0.0379 - accuracy: 0.9901 - val_loss: 0.0208 - val_accuracy: 0.9930\n",
      "Epoch 110/200\n",
      "203/203 [==============================] - 0s 1ms/step - loss: 0.0348 - accuracy: 0.9901 - val_loss: 0.0209 - val_accuracy: 0.9930\n",
      "Epoch 111/200\n",
      "203/203 [==============================] - 0s 1ms/step - loss: 0.0364 - accuracy: 0.9892 - val_loss: 0.0209 - val_accuracy: 0.9930\n",
      "Epoch 112/200\n",
      "203/203 [==============================] - 0s 2ms/step - loss: 0.0353 - accuracy: 0.9897 - val_loss: 0.0207 - val_accuracy: 0.9930\n",
      "Epoch 113/200\n",
      "203/203 [==============================] - 0s 1ms/step - loss: 0.0329 - accuracy: 0.9911 - val_loss: 0.0208 - val_accuracy: 0.9930\n",
      "Epoch 114/200\n",
      "203/203 [==============================] - 0s 1ms/step - loss: 0.0393 - accuracy: 0.9892 - val_loss: 0.0212 - val_accuracy: 0.9930\n",
      "Epoch 115/200\n",
      "203/203 [==============================] - 0s 1ms/step - loss: 0.0329 - accuracy: 0.9906 - val_loss: 0.0210 - val_accuracy: 0.9930\n",
      "Epoch 116/200\n",
      "203/203 [==============================] - 0s 1ms/step - loss: 0.0251 - accuracy: 0.9901 - val_loss: 0.0204 - val_accuracy: 0.9930\n",
      "Epoch 117/200\n",
      "203/203 [==============================] - 0s 1ms/step - loss: 0.0396 - accuracy: 0.9897 - val_loss: 0.0203 - val_accuracy: 0.9930\n",
      "Epoch 118/200\n",
      "203/203 [==============================] - 0s 1ms/step - loss: 0.0365 - accuracy: 0.9892 - val_loss: 0.0203 - val_accuracy: 0.9930\n",
      "Epoch 119/200\n",
      "203/203 [==============================] - 0s 1ms/step - loss: 0.0249 - accuracy: 0.9931 - val_loss: 0.0198 - val_accuracy: 0.9930\n",
      "Epoch 120/200\n",
      "203/203 [==============================] - 0s 1ms/step - loss: 0.0336 - accuracy: 0.9906 - val_loss: 0.0198 - val_accuracy: 0.9930\n",
      "Epoch 121/200\n",
      "203/203 [==============================] - ETA: 0s - loss: 0.0303 - accuracy: 0.99 - 0s 1ms/step - loss: 0.0280 - accuracy: 0.9916 - val_loss: 0.0198 - val_accuracy: 0.9930\n",
      "Epoch 122/200\n",
      "203/203 [==============================] - 0s 1ms/step - loss: 0.0317 - accuracy: 0.9901 - val_loss: 0.0195 - val_accuracy: 0.9930\n",
      "Epoch 123/200\n",
      "203/203 [==============================] - 0s 1ms/step - loss: 0.0275 - accuracy: 0.9916 - val_loss: 0.0194 - val_accuracy: 0.9930\n",
      "Epoch 124/200\n",
      "203/203 [==============================] - 0s 1ms/step - loss: 0.0364 - accuracy: 0.9901 - val_loss: 0.0193 - val_accuracy: 0.9930\n",
      "Epoch 125/200\n",
      "203/203 [==============================] - 0s 1ms/step - loss: 0.0442 - accuracy: 0.9916 - val_loss: 0.0194 - val_accuracy: 0.9930\n",
      "Epoch 126/200\n",
      "203/203 [==============================] - 0s 1ms/step - loss: 0.0400 - accuracy: 0.9882 - val_loss: 0.0195 - val_accuracy: 0.9930\n",
      "Epoch 127/200\n",
      "203/203 [==============================] - 0s 1ms/step - loss: 0.0412 - accuracy: 0.9892 - val_loss: 0.0196 - val_accuracy: 0.9930\n",
      "Epoch 128/200\n",
      "203/203 [==============================] - 0s 1ms/step - loss: 0.0336 - accuracy: 0.9906 - val_loss: 0.0193 - val_accuracy: 0.9930\n",
      "Epoch 129/200\n",
      "203/203 [==============================] - 0s 1ms/step - loss: 0.0598 - accuracy: 0.9911 - val_loss: 0.0195 - val_accuracy: 0.9930\n",
      "Epoch 130/200\n",
      "203/203 [==============================] - 0s 1ms/step - loss: 0.0358 - accuracy: 0.9916 - val_loss: 0.0196 - val_accuracy: 0.9930\n",
      "Epoch 131/200\n",
      "203/203 [==============================] - 0s 1ms/step - loss: 0.0357 - accuracy: 0.9897 - val_loss: 0.0196 - val_accuracy: 0.9930\n",
      "Epoch 132/200\n",
      "203/203 [==============================] - ETA: 0s - loss: 0.0440 - accuracy: 0.99 - 0s 1ms/step - loss: 0.0410 - accuracy: 0.9911 - val_loss: 0.0197 - val_accuracy: 0.9930\n",
      "Epoch 133/200\n",
      "203/203 [==============================] - 0s 1ms/step - loss: 0.0383 - accuracy: 0.9897 - val_loss: 0.0197 - val_accuracy: 0.9930\n",
      "Epoch 134/200\n",
      "203/203 [==============================] - 0s 2ms/step - loss: 0.0351 - accuracy: 0.9911 - val_loss: 0.0197 - val_accuracy: 0.9930\n",
      "Epoch 135/200\n",
      "203/203 [==============================] - 0s 1ms/step - loss: 0.0269 - accuracy: 0.9911 - val_loss: 0.0198 - val_accuracy: 0.9930\n",
      "Epoch 136/200\n",
      "203/203 [==============================] - 0s 1ms/step - loss: 0.0285 - accuracy: 0.9921 - val_loss: 0.0197 - val_accuracy: 0.9930\n",
      "Epoch 137/200\n",
      "203/203 [==============================] - 0s 1ms/step - loss: 0.0291 - accuracy: 0.9906 - val_loss: 0.0195 - val_accuracy: 0.9930\n",
      "Epoch 138/200\n",
      "203/203 [==============================] - 0s 1ms/step - loss: 0.0296 - accuracy: 0.9897 - val_loss: 0.0196 - val_accuracy: 0.9930\n",
      "Epoch 139/200\n",
      "203/203 [==============================] - 0s 1ms/step - loss: 0.0332 - accuracy: 0.9926 - val_loss: 0.0193 - val_accuracy: 0.9930\n",
      "Epoch 140/200\n",
      "203/203 [==============================] - 0s 1ms/step - loss: 0.0246 - accuracy: 0.9921 - val_loss: 0.0191 - val_accuracy: 0.9930\n",
      "Epoch 141/200\n",
      "203/203 [==============================] - 0s 1ms/step - loss: 0.0542 - accuracy: 0.9897 - val_loss: 0.0188 - val_accuracy: 0.9930\n",
      "Epoch 142/200\n",
      "203/203 [==============================] - 0s 2ms/step - loss: 0.0354 - accuracy: 0.9882 - val_loss: 0.0189 - val_accuracy: 0.9930\n",
      "Epoch 143/200\n",
      "203/203 [==============================] - 0s 1ms/step - loss: 0.0334 - accuracy: 0.9911 - val_loss: 0.0189 - val_accuracy: 0.9930\n",
      "Epoch 144/200\n",
      "203/203 [==============================] - 0s 1ms/step - loss: 0.0345 - accuracy: 0.9897 - val_loss: 0.0189 - val_accuracy: 0.9930\n",
      "Epoch 145/200\n",
      "203/203 [==============================] - 0s 1ms/step - loss: 0.0298 - accuracy: 0.9901 - val_loss: 0.0190 - val_accuracy: 0.9930\n",
      "Epoch 146/200\n",
      "203/203 [==============================] - 0s 1ms/step - loss: 0.0375 - accuracy: 0.9882 - val_loss: 0.0190 - val_accuracy: 0.9930\n",
      "Epoch 147/200\n",
      "203/203 [==============================] - 0s 1ms/step - loss: 0.0311 - accuracy: 0.9916 - val_loss: 0.0191 - val_accuracy: 0.9930\n",
      "Epoch 148/200\n",
      "203/203 [==============================] - 0s 1ms/step - loss: 0.0390 - accuracy: 0.9901 - val_loss: 0.0189 - val_accuracy: 0.9930\n",
      "Epoch 149/200\n",
      "203/203 [==============================] - 0s 1ms/step - loss: 0.0376 - accuracy: 0.9901 - val_loss: 0.0190 - val_accuracy: 0.9930\n",
      "Epoch 150/200\n",
      "203/203 [==============================] - 0s 2ms/step - loss: 0.0306 - accuracy: 0.9911 - val_loss: 0.0191 - val_accuracy: 0.9930\n",
      "Epoch 151/200\n",
      "203/203 [==============================] - 0s 1ms/step - loss: 0.0259 - accuracy: 0.9936 - val_loss: 0.0189 - val_accuracy: 0.9930\n",
      "Epoch 152/200\n",
      "203/203 [==============================] - 0s 1ms/step - loss: 0.0338 - accuracy: 0.9901 - val_loss: 0.0189 - val_accuracy: 0.9930\n",
      "Epoch 153/200\n",
      "203/203 [==============================] - 0s 1ms/step - loss: 0.0387 - accuracy: 0.9887 - val_loss: 0.0192 - val_accuracy: 0.9930\n",
      "Epoch 154/200\n",
      "203/203 [==============================] - 0s 1ms/step - loss: 0.0251 - accuracy: 0.9926 - val_loss: 0.0192 - val_accuracy: 0.9930\n",
      "Epoch 155/200\n",
      "203/203 [==============================] - 0s 1ms/step - loss: 0.0292 - accuracy: 0.9906 - val_loss: 0.0190 - val_accuracy: 0.9930\n",
      "Epoch 156/200\n",
      "203/203 [==============================] - 0s 1ms/step - loss: 0.0378 - accuracy: 0.9892 - val_loss: 0.0190 - val_accuracy: 0.9930\n",
      "Epoch 157/200\n",
      "203/203 [==============================] - 0s 1ms/step - loss: 0.0444 - accuracy: 0.9911 - val_loss: 0.0194 - val_accuracy: 0.9930\n",
      "Epoch 158/200\n",
      "203/203 [==============================] - 0s 1ms/step - loss: 0.0235 - accuracy: 0.9921 - val_loss: 0.0193 - val_accuracy: 0.9930\n",
      "Epoch 159/200\n",
      "203/203 [==============================] - 0s 1ms/step - loss: 0.0236 - accuracy: 0.9901 - val_loss: 0.0191 - val_accuracy: 0.9930\n",
      "Epoch 160/200\n",
      "203/203 [==============================] - 0s 1ms/step - loss: 0.0352 - accuracy: 0.9887 - val_loss: 0.0192 - val_accuracy: 0.9930\n",
      "Epoch 161/200\n",
      "203/203 [==============================] - 0s 1ms/step - loss: 0.0241 - accuracy: 0.9916 - val_loss: 0.0191 - val_accuracy: 0.9930\n",
      "Epoch 162/200\n",
      "203/203 [==============================] - 0s 2ms/step - loss: 0.0321 - accuracy: 0.9882 - val_loss: 0.0194 - val_accuracy: 0.9930\n",
      "Epoch 163/200\n",
      "203/203 [==============================] - 0s 1ms/step - loss: 0.0390 - accuracy: 0.9882 - val_loss: 0.0194 - val_accuracy: 0.9930\n",
      "Epoch 164/200\n",
      "203/203 [==============================] - 0s 1ms/step - loss: 0.0317 - accuracy: 0.9916 - val_loss: 0.0193 - val_accuracy: 0.9930\n",
      "Epoch 165/200\n",
      "203/203 [==============================] - 0s 1ms/step - loss: 0.0277 - accuracy: 0.9916 - val_loss: 0.0191 - val_accuracy: 0.9930\n",
      "Epoch 166/200\n",
      "203/203 [==============================] - 0s 2ms/step - loss: 0.0250 - accuracy: 0.9911 - val_loss: 0.0188 - val_accuracy: 0.9930\n",
      "Epoch 167/200\n",
      "203/203 [==============================] - 0s 1ms/step - loss: 0.0307 - accuracy: 0.9906 - val_loss: 0.0187 - val_accuracy: 0.9930\n",
      "Epoch 168/200\n",
      "203/203 [==============================] - 0s 1ms/step - loss: 0.0232 - accuracy: 0.9931 - val_loss: 0.0188 - val_accuracy: 0.9930\n",
      "Epoch 169/200\n",
      "203/203 [==============================] - 0s 1ms/step - loss: 0.0276 - accuracy: 0.9897 - val_loss: 0.0187 - val_accuracy: 0.9930\n",
      "Epoch 170/200\n"
     ]
    },
    {
     "name": "stdout",
     "output_type": "stream",
     "text": [
      "203/203 [==============================] - 0s 1ms/step - loss: 0.0242 - accuracy: 0.9926 - val_loss: 0.0186 - val_accuracy: 0.9930\n",
      "Epoch 171/200\n",
      "203/203 [==============================] - 0s 1ms/step - loss: 0.0263 - accuracy: 0.9906 - val_loss: 0.0185 - val_accuracy: 0.9930\n",
      "Epoch 172/200\n",
      "203/203 [==============================] - 0s 1ms/step - loss: 0.0243 - accuracy: 0.9911 - val_loss: 0.0185 - val_accuracy: 0.9930\n",
      "Epoch 173/200\n",
      "203/203 [==============================] - 0s 1ms/step - loss: 0.0210 - accuracy: 0.9926 - val_loss: 0.0184 - val_accuracy: 0.9930\n",
      "Epoch 174/200\n",
      "203/203 [==============================] - 0s 1ms/step - loss: 0.0334 - accuracy: 0.9911 - val_loss: 0.0184 - val_accuracy: 0.9930\n",
      "Epoch 175/200\n",
      "203/203 [==============================] - 0s 1ms/step - loss: 0.0280 - accuracy: 0.9892 - val_loss: 0.0185 - val_accuracy: 0.9930\n",
      "Epoch 176/200\n",
      "203/203 [==============================] - 0s 1ms/step - loss: 0.0295 - accuracy: 0.9901 - val_loss: 0.0186 - val_accuracy: 0.9930\n",
      "Epoch 177/200\n",
      "203/203 [==============================] - 0s 1ms/step - loss: 0.0374 - accuracy: 0.9901 - val_loss: 0.0186 - val_accuracy: 0.9930\n",
      "Epoch 178/200\n",
      "203/203 [==============================] - 0s 1ms/step - loss: 0.0252 - accuracy: 0.9921 - val_loss: 0.0186 - val_accuracy: 0.9930\n",
      "Epoch 179/200\n",
      "203/203 [==============================] - 0s 1ms/step - loss: 0.0199 - accuracy: 0.9931 - val_loss: 0.0185 - val_accuracy: 0.9930\n",
      "Epoch 180/200\n",
      "203/203 [==============================] - 0s 1ms/step - loss: 0.0211 - accuracy: 0.9921 - val_loss: 0.0182 - val_accuracy: 0.9930\n",
      "Epoch 181/200\n",
      "203/203 [==============================] - 0s 1ms/step - loss: 0.0264 - accuracy: 0.9916 - val_loss: 0.0183 - val_accuracy: 0.9930\n",
      "Epoch 182/200\n",
      "203/203 [==============================] - 0s 1ms/step - loss: 0.0229 - accuracy: 0.9926 - val_loss: 0.0182 - val_accuracy: 0.9930\n",
      "Epoch 183/200\n",
      "203/203 [==============================] - 0s 1ms/step - loss: 0.0261 - accuracy: 0.9916 - val_loss: 0.0182 - val_accuracy: 0.9930\n",
      "Epoch 184/200\n",
      "203/203 [==============================] - 0s 1ms/step - loss: 0.0265 - accuracy: 0.9911 - val_loss: 0.0182 - val_accuracy: 0.9930\n",
      "Epoch 185/200\n",
      "203/203 [==============================] - 0s 2ms/step - loss: 0.0247 - accuracy: 0.9921 - val_loss: 0.0181 - val_accuracy: 0.9930\n",
      "Epoch 186/200\n",
      "203/203 [==============================] - 0s 2ms/step - loss: 0.0240 - accuracy: 0.9916 - val_loss: 0.0181 - val_accuracy: 0.9930\n",
      "Epoch 187/200\n",
      "203/203 [==============================] - 0s 1ms/step - loss: 0.0318 - accuracy: 0.9897 - val_loss: 0.0181 - val_accuracy: 0.9930\n",
      "Epoch 188/200\n",
      "203/203 [==============================] - 0s 1ms/step - loss: 0.0231 - accuracy: 0.9906 - val_loss: 0.0181 - val_accuracy: 0.9930\n",
      "Epoch 189/200\n",
      "203/203 [==============================] - 0s 1ms/step - loss: 0.0201 - accuracy: 0.9916 - val_loss: 0.0180 - val_accuracy: 0.9930\n",
      "Epoch 190/200\n",
      "203/203 [==============================] - 0s 1ms/step - loss: 0.0274 - accuracy: 0.9916 - val_loss: 0.0180 - val_accuracy: 0.9930\n",
      "Epoch 191/200\n",
      "203/203 [==============================] - 0s 1ms/step - loss: 0.0266 - accuracy: 0.9911 - val_loss: 0.0179 - val_accuracy: 0.9930\n",
      "Epoch 192/200\n",
      "203/203 [==============================] - 0s 1ms/step - loss: 0.0238 - accuracy: 0.9911 - val_loss: 0.0179 - val_accuracy: 0.9930\n",
      "Epoch 193/200\n",
      "203/203 [==============================] - 0s 2ms/step - loss: 0.0306 - accuracy: 0.9906 - val_loss: 0.0180 - val_accuracy: 0.9930\n",
      "Epoch 194/200\n",
      "203/203 [==============================] - 0s 1ms/step - loss: 0.0281 - accuracy: 0.9901 - val_loss: 0.0180 - val_accuracy: 0.9930\n",
      "Epoch 195/200\n",
      "203/203 [==============================] - 0s 1ms/step - loss: 0.0394 - accuracy: 0.9897 - val_loss: 0.0181 - val_accuracy: 0.9930\n",
      "Epoch 196/200\n",
      "203/203 [==============================] - 0s 2ms/step - loss: 0.0246 - accuracy: 0.9921 - val_loss: 0.0181 - val_accuracy: 0.9930\n",
      "Epoch 197/200\n",
      "203/203 [==============================] - 0s 1ms/step - loss: 0.0296 - accuracy: 0.9916 - val_loss: 0.0180 - val_accuracy: 0.9930\n",
      "Epoch 198/200\n",
      "203/203 [==============================] - 0s 1ms/step - loss: 0.0251 - accuracy: 0.9931 - val_loss: 0.0180 - val_accuracy: 0.9930\n",
      "Epoch 199/200\n",
      "203/203 [==============================] - 0s 2ms/step - loss: 0.0325 - accuracy: 0.9911 - val_loss: 0.0180 - val_accuracy: 0.9930\n",
      "Epoch 200/200\n",
      "203/203 [==============================] - 0s 1ms/step - loss: 0.0272 - accuracy: 0.9911 - val_loss: 0.0180 - val_accuracy: 0.9930\n"
     ]
    }
   ],
   "source": [
    "model_history=classifier.fit(X_train, Y_train,validation_split=0.33, batch_size = 10, epochs = 200)"
   ]
  },
  {
   "cell_type": "code",
   "execution_count": 87,
   "metadata": {},
   "outputs": [
    {
     "name": "stdout",
     "output_type": "stream",
     "text": [
      "dict_keys(['loss', 'accuracy', 'val_loss', 'val_accuracy'])\n"
     ]
    }
   ],
   "source": [
    "print(model_history.history.keys())"
   ]
  },
  {
   "cell_type": "code",
   "execution_count": 88,
   "metadata": {},
   "outputs": [
    {
     "data": {
      "image/png": "[encoded data removed]",
      "text/plain": [
       "<Figure size 864x432 with 1 Axes>"
      ]
     },
     "metadata": {
      "needs_background": "light"
     },
     "output_type": "display_data"
    }
   ],
   "source": [
    "# summarize history for accuracy\n",
    "plt.plot(model_history.history['accuracy'])\n",
    "plt.plot(model_history.history['val_accuracy'])\n",
    "plt.title('model accuracy')\n",
    "plt.ylabel('accuracy')\n",
    "plt.xlabel('epoch')\n",
    "plt.legend(['train', 'test'], loc='lower right')\n",
    "plt.savefig('ReluModelAccuracyat200WithDropout.png')\n",
    "plt.show()"
   ]
  },
  {
   "cell_type": "code",
   "execution_count": 89,
   "metadata": {},
   "outputs": [
    {
     "data": {
      "image/png": "[encoded data removed]",
      "text/plain": [
       "<Figure size 864x432 with 1 Axes>"
      ]
     },
     "metadata": {
      "needs_background": "light"
     },
     "output_type": "display_data"
    }
   ],
   "source": [
    "# summarize history for loss\n",
    "plt.plot(model_history.history['loss'])\n",
    "plt.plot(model_history.history['val_loss'])\n",
    "plt.title('model loss')\n",
    "plt.ylabel('loss')\n",
    "plt.xlabel('epoch')\n",
    "plt.legend(['train', 'test'], loc='upper left')\n",
    "plt.savefig('RelyModelLossAt200WithDropout.png')\n",
    "plt.show()"
   ]
  },
  {
   "cell_type": "code",
   "execution_count": 90,
   "metadata": {},
   "outputs": [],
   "source": [
    "Y_pred = np.argmax(classifier.predict(X_test),axis=1)\n",
    "Y_pred = (Y_pred > 0.5)"
   ]
  },
  {
   "cell_type": "code",
   "execution_count": 91,
   "metadata": {},
   "outputs": [],
   "source": [
    "from sklearn.metrics import confusion_matrix\n",
    "cm = confusion_matrix(Y_test, Y_pred)"
   ]
  },
  {
   "cell_type": "code",
   "execution_count": 92,
   "metadata": {},
   "outputs": [
    {
     "data": {
      "text/plain": [
       "(758,)"
      ]
     },
     "execution_count": 92,
     "metadata": {},
     "output_type": "execute_result"
    }
   ],
   "source": [
    "Y_pred.shape"
   ]
  },
  {
   "cell_type": "code",
   "execution_count": 93,
   "metadata": {},
   "outputs": [
    {
     "data": {
      "text/plain": [
       "(758,)"
      ]
     },
     "execution_count": 93,
     "metadata": {},
     "output_type": "execute_result"
    }
   ],
   "source": [
    "Y_test.shape"
   ]
  },
  {
   "cell_type": "code",
   "execution_count": 94,
   "metadata": {},
   "outputs": [
    {
     "data": {
      "image/png": "[encoded data removed]",
      "text/plain": [
       "<Figure size 864x432 with 2 Axes>"
      ]
     },
     "metadata": {
      "needs_background": "light"
     },
     "output_type": "display_data"
    }
   ],
   "source": [
    "ax= plt.subplot()\n",
    "sns.heatmap(cm,annot=True,ax=ax,fmt='g')\n",
    "ax.set_xlabel('Predicted', fontsize=15)\n",
    "ax.xaxis.set_label_position('bottom')\n",
    "ax.set_ylabel('True', fontsize=15)\n",
    "plt.savefig('ReluPredAt200WithDropout.png')"
   ]
  },
  {
   "cell_type": "code",
   "execution_count": 95,
   "metadata": {},
   "outputs": [
    {
     "data": {
      "text/plain": [
       "array([[  5,   0,   0],\n",
       "       [  0, 749,   0],\n",
       "       [  4,   0,   0]], dtype=int64)"
      ]
     },
     "execution_count": 95,
     "metadata": {},
     "output_type": "execute_result"
    }
   ],
   "source": [
    "cm"
   ]
  },
  {
   "cell_type": "markdown",
   "metadata": {},
   "source": [
    "## Visualizing the Network"
   ]
  },
  {
   "cell_type": "code",
   "execution_count": null,
   "metadata": {},
   "outputs": [],
   "source": [
    "#pip install ann_visualizer"
   ]
  },
  {
   "cell_type": "code",
   "execution_count": null,
   "metadata": {},
   "outputs": [],
   "source": [
    "#pip install graphviz"
   ]
  },
  {
   "cell_type": "code",
   "execution_count": null,
   "metadata": {},
   "outputs": [],
   "source": [
    "#import graphviz"
   ]
  },
  {
   "cell_type": "code",
   "execution_count": null,
   "metadata": {},
   "outputs": [],
   "source": [
    "#from ann_visualizer.visualize import ann_viz"
   ]
  },
  {
   "cell_type": "code",
   "execution_count": null,
   "metadata": {},
   "outputs": [],
   "source": [
    "#ann_viz(classifier, view=True, filename='Network.gv', title=\"Neural Network\")"
   ]
  },
  {
   "cell_type": "markdown",
   "metadata": {},
   "source": [
    "# Model Building (2) LeakyReLU"
   ]
  },
  {
   "cell_type": "code",
   "execution_count": 96,
   "metadata": {},
   "outputs": [],
   "source": [
    "import tensorflow as tf"
   ]
  },
  {
   "cell_type": "code",
   "execution_count": 107,
   "metadata": {},
   "outputs": [],
   "source": [
    "LRelu=tf.keras.layers.LeakyReLU(alpha=0.5)"
   ]
  },
  {
   "cell_type": "code",
   "execution_count": 108,
   "metadata": {},
   "outputs": [],
   "source": [
    "classifier.add(Dense(units=20,kernel_initializer='he_uniform',activation=LRelu,input_dim=41))\n",
    "classifier.add(Dropout(0.5))\n",
    "classifier.add(Dense(units=12,kernel_initializer='he_uniform',activation=LRelu))\n",
    "classifier.add(Dropout(0.3))\n",
    "classifier.add(Dense(units=12,kernel_initializer='he_uniform',activation=LRelu))\n",
    "classifier.add(Dropout(0.4))\n",
    "classifier.add(Dense(units=3,kernel_initializer='glorot_uniform',activation='softmax'))\n",
    "classifier.compile(optimizer = 'Adamax', loss = 'sparse_categorical_crossentropy', metrics = ['accuracy'])"
   ]
  },
  {
   "cell_type": "code",
   "execution_count": 109,
   "metadata": {},
   "outputs": [
    {
     "name": "stdout",
     "output_type": "stream",
     "text": [
      "Epoch 1/100\n",
      "203/203 [==============================] - 1s 3ms/step - loss: 1.5313 - accuracy: 0.5517 - val_loss: 0.1391 - val_accuracy: 0.9810\n",
      "Epoch 2/100\n",
      "203/203 [==============================] - 0s 2ms/step - loss: 0.3995 - accuracy: 0.8734 - val_loss: 0.0593 - val_accuracy: 0.9810\n",
      "Epoch 3/100\n",
      "203/203 [==============================] - 0s 2ms/step - loss: 0.2077 - accuracy: 0.9443 - val_loss: 0.0508 - val_accuracy: 0.9810\n",
      "Epoch 4/100\n",
      "203/203 [==============================] - 0s 2ms/step - loss: 0.1720 - accuracy: 0.9552 - val_loss: 0.0511 - val_accuracy: 0.9810\n",
      "Epoch 5/100\n",
      "203/203 [==============================] - 0s 2ms/step - loss: 0.1388 - accuracy: 0.9714 - val_loss: 0.0518 - val_accuracy: 0.9810\n",
      "Epoch 6/100\n",
      "203/203 [==============================] - 0s 2ms/step - loss: 0.1331 - accuracy: 0.9734 - val_loss: 0.0528 - val_accuracy: 0.9810\n",
      "Epoch 7/100\n",
      "203/203 [==============================] - 0s 1ms/step - loss: 0.1117 - accuracy: 0.9759 - val_loss: 0.0529 - val_accuracy: 0.9810\n",
      "Epoch 8/100\n",
      "203/203 [==============================] - 0s 2ms/step - loss: 0.1157 - accuracy: 0.9828 - val_loss: 0.0521 - val_accuracy: 0.9810\n",
      "Epoch 9/100\n",
      "203/203 [==============================] - 0s 2ms/step - loss: 0.1140 - accuracy: 0.9818 - val_loss: 0.0505 - val_accuracy: 0.9810\n",
      "Epoch 10/100\n",
      "203/203 [==============================] - 0s 2ms/step - loss: 0.0831 - accuracy: 0.9818 - val_loss: 0.0491 - val_accuracy: 0.9810\n",
      "Epoch 11/100\n",
      "203/203 [==============================] - 0s 2ms/step - loss: 0.0879 - accuracy: 0.9867 - val_loss: 0.0471 - val_accuracy: 0.9810\n",
      "Epoch 12/100\n",
      "203/203 [==============================] - 0s 2ms/step - loss: 0.0855 - accuracy: 0.9872 - val_loss: 0.0452 - val_accuracy: 0.9810\n",
      "Epoch 13/100\n",
      "203/203 [==============================] - 0s 2ms/step - loss: 0.0869 - accuracy: 0.9857 - val_loss: 0.0450 - val_accuracy: 0.9810\n",
      "Epoch 14/100\n",
      "203/203 [==============================] - 0s 2ms/step - loss: 0.0694 - accuracy: 0.9887 - val_loss: 0.0436 - val_accuracy: 0.9810\n",
      "Epoch 15/100\n",
      "203/203 [==============================] - 0s 2ms/step - loss: 0.0865 - accuracy: 0.9862 - val_loss: 0.0417 - val_accuracy: 0.9810\n",
      "Epoch 16/100\n",
      "203/203 [==============================] - 0s 2ms/step - loss: 0.0775 - accuracy: 0.9877 - val_loss: 0.0402 - val_accuracy: 0.9810\n",
      "Epoch 17/100\n",
      "203/203 [==============================] - 0s 2ms/step - loss: 0.0777 - accuracy: 0.9867 - val_loss: 0.0391 - val_accuracy: 0.9810\n",
      "Epoch 18/100\n",
      "203/203 [==============================] - 0s 2ms/step - loss: 0.0774 - accuracy: 0.9877 - val_loss: 0.0384 - val_accuracy: 0.9810\n",
      "Epoch 19/100\n",
      "203/203 [==============================] - 0s 2ms/step - loss: 0.0771 - accuracy: 0.9862 - val_loss: 0.0367 - val_accuracy: 0.9810\n",
      "Epoch 20/100\n",
      "203/203 [==============================] - 0s 2ms/step - loss: 0.0853 - accuracy: 0.9857 - val_loss: 0.0357 - val_accuracy: 0.9810\n",
      "Epoch 21/100\n",
      "203/203 [==============================] - 0s 2ms/step - loss: 0.0722 - accuracy: 0.9882 - val_loss: 0.0340 - val_accuracy: 0.9810\n",
      "Epoch 22/100\n",
      "203/203 [==============================] - 0s 2ms/step - loss: 0.0601 - accuracy: 0.9901 - val_loss: 0.0327 - val_accuracy: 0.9810\n",
      "Epoch 23/100\n",
      "203/203 [==============================] - 0s 2ms/step - loss: 0.0822 - accuracy: 0.9842 - val_loss: 0.0315 - val_accuracy: 0.9810\n",
      "Epoch 24/100\n",
      "203/203 [==============================] - 0s 2ms/step - loss: 0.0635 - accuracy: 0.9867 - val_loss: 0.0314 - val_accuracy: 0.9810\n",
      "Epoch 25/100\n",
      "203/203 [==============================] - 0s 2ms/step - loss: 0.0683 - accuracy: 0.9872 - val_loss: 0.0305 - val_accuracy: 0.9810\n",
      "Epoch 26/100\n",
      "203/203 [==============================] - 0s 2ms/step - loss: 0.0563 - accuracy: 0.9892 - val_loss: 0.0290 - val_accuracy: 0.9810\n",
      "Epoch 27/100\n",
      "203/203 [==============================] - 0s 2ms/step - loss: 0.0723 - accuracy: 0.9877 - val_loss: 0.0277 - val_accuracy: 0.9810\n",
      "Epoch 28/100\n",
      "203/203 [==============================] - 0s 2ms/step - loss: 0.0651 - accuracy: 0.9887 - val_loss: 0.0259 - val_accuracy: 0.9810\n",
      "Epoch 29/100\n",
      "203/203 [==============================] - 0s 2ms/step - loss: 0.0642 - accuracy: 0.9892 - val_loss: 0.0245 - val_accuracy: 0.9810\n",
      "Epoch 30/100\n",
      "203/203 [==============================] - 0s 2ms/step - loss: 0.0537 - accuracy: 0.9882 - val_loss: 0.0235 - val_accuracy: 0.9810\n",
      "Epoch 31/100\n",
      "203/203 [==============================] - 0s 2ms/step - loss: 0.0703 - accuracy: 0.9877 - val_loss: 0.0233 - val_accuracy: 0.9810\n",
      "Epoch 32/100\n",
      "203/203 [==============================] - 0s 2ms/step - loss: 0.0556 - accuracy: 0.9882 - val_loss: 0.0226 - val_accuracy: 0.9930\n",
      "Epoch 33/100\n",
      "203/203 [==============================] - 0s 1ms/step - loss: 0.0475 - accuracy: 0.9897 - val_loss: 0.0219 - val_accuracy: 0.9930\n",
      "Epoch 34/100\n",
      "203/203 [==============================] - 0s 1ms/step - loss: 0.0610 - accuracy: 0.9887 - val_loss: 0.0221 - val_accuracy: 0.9930\n",
      "Epoch 35/100\n",
      "203/203 [==============================] - 0s 2ms/step - loss: 0.0631 - accuracy: 0.9887 - val_loss: 0.0221 - val_accuracy: 0.9930\n",
      "Epoch 36/100\n",
      "203/203 [==============================] - 0s 1ms/step - loss: 0.0381 - accuracy: 0.9901 - val_loss: 0.0215 - val_accuracy: 0.9930\n",
      "Epoch 37/100\n",
      "203/203 [==============================] - 0s 1ms/step - loss: 0.0437 - accuracy: 0.9916 - val_loss: 0.0212 - val_accuracy: 0.9930\n",
      "Epoch 38/100\n",
      "203/203 [==============================] - 0s 1ms/step - loss: 0.0775 - accuracy: 0.9867 - val_loss: 0.0212 - val_accuracy: 0.9930\n",
      "Epoch 39/100\n",
      "203/203 [==============================] - 0s 2ms/step - loss: 0.0575 - accuracy: 0.9887 - val_loss: 0.0212 - val_accuracy: 0.9930\n",
      "Epoch 40/100\n",
      "203/203 [==============================] - 0s 2ms/step - loss: 0.0574 - accuracy: 0.9882 - val_loss: 0.0212 - val_accuracy: 0.9930\n",
      "Epoch 41/100\n",
      "203/203 [==============================] - 0s 2ms/step - loss: 0.0599 - accuracy: 0.9882 - val_loss: 0.0210 - val_accuracy: 0.9930\n",
      "Epoch 42/100\n",
      "203/203 [==============================] - 0s 2ms/step - loss: 0.0528 - accuracy: 0.9892 - val_loss: 0.0210 - val_accuracy: 0.9930\n",
      "Epoch 43/100\n",
      "203/203 [==============================] - 0s 2ms/step - loss: 0.0545 - accuracy: 0.9901 - val_loss: 0.0208 - val_accuracy: 0.9930\n",
      "Epoch 44/100\n",
      "203/203 [==============================] - 0s 2ms/step - loss: 0.0606 - accuracy: 0.9901 - val_loss: 0.0205 - val_accuracy: 0.9930\n",
      "Epoch 45/100\n",
      "203/203 [==============================] - 0s 2ms/step - loss: 0.0448 - accuracy: 0.9872 - val_loss: 0.0204 - val_accuracy: 0.9930\n",
      "Epoch 46/100\n",
      "203/203 [==============================] - 0s 2ms/step - loss: 0.0459 - accuracy: 0.9882 - val_loss: 0.0202 - val_accuracy: 0.9930\n",
      "Epoch 47/100\n",
      "203/203 [==============================] - 0s 2ms/step - loss: 0.0576 - accuracy: 0.9877 - val_loss: 0.0200 - val_accuracy: 0.9930\n",
      "Epoch 48/100\n",
      "203/203 [==============================] - 0s 2ms/step - loss: 0.0643 - accuracy: 0.9872 - val_loss: 0.0201 - val_accuracy: 0.9930\n",
      "Epoch 49/100\n",
      "203/203 [==============================] - 0s 2ms/step - loss: 0.0447 - accuracy: 0.9887 - val_loss: 0.0201 - val_accuracy: 0.9930\n",
      "Epoch 50/100\n",
      "203/203 [==============================] - 0s 2ms/step - loss: 0.0474 - accuracy: 0.9901 - val_loss: 0.0200 - val_accuracy: 0.9930\n",
      "Epoch 51/100\n",
      "203/203 [==============================] - 0s 2ms/step - loss: 0.0483 - accuracy: 0.9882 - val_loss: 0.0198 - val_accuracy: 0.9930\n",
      "Epoch 52/100\n",
      "203/203 [==============================] - 0s 2ms/step - loss: 0.0531 - accuracy: 0.9887 - val_loss: 0.0199 - val_accuracy: 0.9930\n",
      "Epoch 53/100\n",
      "203/203 [==============================] - 0s 2ms/step - loss: 0.0584 - accuracy: 0.9882 - val_loss: 0.0199 - val_accuracy: 0.9930\n",
      "Epoch 54/100\n",
      "203/203 [==============================] - 0s 2ms/step - loss: 0.0483 - accuracy: 0.9877 - val_loss: 0.0197 - val_accuracy: 0.9930\n",
      "Epoch 55/100\n",
      "203/203 [==============================] - 0s 2ms/step - loss: 0.0472 - accuracy: 0.9892 - val_loss: 0.0196 - val_accuracy: 0.9930\n",
      "Epoch 56/100\n",
      "203/203 [==============================] - 0s 2ms/step - loss: 0.0442 - accuracy: 0.9877 - val_loss: 0.0196 - val_accuracy: 0.9930\n",
      "Epoch 57/100\n",
      "203/203 [==============================] - 0s 2ms/step - loss: 0.0418 - accuracy: 0.9882 - val_loss: 0.0196 - val_accuracy: 0.9930\n"
     ]
    },
    {
     "name": "stdout",
     "output_type": "stream",
     "text": [
      "Epoch 58/100\n",
      "203/203 [==============================] - 0s 2ms/step - loss: 0.0490 - accuracy: 0.9882 - val_loss: 0.0196 - val_accuracy: 0.9930\n",
      "Epoch 59/100\n",
      "203/203 [==============================] - 0s 2ms/step - loss: 0.0452 - accuracy: 0.9887 - val_loss: 0.0195 - val_accuracy: 0.9930\n",
      "Epoch 60/100\n",
      "203/203 [==============================] - 0s 2ms/step - loss: 0.0619 - accuracy: 0.9877 - val_loss: 0.0194 - val_accuracy: 0.9930\n",
      "Epoch 61/100\n",
      "203/203 [==============================] - 0s 2ms/step - loss: 0.0642 - accuracy: 0.9887 - val_loss: 0.0195 - val_accuracy: 0.9930\n",
      "Epoch 62/100\n",
      "203/203 [==============================] - 0s 2ms/step - loss: 0.0461 - accuracy: 0.9887 - val_loss: 0.0194 - val_accuracy: 0.9930\n",
      "Epoch 63/100\n",
      "203/203 [==============================] - 0s 2ms/step - loss: 0.0640 - accuracy: 0.9877 - val_loss: 0.0195 - val_accuracy: 0.9930\n",
      "Epoch 64/100\n",
      "203/203 [==============================] - 0s 2ms/step - loss: 0.0434 - accuracy: 0.9867 - val_loss: 0.0195 - val_accuracy: 0.9930\n",
      "Epoch 65/100\n",
      "203/203 [==============================] - 0s 2ms/step - loss: 0.0474 - accuracy: 0.9911 - val_loss: 0.0195 - val_accuracy: 0.9930\n",
      "Epoch 66/100\n",
      "203/203 [==============================] - 0s 2ms/step - loss: 0.0511 - accuracy: 0.9892 - val_loss: 0.0195 - val_accuracy: 0.9930\n",
      "Epoch 67/100\n",
      "203/203 [==============================] - 0s 2ms/step - loss: 0.0430 - accuracy: 0.9882 - val_loss: 0.0194 - val_accuracy: 0.9930\n",
      "Epoch 68/100\n",
      "203/203 [==============================] - 0s 2ms/step - loss: 0.0521 - accuracy: 0.9852 - val_loss: 0.0194 - val_accuracy: 0.9930\n",
      "Epoch 69/100\n",
      "203/203 [==============================] - 0s 2ms/step - loss: 0.0413 - accuracy: 0.9897 - val_loss: 0.0194 - val_accuracy: 0.9930\n",
      "Epoch 70/100\n",
      "203/203 [==============================] - 0s 2ms/step - loss: 0.0443 - accuracy: 0.9877 - val_loss: 0.0194 - val_accuracy: 0.9930\n",
      "Epoch 71/100\n",
      "203/203 [==============================] - 0s 2ms/step - loss: 0.0439 - accuracy: 0.9892 - val_loss: 0.0193 - val_accuracy: 0.9930\n",
      "Epoch 72/100\n",
      "203/203 [==============================] - 0s 2ms/step - loss: 0.0395 - accuracy: 0.9892 - val_loss: 0.0192 - val_accuracy: 0.9930\n",
      "Epoch 73/100\n",
      "203/203 [==============================] - 0s 2ms/step - loss: 0.0419 - accuracy: 0.9901 - val_loss: 0.0192 - val_accuracy: 0.9930\n",
      "Epoch 74/100\n",
      "203/203 [==============================] - 0s 2ms/step - loss: 0.0317 - accuracy: 0.9892 - val_loss: 0.0192 - val_accuracy: 0.9930\n",
      "Epoch 75/100\n",
      "203/203 [==============================] - 0s 2ms/step - loss: 0.0384 - accuracy: 0.9882 - val_loss: 0.0191 - val_accuracy: 0.9930\n",
      "Epoch 76/100\n",
      "203/203 [==============================] - 0s 2ms/step - loss: 0.0379 - accuracy: 0.9906 - val_loss: 0.0190 - val_accuracy: 0.9930\n",
      "Epoch 77/100\n",
      "203/203 [==============================] - 0s 2ms/step - loss: 0.0532 - accuracy: 0.9882 - val_loss: 0.0191 - val_accuracy: 0.9930\n",
      "Epoch 78/100\n",
      "203/203 [==============================] - 0s 2ms/step - loss: 0.0350 - accuracy: 0.9892 - val_loss: 0.0192 - val_accuracy: 0.9930\n",
      "Epoch 79/100\n",
      "203/203 [==============================] - 0s 2ms/step - loss: 0.0523 - accuracy: 0.9882 - val_loss: 0.0191 - val_accuracy: 0.9930\n",
      "Epoch 80/100\n",
      "203/203 [==============================] - 0s 2ms/step - loss: 0.0557 - accuracy: 0.9867 - val_loss: 0.0190 - val_accuracy: 0.9930\n",
      "Epoch 81/100\n",
      "203/203 [==============================] - 0s 2ms/step - loss: 0.0430 - accuracy: 0.9887 - val_loss: 0.0190 - val_accuracy: 0.9930\n",
      "Epoch 82/100\n",
      "203/203 [==============================] - 0s 2ms/step - loss: 0.0455 - accuracy: 0.9882 - val_loss: 0.0189 - val_accuracy: 0.9930\n",
      "Epoch 83/100\n",
      "203/203 [==============================] - 0s 2ms/step - loss: 0.0434 - accuracy: 0.9921 - val_loss: 0.0189 - val_accuracy: 0.9930\n",
      "Epoch 84/100\n",
      "203/203 [==============================] - 0s 2ms/step - loss: 0.0417 - accuracy: 0.9882 - val_loss: 0.0188 - val_accuracy: 0.9930\n",
      "Epoch 85/100\n",
      "203/203 [==============================] - 0s 2ms/step - loss: 0.0377 - accuracy: 0.9882 - val_loss: 0.0189 - val_accuracy: 0.9930\n",
      "Epoch 86/100\n",
      "203/203 [==============================] - 0s 2ms/step - loss: 0.0321 - accuracy: 0.9882 - val_loss: 0.0190 - val_accuracy: 0.9930\n",
      "Epoch 87/100\n",
      "203/203 [==============================] - 0s 2ms/step - loss: 0.0449 - accuracy: 0.9887 - val_loss: 0.0190 - val_accuracy: 0.9930\n",
      "Epoch 88/100\n",
      "203/203 [==============================] - 0s 2ms/step - loss: 0.0398 - accuracy: 0.9901 - val_loss: 0.0190 - val_accuracy: 0.9930\n",
      "Epoch 89/100\n",
      "203/203 [==============================] - 0s 2ms/step - loss: 0.0399 - accuracy: 0.9887 - val_loss: 0.0190 - val_accuracy: 0.9930\n",
      "Epoch 90/100\n",
      "203/203 [==============================] - 0s 2ms/step - loss: 0.0590 - accuracy: 0.9867 - val_loss: 0.0190 - val_accuracy: 0.9930\n",
      "Epoch 91/100\n",
      "203/203 [==============================] - 0s 2ms/step - loss: 0.0443 - accuracy: 0.9877 - val_loss: 0.0190 - val_accuracy: 0.9930\n",
      "Epoch 92/100\n",
      "203/203 [==============================] - 0s 2ms/step - loss: 0.0426 - accuracy: 0.9897 - val_loss: 0.0190 - val_accuracy: 0.9930\n",
      "Epoch 93/100\n",
      "203/203 [==============================] - 0s 2ms/step - loss: 0.0426 - accuracy: 0.9892 - val_loss: 0.0189 - val_accuracy: 0.9930\n",
      "Epoch 94/100\n",
      "203/203 [==============================] - 0s 2ms/step - loss: 0.0470 - accuracy: 0.9887 - val_loss: 0.0190 - val_accuracy: 0.9930\n",
      "Epoch 95/100\n",
      "203/203 [==============================] - 0s 2ms/step - loss: 0.0445 - accuracy: 0.9906 - val_loss: 0.0189 - val_accuracy: 0.9930\n",
      "Epoch 96/100\n",
      "203/203 [==============================] - 0s 2ms/step - loss: 0.0299 - accuracy: 0.9882 - val_loss: 0.0190 - val_accuracy: 0.9930\n",
      "Epoch 97/100\n",
      "203/203 [==============================] - 0s 2ms/step - loss: 0.0317 - accuracy: 0.9916 - val_loss: 0.0190 - val_accuracy: 0.9930\n",
      "Epoch 98/100\n",
      "203/203 [==============================] - 0s 2ms/step - loss: 0.0457 - accuracy: 0.9877 - val_loss: 0.0189 - val_accuracy: 0.9930\n",
      "Epoch 99/100\n",
      "203/203 [==============================] - 0s 2ms/step - loss: 0.0288 - accuracy: 0.9906 - val_loss: 0.0188 - val_accuracy: 0.9930\n",
      "Epoch 100/100\n",
      "203/203 [==============================] - 0s 2ms/step - loss: 0.0343 - accuracy: 0.9906 - val_loss: 0.0189 - val_accuracy: 0.9930\n"
     ]
    }
   ],
   "source": [
    "model_history=classifier.fit(X_train, Y_train,validation_split=0.33, batch_size = 10, epochs = 100)"
   ]
  },
  {
   "cell_type": "code",
   "execution_count": 110,
   "metadata": {},
   "outputs": [
    {
     "name": "stdout",
     "output_type": "stream",
     "text": [
      "dict_keys(['loss', 'accuracy', 'val_loss', 'val_accuracy'])\n"
     ]
    }
   ],
   "source": [
    "print(model_history.history.keys())"
   ]
  },
  {
   "cell_type": "code",
   "execution_count": 111,
   "metadata": {},
   "outputs": [
    {
     "data": {
      "image/png": "[encoded data removed]",
      "text/plain": [
       "<Figure size 864x432 with 1 Axes>"
      ]
     },
     "metadata": {
      "needs_background": "light"
     },
     "output_type": "display_data"
    }
   ],
   "source": [
    "# summarize history for accuracy\n",
    "plt.plot(model_history.history['accuracy'])\n",
    "plt.plot(model_history.history['val_accuracy'])\n",
    "plt.title('model accuracy')\n",
    "plt.ylabel('accuracy')\n",
    "plt.xlabel('epoch')\n",
    "plt.legend(['train', 'test'], loc='lower right')\n",
    "#plt.savefig('LeakyReluModelAccuracyat200WithDropout.png')\n",
    "plt.show()"
   ]
  },
  {
   "cell_type": "code",
   "execution_count": 112,
   "metadata": {},
   "outputs": [
    {
     "data": {
      "image/png": "[encoded data removed]",
      "text/plain": [
       "<Figure size 864x432 with 1 Axes>"
      ]
     },
     "metadata": {
      "needs_background": "light"
     },
     "output_type": "display_data"
    }
   ],
   "source": [
    "# summarize history for loss\n",
    "plt.plot(model_history.history['loss'])\n",
    "plt.plot(model_history.history['val_loss'])\n",
    "plt.title('model loss')\n",
    "plt.ylabel('loss')\n",
    "plt.xlabel('epoch')\n",
    "plt.legend(['train', 'test'], loc='upper left')\n",
    "#plt.savefig('LeakyRelyModelLossAt200WithDropout.png')\n",
    "plt.show()"
   ]
  },
  {
   "cell_type": "code",
   "execution_count": 119,
   "metadata": {},
   "outputs": [],
   "source": [
    "Y_pred = np.argmax(classifier.predict(X_test),axis=1)\n",
    "#Y_pred = (Y_pred > 0.5)"
   ]
  },
  {
   "cell_type": "code",
   "execution_count": 120,
   "metadata": {},
   "outputs": [
    {
     "data": {
      "text/plain": [
       "Text(87.0, 0.5, 'True')"
      ]
     },
     "execution_count": 120,
     "metadata": {},
     "output_type": "execute_result"
    },
    {
     "data": {
      "image/png": "[encoded data removed]",
      "text/plain": [
       "<Figure size 864x432 with 2 Axes>"
      ]
     },
     "metadata": {
      "needs_background": "light"
     },
     "output_type": "display_data"
    }
   ],
   "source": [
    "ax= plt.subplot()\n",
    "sns.heatmap(cm,annot=True,ax=ax,fmt='g')\n",
    "ax.set_xlabel('Predicted', fontsize=15)\n",
    "ax.xaxis.set_label_position('bottom')\n",
    "ax.set_ylabel('True', fontsize=15)\n",
    "#plt.savefig('LeakyReluPredAt200WithDropout.png')"
   ]
  },
  {
   "cell_type": "markdown",
   "metadata": {},
   "source": [
    "## Metrics Score (Recall, Accuracy, F1, Precision)"
   ]
  },
  {
   "cell_type": "code",
   "execution_count": 134,
   "metadata": {},
   "outputs": [],
   "source": [
    "from sklearn.metrics import f1_score\n",
    "from sklearn.metrics import precision_score\n",
    "from sklearn.metrics import accuracy_score\n",
    "from sklearn.metrics import recall_score"
   ]
  },
  {
   "cell_type": "code",
   "execution_count": 130,
   "metadata": {},
   "outputs": [
    {
     "data": {
      "text/plain": [
       "array([0.71428571, 1.        , 0.        ])"
      ]
     },
     "execution_count": 130,
     "metadata": {},
     "output_type": "execute_result"
    }
   ],
   "source": [
    "f1_score(Y_test, Y_pred, average=None)"
   ]
  },
  {
   "cell_type": "code",
   "execution_count": 132,
   "metadata": {},
   "outputs": [
    {
     "data": {
      "text/plain": [
       "0.9947229551451188"
      ]
     },
     "execution_count": 132,
     "metadata": {},
     "output_type": "execute_result"
    }
   ],
   "source": [
    "accuracy_score(Y_test,Y_pred,normalize=True)"
   ]
  },
  {
   "cell_type": "code",
   "execution_count": 124,
   "metadata": {},
   "outputs": [
    {
     "data": {
      "text/plain": [
       "array([0.55555556, 1.        , 0.        ])"
      ]
     },
     "execution_count": 124,
     "metadata": {},
     "output_type": "execute_result"
    }
   ],
   "source": [
    "precision_score(Y_test,Y_pred,average=None,zero_division='warn')"
   ]
  },
  {
   "cell_type": "code",
   "execution_count": 135,
   "metadata": {},
   "outputs": [
    {
     "data": {
      "text/plain": [
       "array([1., 1., 0.])"
      ]
     },
     "execution_count": 135,
     "metadata": {},
     "output_type": "execute_result"
    }
   ],
   "source": [
    "recall_score(Y_test, Y_pred, average=None)"
   ]
  },
  {
   "cell_type": "markdown",
   "metadata": {},
   "source": [
    "# Model Building (3) SELU"
   ]
  },
  {
   "cell_type": "code",
   "execution_count": 138,
   "metadata": {},
   "outputs": [],
   "source": [
    "classifier.add(Dense(units=20,kernel_initializer='he_uniform',activation='selu',input_dim=41))\n",
    "classifier.add(Dropout(0.5))\n",
    "classifier.add(Dense(units=12,kernel_initializer='he_uniform',activation='selu'))\n",
    "classifier.add(Dropout(0.3))\n",
    "classifier.add(Dense(units=12,kernel_initializer='he_uniform',activation='selu'))\n",
    "classifier.add(Dropout(0.4))\n",
    "classifier.add(Dense(units=3,kernel_initializer='glorot_uniform',activation='softmax'))\n",
    "classifier.compile(optimizer = 'Adamax', loss = 'sparse_categorical_crossentropy', metrics = ['accuracy'])"
   ]
  },
  {
   "cell_type": "code",
   "execution_count": 140,
   "metadata": {},
   "outputs": [
    {
     "name": "stdout",
     "output_type": "stream",
     "text": [
      "Epoch 1/200\n",
      "203/203 [==============================] - 0s 2ms/step - loss: 0.0403 - accuracy: 0.9887 - val_loss: 0.0183 - val_accuracy: 0.9930\n",
      "Epoch 2/200\n",
      "203/203 [==============================] - 0s 2ms/step - loss: 0.0289 - accuracy: 0.9906 - val_loss: 0.0180 - val_accuracy: 0.9930\n",
      "Epoch 3/200\n",
      "203/203 [==============================] - 1s 3ms/step - loss: 0.0400 - accuracy: 0.9906 - val_loss: 0.0181 - val_accuracy: 0.9930\n",
      "Epoch 4/200\n",
      "203/203 [==============================] - 0s 2ms/step - loss: 0.0304 - accuracy: 0.9892 - val_loss: 0.0179 - val_accuracy: 0.9930\n",
      "Epoch 5/200\n",
      "203/203 [==============================] - 0s 2ms/step - loss: 0.0577 - accuracy: 0.9872 - val_loss: 0.0180 - val_accuracy: 0.9930\n",
      "Epoch 6/200\n",
      "203/203 [==============================] - 0s 2ms/step - loss: 0.0507 - accuracy: 0.9901 - val_loss: 0.0179 - val_accuracy: 0.9930\n",
      "Epoch 7/200\n",
      "203/203 [==============================] - 0s 2ms/step - loss: 0.0428 - accuracy: 0.9901 - val_loss: 0.0178 - val_accuracy: 0.9930\n",
      "Epoch 8/200\n",
      "203/203 [==============================] - 1s 2ms/step - loss: 0.0338 - accuracy: 0.9901 - val_loss: 0.0179 - val_accuracy: 0.9930\n",
      "Epoch 9/200\n",
      "203/203 [==============================] - 0s 2ms/step - loss: 0.0441 - accuracy: 0.9906 - val_loss: 0.0179 - val_accuracy: 0.9930\n",
      "Epoch 10/200\n",
      "203/203 [==============================] - 0s 2ms/step - loss: 0.0313 - accuracy: 0.9911 - val_loss: 0.0178 - val_accuracy: 0.9930\n",
      "Epoch 11/200\n",
      "203/203 [==============================] - 0s 2ms/step - loss: 0.0330 - accuracy: 0.9901 - val_loss: 0.0177 - val_accuracy: 0.9930\n",
      "Epoch 12/200\n",
      "203/203 [==============================] - 0s 2ms/step - loss: 0.0315 - accuracy: 0.9911 - val_loss: 0.0179 - val_accuracy: 0.9930\n",
      "Epoch 13/200\n",
      "203/203 [==============================] - 0s 2ms/step - loss: 0.0393 - accuracy: 0.9892 - val_loss: 0.0179 - val_accuracy: 0.9930\n",
      "Epoch 14/200\n",
      "203/203 [==============================] - 0s 2ms/step - loss: 0.0288 - accuracy: 0.9906 - val_loss: 0.0179 - val_accuracy: 0.9930\n",
      "Epoch 15/200\n",
      "203/203 [==============================] - 0s 2ms/step - loss: 0.0380 - accuracy: 0.9901 - val_loss: 0.0179 - val_accuracy: 0.9930\n",
      "Epoch 16/200\n",
      "203/203 [==============================] - 0s 2ms/step - loss: 0.0359 - accuracy: 0.9911 - val_loss: 0.0178 - val_accuracy: 0.9930\n",
      "Epoch 17/200\n",
      "203/203 [==============================] - 0s 2ms/step - loss: 0.0434 - accuracy: 0.9901 - val_loss: 0.0182 - val_accuracy: 0.9930\n",
      "Epoch 18/200\n",
      "203/203 [==============================] - 0s 2ms/step - loss: 0.0311 - accuracy: 0.9901 - val_loss: 0.0181 - val_accuracy: 0.9930\n",
      "Epoch 19/200\n",
      "203/203 [==============================] - 0s 2ms/step - loss: 0.0410 - accuracy: 0.9882 - val_loss: 0.0178 - val_accuracy: 0.9930\n",
      "Epoch 20/200\n",
      "203/203 [==============================] - 0s 2ms/step - loss: 0.0288 - accuracy: 0.9901 - val_loss: 0.0181 - val_accuracy: 0.9930\n",
      "Epoch 21/200\n",
      "203/203 [==============================] - 0s 2ms/step - loss: 0.0413 - accuracy: 0.9901 - val_loss: 0.0180 - val_accuracy: 0.9930\n",
      "Epoch 22/200\n",
      "203/203 [==============================] - 0s 2ms/step - loss: 0.0396 - accuracy: 0.9897 - val_loss: 0.0181 - val_accuracy: 0.9930\n",
      "Epoch 23/200\n",
      "203/203 [==============================] - 0s 2ms/step - loss: 0.0318 - accuracy: 0.9901 - val_loss: 0.0181 - val_accuracy: 0.9930\n",
      "Epoch 24/200\n",
      "203/203 [==============================] - 0s 2ms/step - loss: 0.0386 - accuracy: 0.9887 - val_loss: 0.0183 - val_accuracy: 0.9930\n",
      "Epoch 25/200\n",
      "203/203 [==============================] - 0s 2ms/step - loss: 0.0474 - accuracy: 0.9882 - val_loss: 0.0183 - val_accuracy: 0.9930\n",
      "Epoch 26/200\n",
      "203/203 [==============================] - 0s 2ms/step - loss: 0.0422 - accuracy: 0.9897 - val_loss: 0.0181 - val_accuracy: 0.9930\n",
      "Epoch 27/200\n",
      "203/203 [==============================] - 0s 2ms/step - loss: 0.0296 - accuracy: 0.9916 - val_loss: 0.0180 - val_accuracy: 0.9930\n",
      "Epoch 28/200\n",
      "203/203 [==============================] - 0s 2ms/step - loss: 0.0400 - accuracy: 0.9872 - val_loss: 0.0178 - val_accuracy: 0.9930\n",
      "Epoch 29/200\n",
      "203/203 [==============================] - 0s 2ms/step - loss: 0.0537 - accuracy: 0.9892 - val_loss: 0.0180 - val_accuracy: 0.9930\n",
      "Epoch 30/200\n",
      "203/203 [==============================] - 0s 2ms/step - loss: 0.0405 - accuracy: 0.9911 - val_loss: 0.0177 - val_accuracy: 0.9930\n",
      "Epoch 31/200\n",
      "203/203 [==============================] - 0s 2ms/step - loss: 0.0332 - accuracy: 0.9911 - val_loss: 0.0176 - val_accuracy: 0.9930\n",
      "Epoch 32/200\n",
      "203/203 [==============================] - 0s 2ms/step - loss: 0.0258 - accuracy: 0.9892 - val_loss: 0.0180 - val_accuracy: 0.9930\n",
      "Epoch 33/200\n",
      "203/203 [==============================] - 0s 2ms/step - loss: 0.0405 - accuracy: 0.9882 - val_loss: 0.0179 - val_accuracy: 0.9930\n",
      "Epoch 34/200\n",
      "203/203 [==============================] - 0s 2ms/step - loss: 0.0337 - accuracy: 0.9911 - val_loss: 0.0178 - val_accuracy: 0.9930\n",
      "Epoch 35/200\n",
      "203/203 [==============================] - 0s 2ms/step - loss: 0.0263 - accuracy: 0.9921 - val_loss: 0.0177 - val_accuracy: 0.9930\n",
      "Epoch 36/200\n",
      "203/203 [==============================] - 0s 2ms/step - loss: 0.0379 - accuracy: 0.9901 - val_loss: 0.0180 - val_accuracy: 0.9930\n",
      "Epoch 37/200\n",
      "203/203 [==============================] - 0s 2ms/step - loss: 0.0486 - accuracy: 0.9911 - val_loss: 0.0182 - val_accuracy: 0.9930\n",
      "Epoch 38/200\n",
      "203/203 [==============================] - 0s 2ms/step - loss: 0.0247 - accuracy: 0.9926 - val_loss: 0.0180 - val_accuracy: 0.9930\n",
      "Epoch 39/200\n",
      "203/203 [==============================] - 0s 2ms/step - loss: 0.0446 - accuracy: 0.9887 - val_loss: 0.0181 - val_accuracy: 0.9930\n",
      "Epoch 40/200\n",
      "203/203 [==============================] - 0s 2ms/step - loss: 0.0309 - accuracy: 0.9911 - val_loss: 0.0182 - val_accuracy: 0.9930\n",
      "Epoch 41/200\n",
      "203/203 [==============================] - 0s 2ms/step - loss: 0.0271 - accuracy: 0.9931 - val_loss: 0.0183 - val_accuracy: 0.9930\n",
      "Epoch 42/200\n",
      "203/203 [==============================] - 0s 2ms/step - loss: 0.0357 - accuracy: 0.9906 - val_loss: 0.0186 - val_accuracy: 0.9930\n",
      "Epoch 43/200\n",
      "203/203 [==============================] - 0s 2ms/step - loss: 0.0352 - accuracy: 0.9921 - val_loss: 0.0183 - val_accuracy: 0.9930\n",
      "Epoch 44/200\n",
      "203/203 [==============================] - 0s 2ms/step - loss: 0.0417 - accuracy: 0.9906 - val_loss: 0.0184 - val_accuracy: 0.9930\n",
      "Epoch 45/200\n",
      "203/203 [==============================] - 0s 2ms/step - loss: 0.0309 - accuracy: 0.9911 - val_loss: 0.0183 - val_accuracy: 0.9930\n",
      "Epoch 46/200\n",
      "203/203 [==============================] - 0s 2ms/step - loss: 0.0412 - accuracy: 0.9887 - val_loss: 0.0183 - val_accuracy: 0.9930\n",
      "Epoch 47/200\n",
      "203/203 [==============================] - 0s 2ms/step - loss: 0.0415 - accuracy: 0.9892 - val_loss: 0.0183 - val_accuracy: 0.9930\n",
      "Epoch 48/200\n",
      "203/203 [==============================] - 0s 2ms/step - loss: 0.0291 - accuracy: 0.9892 - val_loss: 0.0181 - val_accuracy: 0.9930\n",
      "Epoch 49/200\n",
      "203/203 [==============================] - 0s 2ms/step - loss: 0.0336 - accuracy: 0.9897 - val_loss: 0.0184 - val_accuracy: 0.9930\n",
      "Epoch 50/200\n",
      "203/203 [==============================] - 0s 2ms/step - loss: 0.0287 - accuracy: 0.9906 - val_loss: 0.0180 - val_accuracy: 0.9930\n",
      "Epoch 51/200\n",
      "203/203 [==============================] - 0s 2ms/step - loss: 0.0404 - accuracy: 0.9892 - val_loss: 0.0182 - val_accuracy: 0.9930\n",
      "Epoch 52/200\n",
      "203/203 [==============================] - 0s 2ms/step - loss: 0.0283 - accuracy: 0.9906 - val_loss: 0.0181 - val_accuracy: 0.9930\n",
      "Epoch 53/200\n",
      "203/203 [==============================] - 0s 2ms/step - loss: 0.0298 - accuracy: 0.9911 - val_loss: 0.0186 - val_accuracy: 0.9930\n",
      "Epoch 54/200\n",
      "203/203 [==============================] - 0s 2ms/step - loss: 0.0294 - accuracy: 0.9926 - val_loss: 0.0182 - val_accuracy: 0.9930\n",
      "Epoch 55/200\n",
      "203/203 [==============================] - 0s 2ms/step - loss: 0.0513 - accuracy: 0.9857 - val_loss: 0.0179 - val_accuracy: 0.9930\n",
      "Epoch 56/200\n",
      "203/203 [==============================] - 0s 2ms/step - loss: 0.0409 - accuracy: 0.9887 - val_loss: 0.0183 - val_accuracy: 0.9930\n",
      "Epoch 57/200\n",
      "203/203 [==============================] - 0s 2ms/step - loss: 0.0328 - accuracy: 0.9897 - val_loss: 0.0181 - val_accuracy: 0.9930\n"
     ]
    },
    {
     "name": "stdout",
     "output_type": "stream",
     "text": [
      "Epoch 58/200\n",
      "203/203 [==============================] - 0s 2ms/step - loss: 0.0297 - accuracy: 0.9931 - val_loss: 0.0181 - val_accuracy: 0.9930\n",
      "Epoch 59/200\n",
      "203/203 [==============================] - 0s 2ms/step - loss: 0.0280 - accuracy: 0.9906 - val_loss: 0.0180 - val_accuracy: 0.9930\n",
      "Epoch 60/200\n",
      "203/203 [==============================] - 0s 2ms/step - loss: 0.0356 - accuracy: 0.9916 - val_loss: 0.0180 - val_accuracy: 0.9930\n",
      "Epoch 61/200\n",
      "203/203 [==============================] - 0s 2ms/step - loss: 0.0337 - accuracy: 0.9897 - val_loss: 0.0180 - val_accuracy: 0.9930\n",
      "Epoch 62/200\n",
      "203/203 [==============================] - 0s 2ms/step - loss: 0.0372 - accuracy: 0.9901 - val_loss: 0.0178 - val_accuracy: 0.9930\n",
      "Epoch 63/200\n",
      "203/203 [==============================] - 0s 2ms/step - loss: 0.0469 - accuracy: 0.9901 - val_loss: 0.0179 - val_accuracy: 0.9930\n",
      "Epoch 64/200\n",
      "203/203 [==============================] - 0s 2ms/step - loss: 0.0285 - accuracy: 0.9906 - val_loss: 0.0181 - val_accuracy: 0.9930\n",
      "Epoch 65/200\n",
      "203/203 [==============================] - 0s 2ms/step - loss: 0.0387 - accuracy: 0.9916 - val_loss: 0.0181 - val_accuracy: 0.9930\n",
      "Epoch 66/200\n",
      "203/203 [==============================] - 0s 2ms/step - loss: 0.0370 - accuracy: 0.9906 - val_loss: 0.0182 - val_accuracy: 0.9930\n",
      "Epoch 67/200\n",
      "203/203 [==============================] - 0s 2ms/step - loss: 0.0244 - accuracy: 0.9906 - val_loss: 0.0180 - val_accuracy: 0.9930\n",
      "Epoch 68/200\n",
      "203/203 [==============================] - 0s 2ms/step - loss: 0.0402 - accuracy: 0.9906 - val_loss: 0.0178 - val_accuracy: 0.9930\n",
      "Epoch 69/200\n",
      "203/203 [==============================] - 0s 2ms/step - loss: 0.0410 - accuracy: 0.9882 - val_loss: 0.0181 - val_accuracy: 0.9930\n",
      "Epoch 70/200\n",
      "203/203 [==============================] - 0s 2ms/step - loss: 0.0325 - accuracy: 0.9911 - val_loss: 0.0180 - val_accuracy: 0.9930\n",
      "Epoch 71/200\n",
      "203/203 [==============================] - 0s 2ms/step - loss: 0.0413 - accuracy: 0.9897 - val_loss: 0.0180 - val_accuracy: 0.9930\n",
      "Epoch 72/200\n",
      "203/203 [==============================] - 0s 2ms/step - loss: 0.0392 - accuracy: 0.9882 - val_loss: 0.0179 - val_accuracy: 0.9930\n",
      "Epoch 73/200\n",
      "203/203 [==============================] - 0s 2ms/step - loss: 0.0487 - accuracy: 0.9877 - val_loss: 0.0181 - val_accuracy: 0.9930\n",
      "Epoch 74/200\n",
      "203/203 [==============================] - 0s 2ms/step - loss: 0.0267 - accuracy: 0.9916 - val_loss: 0.0180 - val_accuracy: 0.9930\n",
      "Epoch 75/200\n",
      "203/203 [==============================] - 0s 2ms/step - loss: 0.0441 - accuracy: 0.9916 - val_loss: 0.0179 - val_accuracy: 0.9930\n",
      "Epoch 76/200\n",
      "203/203 [==============================] - 0s 2ms/step - loss: 0.0395 - accuracy: 0.9916 - val_loss: 0.0180 - val_accuracy: 0.9930\n",
      "Epoch 77/200\n",
      "203/203 [==============================] - 0s 2ms/step - loss: 0.0207 - accuracy: 0.9951 - val_loss: 0.0180 - val_accuracy: 0.9930\n",
      "Epoch 78/200\n",
      "203/203 [==============================] - 1s 3ms/step - loss: 0.0293 - accuracy: 0.9921 - val_loss: 0.0181 - val_accuracy: 0.9930\n",
      "Epoch 79/200\n",
      "203/203 [==============================] - 0s 2ms/step - loss: 0.0328 - accuracy: 0.9906 - val_loss: 0.0180 - val_accuracy: 0.9930\n",
      "Epoch 80/200\n",
      "203/203 [==============================] - 0s 2ms/step - loss: 0.0405 - accuracy: 0.9911 - val_loss: 0.0181 - val_accuracy: 0.9930\n",
      "Epoch 81/200\n",
      "203/203 [==============================] - 0s 2ms/step - loss: 0.0329 - accuracy: 0.9926 - val_loss: 0.0184 - val_accuracy: 0.9930\n",
      "Epoch 82/200\n",
      "203/203 [==============================] - 0s 2ms/step - loss: 0.0393 - accuracy: 0.9882 - val_loss: 0.0181 - val_accuracy: 0.9930\n",
      "Epoch 83/200\n",
      "203/203 [==============================] - 0s 2ms/step - loss: 0.0308 - accuracy: 0.9921 - val_loss: 0.0181 - val_accuracy: 0.9930\n",
      "Epoch 84/200\n",
      "203/203 [==============================] - 0s 2ms/step - loss: 0.0322 - accuracy: 0.9892 - val_loss: 0.0181 - val_accuracy: 0.9930\n",
      "Epoch 85/200\n",
      "203/203 [==============================] - 0s 2ms/step - loss: 0.0453 - accuracy: 0.9897 - val_loss: 0.0183 - val_accuracy: 0.9930\n",
      "Epoch 86/200\n",
      "203/203 [==============================] - 0s 2ms/step - loss: 0.0367 - accuracy: 0.9906 - val_loss: 0.0182 - val_accuracy: 0.9930\n",
      "Epoch 87/200\n",
      "203/203 [==============================] - 0s 2ms/step - loss: 0.0350 - accuracy: 0.9892 - val_loss: 0.0179 - val_accuracy: 0.9930\n",
      "Epoch 88/200\n",
      "203/203 [==============================] - 0s 2ms/step - loss: 0.0337 - accuracy: 0.9897 - val_loss: 0.0180 - val_accuracy: 0.9930\n",
      "Epoch 89/200\n",
      "203/203 [==============================] - 0s 2ms/step - loss: 0.0466 - accuracy: 0.9897 - val_loss: 0.0179 - val_accuracy: 0.9930\n",
      "Epoch 90/200\n",
      "203/203 [==============================] - 0s 2ms/step - loss: 0.0374 - accuracy: 0.9916 - val_loss: 0.0181 - val_accuracy: 0.9930\n",
      "Epoch 91/200\n",
      "203/203 [==============================] - 0s 2ms/step - loss: 0.0465 - accuracy: 0.9887 - val_loss: 0.0183 - val_accuracy: 0.9930\n",
      "Epoch 92/200\n",
      "203/203 [==============================] - 0s 2ms/step - loss: 0.0387 - accuracy: 0.9906 - val_loss: 0.0181 - val_accuracy: 0.9930\n",
      "Epoch 93/200\n",
      "203/203 [==============================] - 0s 2ms/step - loss: 0.0474 - accuracy: 0.9887 - val_loss: 0.0184 - val_accuracy: 0.9930\n",
      "Epoch 94/200\n",
      "203/203 [==============================] - 1s 3ms/step - loss: 0.0324 - accuracy: 0.9911 - val_loss: 0.0180 - val_accuracy: 0.9930\n",
      "Epoch 95/200\n",
      "203/203 [==============================] - 0s 2ms/step - loss: 0.0311 - accuracy: 0.9892 - val_loss: 0.0181 - val_accuracy: 0.9930\n",
      "Epoch 96/200\n",
      "203/203 [==============================] - 0s 2ms/step - loss: 0.0279 - accuracy: 0.9906 - val_loss: 0.0179 - val_accuracy: 0.9930\n",
      "Epoch 97/200\n",
      "203/203 [==============================] - 0s 2ms/step - loss: 0.0350 - accuracy: 0.9916 - val_loss: 0.0182 - val_accuracy: 0.9930\n",
      "Epoch 98/200\n",
      "203/203 [==============================] - 0s 2ms/step - loss: 0.0324 - accuracy: 0.9906 - val_loss: 0.0180 - val_accuracy: 0.9930\n",
      "Epoch 99/200\n",
      "203/203 [==============================] - 0s 2ms/step - loss: 0.0289 - accuracy: 0.9921 - val_loss: 0.0179 - val_accuracy: 0.9930\n",
      "Epoch 100/200\n",
      "203/203 [==============================] - 1s 3ms/step - loss: 0.0581 - accuracy: 0.9877 - val_loss: 0.0182 - val_accuracy: 0.9930\n",
      "Epoch 101/200\n",
      "203/203 [==============================] - 0s 2ms/step - loss: 0.0368 - accuracy: 0.9921 - val_loss: 0.0179 - val_accuracy: 0.9930\n",
      "Epoch 102/200\n",
      "203/203 [==============================] - 0s 2ms/step - loss: 0.0356 - accuracy: 0.9906 - val_loss: 0.0180 - val_accuracy: 0.9930\n",
      "Epoch 103/200\n",
      "203/203 [==============================] - 0s 2ms/step - loss: 0.0278 - accuracy: 0.9901 - val_loss: 0.0180 - val_accuracy: 0.9930\n",
      "Epoch 104/200\n",
      "203/203 [==============================] - 0s 2ms/step - loss: 0.0333 - accuracy: 0.9946 - val_loss: 0.0182 - val_accuracy: 0.9930\n",
      "Epoch 105/200\n",
      "203/203 [==============================] - 0s 2ms/step - loss: 0.0243 - accuracy: 0.9926 - val_loss: 0.0182 - val_accuracy: 0.9930\n",
      "Epoch 106/200\n",
      "203/203 [==============================] - 1s 2ms/step - loss: 0.0399 - accuracy: 0.9911 - val_loss: 0.0185 - val_accuracy: 0.9930\n",
      "Epoch 107/200\n",
      "203/203 [==============================] - 1s 3ms/step - loss: 0.0313 - accuracy: 0.9911 - val_loss: 0.0184 - val_accuracy: 0.9930\n",
      "Epoch 108/200\n",
      "203/203 [==============================] - 0s 2ms/step - loss: 0.0377 - accuracy: 0.9926 - val_loss: 0.0181 - val_accuracy: 0.9930\n",
      "Epoch 109/200\n",
      "203/203 [==============================] - 0s 2ms/step - loss: 0.0440 - accuracy: 0.9906 - val_loss: 0.0185 - val_accuracy: 0.9930\n",
      "Epoch 110/200\n",
      "203/203 [==============================] - 0s 2ms/step - loss: 0.0263 - accuracy: 0.9911 - val_loss: 0.0181 - val_accuracy: 0.9930\n",
      "Epoch 111/200\n",
      "203/203 [==============================] - 0s 2ms/step - loss: 0.0321 - accuracy: 0.9906 - val_loss: 0.0179 - val_accuracy: 0.9930\n",
      "Epoch 112/200\n",
      "203/203 [==============================] - 0s 2ms/step - loss: 0.0366 - accuracy: 0.9901 - val_loss: 0.0182 - val_accuracy: 0.9930\n",
      "Epoch 113/200\n",
      "203/203 [==============================] - 0s 2ms/step - loss: 0.0339 - accuracy: 0.9916 - val_loss: 0.0183 - val_accuracy: 0.9930\n",
      "Epoch 114/200\n",
      "203/203 [==============================] - 0s 2ms/step - loss: 0.0246 - accuracy: 0.9911 - val_loss: 0.0180 - val_accuracy: 0.9930\n"
     ]
    },
    {
     "name": "stdout",
     "output_type": "stream",
     "text": [
      "Epoch 115/200\n",
      "203/203 [==============================] - 0s 2ms/step - loss: 0.0391 - accuracy: 0.9901 - val_loss: 0.0186 - val_accuracy: 0.9930\n",
      "Epoch 116/200\n",
      "203/203 [==============================] - 0s 2ms/step - loss: 0.0353 - accuracy: 0.9897 - val_loss: 0.0184 - val_accuracy: 0.9930\n",
      "Epoch 117/200\n",
      "203/203 [==============================] - 0s 2ms/step - loss: 0.0455 - accuracy: 0.9897 - val_loss: 0.0182 - val_accuracy: 0.9930\n",
      "Epoch 118/200\n",
      "203/203 [==============================] - 0s 2ms/step - loss: 0.0353 - accuracy: 0.9936 - val_loss: 0.0185 - val_accuracy: 0.9930\n",
      "Epoch 119/200\n",
      "203/203 [==============================] - 1s 3ms/step - loss: 0.0340 - accuracy: 0.9906 - val_loss: 0.0181 - val_accuracy: 0.9930\n",
      "Epoch 120/200\n",
      "203/203 [==============================] - 0s 2ms/step - loss: 0.0269 - accuracy: 0.9941 - val_loss: 0.0181 - val_accuracy: 0.9930\n",
      "Epoch 121/200\n",
      "203/203 [==============================] - 1s 3ms/step - loss: 0.0336 - accuracy: 0.9897 - val_loss: 0.0182 - val_accuracy: 0.9930\n",
      "Epoch 122/200\n",
      "203/203 [==============================] - 1s 3ms/step - loss: 0.0385 - accuracy: 0.9906 - val_loss: 0.0182 - val_accuracy: 0.9930\n",
      "Epoch 123/200\n",
      "203/203 [==============================] - 1s 3ms/step - loss: 0.0292 - accuracy: 0.9921 - val_loss: 0.0182 - val_accuracy: 0.9930\n",
      "Epoch 124/200\n",
      "203/203 [==============================] - 0s 2ms/step - loss: 0.0357 - accuracy: 0.9901 - val_loss: 0.0184 - val_accuracy: 0.9930\n",
      "Epoch 125/200\n",
      "203/203 [==============================] - 0s 2ms/step - loss: 0.0440 - accuracy: 0.9887 - val_loss: 0.0182 - val_accuracy: 0.9930\n",
      "Epoch 126/200\n",
      "203/203 [==============================] - 0s 2ms/step - loss: 0.0283 - accuracy: 0.9911 - val_loss: 0.0181 - val_accuracy: 0.9930\n",
      "Epoch 127/200\n",
      "203/203 [==============================] - 0s 2ms/step - loss: 0.0241 - accuracy: 0.9887 - val_loss: 0.0180 - val_accuracy: 0.9930\n",
      "Epoch 128/200\n",
      "203/203 [==============================] - 0s 2ms/step - loss: 0.0348 - accuracy: 0.9911 - val_loss: 0.0180 - val_accuracy: 0.9930\n",
      "Epoch 129/200\n",
      "203/203 [==============================] - 0s 2ms/step - loss: 0.0399 - accuracy: 0.9892 - val_loss: 0.0185 - val_accuracy: 0.9930\n",
      "Epoch 130/200\n",
      "203/203 [==============================] - 0s 2ms/step - loss: 0.0364 - accuracy: 0.9916 - val_loss: 0.0181 - val_accuracy: 0.9930\n",
      "Epoch 131/200\n",
      "203/203 [==============================] - 0s 2ms/step - loss: 0.0262 - accuracy: 0.9926 - val_loss: 0.0181 - val_accuracy: 0.9930\n",
      "Epoch 132/200\n",
      "203/203 [==============================] - 0s 2ms/step - loss: 0.0347 - accuracy: 0.9892 - val_loss: 0.0181 - val_accuracy: 0.9930\n",
      "Epoch 133/200\n",
      "203/203 [==============================] - 0s 2ms/step - loss: 0.0368 - accuracy: 0.9887 - val_loss: 0.0183 - val_accuracy: 0.9930\n",
      "Epoch 134/200\n",
      "203/203 [==============================] - 1s 3ms/step - loss: 0.0388 - accuracy: 0.9911 - val_loss: 0.0184 - val_accuracy: 0.9930\n",
      "Epoch 135/200\n",
      "203/203 [==============================] - 0s 2ms/step - loss: 0.0329 - accuracy: 0.9921 - val_loss: 0.0182 - val_accuracy: 0.9930\n",
      "Epoch 136/200\n",
      "203/203 [==============================] - 1s 4ms/step - loss: 0.0330 - accuracy: 0.9911 - val_loss: 0.0184 - val_accuracy: 0.9930\n",
      "Epoch 137/200\n",
      "203/203 [==============================] - 1s 3ms/step - loss: 0.0413 - accuracy: 0.9892 - val_loss: 0.0188 - val_accuracy: 0.9930\n",
      "Epoch 138/200\n",
      "203/203 [==============================] - 0s 2ms/step - loss: 0.0247 - accuracy: 0.9911 - val_loss: 0.0182 - val_accuracy: 0.9930\n",
      "Epoch 139/200\n",
      "203/203 [==============================] - 0s 2ms/step - loss: 0.0212 - accuracy: 0.9911 - val_loss: 0.0183 - val_accuracy: 0.9930\n",
      "Epoch 140/200\n",
      "203/203 [==============================] - 0s 2ms/step - loss: 0.0440 - accuracy: 0.9901 - val_loss: 0.0183 - val_accuracy: 0.9930\n",
      "Epoch 141/200\n",
      "203/203 [==============================] - 0s 2ms/step - loss: 0.0331 - accuracy: 0.9892 - val_loss: 0.0184 - val_accuracy: 0.9930\n",
      "Epoch 142/200\n",
      "203/203 [==============================] - 0s 2ms/step - loss: 0.0230 - accuracy: 0.9936 - val_loss: 0.0183 - val_accuracy: 0.9930\n",
      "Epoch 143/200\n",
      "203/203 [==============================] - 0s 2ms/step - loss: 0.0274 - accuracy: 0.9916 - val_loss: 0.0183 - val_accuracy: 0.9930\n",
      "Epoch 144/200\n",
      "203/203 [==============================] - 0s 2ms/step - loss: 0.0340 - accuracy: 0.9931 - val_loss: 0.0185 - val_accuracy: 0.9930\n",
      "Epoch 145/200\n",
      "203/203 [==============================] - 0s 2ms/step - loss: 0.0217 - accuracy: 0.9941 - val_loss: 0.0183 - val_accuracy: 0.9930\n",
      "Epoch 146/200\n",
      "203/203 [==============================] - 0s 2ms/step - loss: 0.0428 - accuracy: 0.9897 - val_loss: 0.0184 - val_accuracy: 0.9930\n",
      "Epoch 147/200\n",
      "203/203 [==============================] - 0s 2ms/step - loss: 0.0297 - accuracy: 0.9921 - val_loss: 0.0185 - val_accuracy: 0.9930\n",
      "Epoch 148/200\n",
      "203/203 [==============================] - 0s 2ms/step - loss: 0.0258 - accuracy: 0.9916 - val_loss: 0.0182 - val_accuracy: 0.9930\n",
      "Epoch 149/200\n",
      "203/203 [==============================] - 1s 3ms/step - loss: 0.0275 - accuracy: 0.9926 - val_loss: 0.0184 - val_accuracy: 0.9930\n",
      "Epoch 150/200\n",
      "203/203 [==============================] - 0s 2ms/step - loss: 0.0375 - accuracy: 0.9906 - val_loss: 0.0184 - val_accuracy: 0.9930\n",
      "Epoch 151/200\n",
      "203/203 [==============================] - 0s 2ms/step - loss: 0.0260 - accuracy: 0.9901 - val_loss: 0.0184 - val_accuracy: 0.9930\n",
      "Epoch 152/200\n",
      "203/203 [==============================] - 0s 2ms/step - loss: 0.0329 - accuracy: 0.9906 - val_loss: 0.0181 - val_accuracy: 0.9930\n",
      "Epoch 153/200\n",
      "203/203 [==============================] - 1s 3ms/step - loss: 0.0349 - accuracy: 0.9906 - val_loss: 0.0183 - val_accuracy: 0.9930\n",
      "Epoch 154/200\n",
      "203/203 [==============================] - 0s 2ms/step - loss: 0.0228 - accuracy: 0.9916 - val_loss: 0.0183 - val_accuracy: 0.9930\n",
      "Epoch 155/200\n",
      "203/203 [==============================] - 0s 2ms/step - loss: 0.0325 - accuracy: 0.9921 - val_loss: 0.0183 - val_accuracy: 0.9930\n",
      "Epoch 156/200\n",
      "203/203 [==============================] - 0s 2ms/step - loss: 0.0330 - accuracy: 0.9901 - val_loss: 0.0186 - val_accuracy: 0.9930\n",
      "Epoch 157/200\n",
      "203/203 [==============================] - 0s 2ms/step - loss: 0.0196 - accuracy: 0.9921 - val_loss: 0.0185 - val_accuracy: 0.9930\n",
      "Epoch 158/200\n",
      "203/203 [==============================] - 0s 2ms/step - loss: 0.0314 - accuracy: 0.9906 - val_loss: 0.0183 - val_accuracy: 0.9930\n",
      "Epoch 159/200\n",
      "203/203 [==============================] - 0s 2ms/step - loss: 0.0317 - accuracy: 0.9901 - val_loss: 0.0181 - val_accuracy: 0.9930\n",
      "Epoch 160/200\n",
      "203/203 [==============================] - 0s 2ms/step - loss: 0.0272 - accuracy: 0.9911 - val_loss: 0.0183 - val_accuracy: 0.9930\n",
      "Epoch 161/200\n",
      "203/203 [==============================] - 0s 2ms/step - loss: 0.0324 - accuracy: 0.9921 - val_loss: 0.0184 - val_accuracy: 0.9930\n",
      "Epoch 162/200\n",
      "203/203 [==============================] - 0s 2ms/step - loss: 0.0338 - accuracy: 0.9901 - val_loss: 0.0183 - val_accuracy: 0.9930\n",
      "Epoch 163/200\n",
      "203/203 [==============================] - 1s 3ms/step - loss: 0.0291 - accuracy: 0.9901 - val_loss: 0.0183 - val_accuracy: 0.9930\n",
      "Epoch 164/200\n",
      "203/203 [==============================] - 1s 3ms/step - loss: 0.0265 - accuracy: 0.9911 - val_loss: 0.0182 - val_accuracy: 0.9930\n",
      "Epoch 165/200\n",
      "203/203 [==============================] - 1s 2ms/step - loss: 0.0299 - accuracy: 0.9931 - val_loss: 0.0182 - val_accuracy: 0.9930\n",
      "Epoch 166/200\n",
      "203/203 [==============================] - 0s 2ms/step - loss: 0.0366 - accuracy: 0.9911 - val_loss: 0.0187 - val_accuracy: 0.9930\n",
      "Epoch 167/200\n",
      "203/203 [==============================] - 1s 2ms/step - loss: 0.0343 - accuracy: 0.9911 - val_loss: 0.0185 - val_accuracy: 0.9930\n",
      "Epoch 168/200\n",
      "203/203 [==============================] - 0s 2ms/step - loss: 0.0403 - accuracy: 0.9901 - val_loss: 0.0184 - val_accuracy: 0.9930\n",
      "Epoch 169/200\n",
      "203/203 [==============================] - 0s 2ms/step - loss: 0.0373 - accuracy: 0.9892 - val_loss: 0.0183 - val_accuracy: 0.9930\n",
      "Epoch 170/200\n",
      "203/203 [==============================] - 0s 2ms/step - loss: 0.0271 - accuracy: 0.9926 - val_loss: 0.0180 - val_accuracy: 0.9930\n",
      "Epoch 171/200\n",
      "203/203 [==============================] - 0s 2ms/step - loss: 0.0292 - accuracy: 0.9901 - val_loss: 0.0181 - val_accuracy: 0.9930\n",
      "Epoch 172/200\n",
      "203/203 [==============================] - 0s 2ms/step - loss: 0.0309 - accuracy: 0.9931 - val_loss: 0.0181 - val_accuracy: 0.9930\n",
      "Epoch 173/200\n",
      "203/203 [==============================] - 0s 2ms/step - loss: 0.0353 - accuracy: 0.9892 - val_loss: 0.0183 - val_accuracy: 0.9930\n",
      "Epoch 174/200\n",
      "203/203 [==============================] - 0s 2ms/step - loss: 0.0272 - accuracy: 0.9901 - val_loss: 0.0183 - val_accuracy: 0.9930\n",
      "Epoch 175/200\n",
      "203/203 [==============================] - 0s 2ms/step - loss: 0.0250 - accuracy: 0.9901 - val_loss: 0.0183 - val_accuracy: 0.9930\n",
      "Epoch 176/200\n",
      "203/203 [==============================] - 0s 2ms/step - loss: 0.0358 - accuracy: 0.9911 - val_loss: 0.0186 - val_accuracy: 0.9930\n",
      "Epoch 177/200\n",
      "203/203 [==============================] - 0s 2ms/step - loss: 0.0275 - accuracy: 0.9901 - val_loss: 0.0184 - val_accuracy: 0.9930\n",
      "Epoch 178/200\n",
      "203/203 [==============================] - 1s 3ms/step - loss: 0.0300 - accuracy: 0.9892 - val_loss: 0.0183 - val_accuracy: 0.9930\n",
      "Epoch 179/200\n",
      "203/203 [==============================] - 1s 3ms/step - loss: 0.0335 - accuracy: 0.9901 - val_loss: 0.0184 - val_accuracy: 0.9930\n",
      "Epoch 180/200\n",
      "203/203 [==============================] - 1s 3ms/step - loss: 0.0393 - accuracy: 0.9892 - val_loss: 0.0184 - val_accuracy: 0.9930\n",
      "Epoch 181/200\n",
      "203/203 [==============================] - 1s 3ms/step - loss: 0.0328 - accuracy: 0.9901 - val_loss: 0.0183 - val_accuracy: 0.9930\n",
      "Epoch 182/200\n",
      "203/203 [==============================] - 1s 3ms/step - loss: 0.0361 - accuracy: 0.9897 - val_loss: 0.0184 - val_accuracy: 0.9930\n",
      "Epoch 183/200\n",
      "203/203 [==============================] - 1s 2ms/step - loss: 0.0295 - accuracy: 0.9911 - val_loss: 0.0184 - val_accuracy: 0.9930\n",
      "Epoch 184/200\n",
      "203/203 [==============================] - 0s 2ms/step - loss: 0.0344 - accuracy: 0.9921 - val_loss: 0.0183 - val_accuracy: 0.9930\n",
      "Epoch 185/200\n",
      "203/203 [==============================] - 0s 2ms/step - loss: 0.0268 - accuracy: 0.9931 - val_loss: 0.0183 - val_accuracy: 0.9930\n",
      "Epoch 186/200\n",
      "203/203 [==============================] - 0s 2ms/step - loss: 0.0289 - accuracy: 0.9906 - val_loss: 0.0188 - val_accuracy: 0.9930\n",
      "Epoch 187/200\n",
      "203/203 [==============================] - 1s 3ms/step - loss: 0.0208 - accuracy: 0.9911 - val_loss: 0.0185 - val_accuracy: 0.9930\n",
      "Epoch 188/200\n",
      "203/203 [==============================] - 0s 2ms/step - loss: 0.0354 - accuracy: 0.9906 - val_loss: 0.0186 - val_accuracy: 0.9930\n",
      "Epoch 189/200\n",
      "203/203 [==============================] - 0s 2ms/step - loss: 0.0275 - accuracy: 0.9916 - val_loss: 0.0186 - val_accuracy: 0.9930\n",
      "Epoch 190/200\n",
      "203/203 [==============================] - 0s 2ms/step - loss: 0.0221 - accuracy: 0.9916 - val_loss: 0.0184 - val_accuracy: 0.9930\n",
      "Epoch 191/200\n",
      "203/203 [==============================] - 0s 2ms/step - loss: 0.0304 - accuracy: 0.9911 - val_loss: 0.0183 - val_accuracy: 0.9930\n",
      "Epoch 192/200\n",
      "203/203 [==============================] - 0s 2ms/step - loss: 0.0264 - accuracy: 0.9921 - val_loss: 0.0183 - val_accuracy: 0.9930\n",
      "Epoch 193/200\n",
      "203/203 [==============================] - 0s 2ms/step - loss: 0.0280 - accuracy: 0.9911 - val_loss: 0.0183 - val_accuracy: 0.9930\n",
      "Epoch 194/200\n",
      "203/203 [==============================] - 0s 2ms/step - loss: 0.0346 - accuracy: 0.9906 - val_loss: 0.0182 - val_accuracy: 0.9930\n",
      "Epoch 195/200\n",
      "203/203 [==============================] - 0s 2ms/step - loss: 0.0224 - accuracy: 0.9926 - val_loss: 0.0185 - val_accuracy: 0.9930\n",
      "Epoch 196/200\n",
      "203/203 [==============================] - 1s 3ms/step - loss: 0.0254 - accuracy: 0.9911 - val_loss: 0.0184 - val_accuracy: 0.9930\n",
      "Epoch 197/200\n",
      "203/203 [==============================] - 1s 3ms/step - loss: 0.0334 - accuracy: 0.9926 - val_loss: 0.0184 - val_accuracy: 0.9930\n",
      "Epoch 198/200\n",
      "203/203 [==============================] - 1s 3ms/step - loss: 0.0303 - accuracy: 0.9916 - val_loss: 0.0184 - val_accuracy: 0.9930\n",
      "Epoch 199/200\n",
      "203/203 [==============================] - 0s 2ms/step - loss: 0.0299 - accuracy: 0.9887 - val_loss: 0.0184 - val_accuracy: 0.9930\n",
      "Epoch 200/200\n",
      "203/203 [==============================] - 0s 2ms/step - loss: 0.0377 - accuracy: 0.9906 - val_loss: 0.0188 - val_accuracy: 0.9930\n"
     ]
    }
   ],
   "source": [
    "model_history=classifier.fit(X_train, Y_train,validation_split=0.33, batch_size = 10, epochs = 200)"
   ]
  },
  {
   "cell_type": "code",
   "execution_count": 141,
   "metadata": {},
   "outputs": [
    {
     "data": {
      "image/png": "[encoded data removed]",
      "text/plain": [
       "<Figure size 864x432 with 1 Axes>"
      ]
     },
     "metadata": {
      "needs_background": "light"
     },
     "output_type": "display_data"
    }
   ],
   "source": [
    "# summarize history for accuracy\n",
    "plt.plot(model_history.history['accuracy'])\n",
    "plt.plot(model_history.history['val_accuracy'])\n",
    "plt.title('model accuracy')\n",
    "plt.ylabel('accuracy')\n",
    "plt.xlabel('epoch')\n",
    "plt.legend(['train', 'test'], loc='lower right')\n",
    "plt.savefig('SeluModelAccuracyat200WithDropout.png')\n",
    "plt.show()"
   ]
  },
  {
   "cell_type": "code",
   "execution_count": 142,
   "metadata": {},
   "outputs": [
    {
     "data": {
      "image/png": "[encoded data removed]",
      "text/plain": [
       "<Figure size 864x432 with 1 Axes>"
      ]
     },
     "metadata": {
      "needs_background": "light"
     },
     "output_type": "display_data"
    }
   ],
   "source": [
    "# summarize history for loss\n",
    "plt.plot(model_history.history['loss'])\n",
    "plt.plot(model_history.history['val_loss'])\n",
    "plt.title('model loss')\n",
    "plt.ylabel('loss')\n",
    "plt.xlabel('epoch')\n",
    "plt.legend(['train', 'test'], loc='upper left')\n",
    "plt.savefig('SeluModelLossAt200WithDropout.png')\n",
    "plt.show()"
   ]
  },
  {
   "cell_type": "code",
   "execution_count": 143,
   "metadata": {},
   "outputs": [],
   "source": [
    "Y_pred = np.argmax(classifier.predict(X_test),axis=1)\n",
    "#Y_pred = (Y_pred > 0.5)"
   ]
  },
  {
   "cell_type": "code",
   "execution_count": 144,
   "metadata": {},
   "outputs": [
    {
     "data": {
      "image/png": "[encoded data removed]",
      "text/plain": [
       "<Figure size 864x432 with 2 Axes>"
      ]
     },
     "metadata": {
      "needs_background": "light"
     },
     "output_type": "display_data"
    }
   ],
   "source": [
    "ax= plt.subplot()\n",
    "sns.heatmap(cm,annot=True,ax=ax,fmt='g')\n",
    "ax.set_xlabel('Predicted', fontsize=15)\n",
    "ax.xaxis.set_label_position('bottom')\n",
    "ax.set_ylabel('True', fontsize=15)\n",
    "plt.savefig('SeluPredAt200WithDropout.png')"
   ]
  },
  {
   "cell_type": "code",
   "execution_count": null,
   "metadata": {},
   "outputs": [],
   "source": []
  }
 ],
 "metadata": {
  "kernelspec": {
   "display_name": "Python 3",
   "language": "python",
   "name": "python3"
  },
  "language_info": {
   "codemirror_mode": {
    "name": "ipython",
    "version": 3
   },
   "file_extension": ".py",
   "mimetype": "text/x-python",
   "name": "python",
   "nbconvert_exporter": "python",
   "pygments_lexer": "ipython3",
   "version": "3.8.3"
  }
 },
 "nbformat": 4,
 "nbformat_minor": 4
}
